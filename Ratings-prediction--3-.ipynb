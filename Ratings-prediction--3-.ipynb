{
 "cells": [
  {
   "cell_type": "code",
   "execution_count": 1,
   "id": "ad79d12c",
   "metadata": {},
   "outputs": [],
   "source": [
    "import pandas as pd"
   ]
  },
  {
   "cell_type": "code",
   "execution_count": 2,
   "id": "cfcf815b",
   "metadata": {},
   "outputs": [],
   "source": [
    "data=pd.read_csv('dataset.csv')"
   ]
  },
  {
   "cell_type": "code",
   "execution_count": 3,
   "id": "7a26ac98",
   "metadata": {
    "scrolled": true
   },
   "outputs": [
    {
     "data": {
      "text/html": [
       "<div>\n",
       "<style scoped>\n",
       "    .dataframe tbody tr th:only-of-type {\n",
       "        vertical-align: middle;\n",
       "    }\n",
       "\n",
       "    .dataframe tbody tr th {\n",
       "        vertical-align: top;\n",
       "    }\n",
       "\n",
       "    .dataframe thead th {\n",
       "        text-align: right;\n",
       "    }\n",
       "</style>\n",
       "<table border=\"1\" class=\"dataframe\">\n",
       "  <thead>\n",
       "    <tr style=\"text-align: right;\">\n",
       "      <th></th>\n",
       "      <th>Unnamed: 0</th>\n",
       "      <th>Review</th>\n",
       "      <th>Ratings</th>\n",
       "    </tr>\n",
       "  </thead>\n",
       "  <tbody>\n",
       "    <tr>\n",
       "      <th>0</th>\n",
       "      <td>0</td>\n",
       "      <td>good quality lakme kajal so black and long las...</td>\n",
       "      <td>5</td>\n",
       "    </tr>\n",
       "    <tr>\n",
       "      <th>1</th>\n",
       "      <td>1</td>\n",
       "      <td>you should definitely go for this kajal.. very...</td>\n",
       "      <td>5</td>\n",
       "    </tr>\n",
       "    <tr>\n",
       "      <th>2</th>\n",
       "      <td>2</td>\n",
       "      <td>great. flipkart always gives a safe packing. t...</td>\n",
       "      <td>4</td>\n",
       "    </tr>\n",
       "    <tr>\n",
       "      <th>3</th>\n",
       "      <td>3</td>\n",
       "      <td>the product is original one . packaging was go...</td>\n",
       "      <td>5</td>\n",
       "    </tr>\n",
       "    <tr>\n",
       "      <th>4</th>\n",
       "      <td>4</td>\n",
       "      <td>Super product 👍😍.My mother ordered this as my ...</td>\n",
       "      <td>5</td>\n",
       "    </tr>\n",
       "    <tr>\n",
       "      <th>...</th>\n",
       "      <td>...</td>\n",
       "      <td>...</td>\n",
       "      <td>...</td>\n",
       "    </tr>\n",
       "    <tr>\n",
       "      <th>20459</th>\n",
       "      <td>9984</td>\n",
       "      <td>Good</td>\n",
       "      <td>4</td>\n",
       "    </tr>\n",
       "    <tr>\n",
       "      <th>20460</th>\n",
       "      <td>9985</td>\n",
       "      <td>good phone.. value for money</td>\n",
       "      <td>5</td>\n",
       "    </tr>\n",
       "    <tr>\n",
       "      <th>20461</th>\n",
       "      <td>9986</td>\n",
       "      <td>Good products</td>\n",
       "      <td>5</td>\n",
       "    </tr>\n",
       "    <tr>\n",
       "      <th>20462</th>\n",
       "      <td>9987</td>\n",
       "      <td>good delivery and good mobile phone</td>\n",
       "      <td>5</td>\n",
       "    </tr>\n",
       "    <tr>\n",
       "      <th>20463</th>\n",
       "      <td>9988</td>\n",
       "      <td>Good</td>\n",
       "      <td>3</td>\n",
       "    </tr>\n",
       "  </tbody>\n",
       "</table>\n",
       "<p>20464 rows × 3 columns</p>\n",
       "</div>"
      ],
      "text/plain": [
       "       Unnamed: 0                                             Review  Ratings\n",
       "0               0  good quality lakme kajal so black and long las...        5\n",
       "1               1  you should definitely go for this kajal.. very...        5\n",
       "2               2  great. flipkart always gives a safe packing. t...        4\n",
       "3               3  the product is original one . packaging was go...        5\n",
       "4               4  Super product 👍😍.My mother ordered this as my ...        5\n",
       "...           ...                                                ...      ...\n",
       "20459        9984                                               Good        4\n",
       "20460        9985                       good phone.. value for money        5\n",
       "20461        9986                                      Good products        5\n",
       "20462        9987                good delivery and good mobile phone        5\n",
       "20463        9988                                               Good        3\n",
       "\n",
       "[20464 rows x 3 columns]"
      ]
     },
     "execution_count": 3,
     "metadata": {},
     "output_type": "execute_result"
    }
   ],
   "source": [
    "data"
   ]
  },
  {
   "cell_type": "code",
   "execution_count": 4,
   "id": "6374719b",
   "metadata": {},
   "outputs": [
    {
     "name": "stderr",
     "output_type": "stream",
     "text": [
      "<ipython-input-4-0891b765a168>:1: FutureWarning: Passing a negative integer is deprecated in version 1.0 and will not be supported in future version. Instead, use None to not limit the column width.\n",
      "  pd.set_option('display.max_colwidth', -1)\n"
     ]
    }
   ],
   "source": [
    "pd.set_option('display.max_colwidth', -1)"
   ]
  },
  {
   "cell_type": "code",
   "execution_count": 5,
   "id": "3e196273",
   "metadata": {},
   "outputs": [
    {
     "data": {
      "text/html": [
       "<div>\n",
       "<style scoped>\n",
       "    .dataframe tbody tr th:only-of-type {\n",
       "        vertical-align: middle;\n",
       "    }\n",
       "\n",
       "    .dataframe tbody tr th {\n",
       "        vertical-align: top;\n",
       "    }\n",
       "\n",
       "    .dataframe thead th {\n",
       "        text-align: right;\n",
       "    }\n",
       "</style>\n",
       "<table border=\"1\" class=\"dataframe\">\n",
       "  <thead>\n",
       "    <tr style=\"text-align: right;\">\n",
       "      <th></th>\n",
       "      <th>Unnamed: 0</th>\n",
       "      <th>Review</th>\n",
       "      <th>Ratings</th>\n",
       "      <th>Review_clean</th>\n",
       "    </tr>\n",
       "  </thead>\n",
       "  <tbody>\n",
       "    <tr>\n",
       "      <th>0</th>\n",
       "      <td>0</td>\n",
       "      <td>good quality lakme kajal so black and long lasting good product thanks to flipkart good delivery package is good</td>\n",
       "      <td>5</td>\n",
       "      <td>good quality lakme kajal so black and long lasting good product thanks to flipkart good delivery package is good</td>\n",
       "    </tr>\n",
       "    <tr>\n",
       "      <th>1</th>\n",
       "      <td>1</td>\n",
       "      <td>you should definitely go for this kajal.. very smooth long lasting and best part smudge free.. its not 9 to 5 it's like 9 to the time when u want to remove it.. i wear this daily for my office. awesome one..</td>\n",
       "      <td>5</td>\n",
       "      <td>you should definitely go for this kajal very smooth long lasting and best part smudge free its not  to  its like  to the time when u want to remove it i wear this daily for my office awesome one</td>\n",
       "    </tr>\n",
       "    <tr>\n",
       "      <th>2</th>\n",
       "      <td>2</td>\n",
       "      <td>great. flipkart always gives a safe packing. thank you and fast delivery. thank you.</td>\n",
       "      <td>4</td>\n",
       "      <td>great flipkart always gives a safe packing thank you and fast delivery thank you</td>\n",
       "    </tr>\n",
       "    <tr>\n",
       "      <th>3</th>\n",
       "      <td>3</td>\n",
       "      <td>the product is original one . packaging was good . I got the product in good condition. I am satisfied with my 😊😊</td>\n",
       "      <td>5</td>\n",
       "      <td>the product is original one  packaging was good  i got the product in good condition i am satisfied with my</td>\n",
       "    </tr>\n",
       "    <tr>\n",
       "      <th>4</th>\n",
       "      <td>4</td>\n",
       "      <td>Super product 👍😍.My mother ordered this as my birthday gift and I love it 😍😍😍😍.It is as like the image.</td>\n",
       "      <td>5</td>\n",
       "      <td>super product my mother ordered this as my birthday gift and i love it it is as like the image</td>\n",
       "    </tr>\n",
       "  </tbody>\n",
       "</table>\n",
       "</div>"
      ],
      "text/plain": [
       "   Unnamed: 0  \\\n",
       "0  0            \n",
       "1  1            \n",
       "2  2            \n",
       "3  3            \n",
       "4  4            \n",
       "\n",
       "                                                                                                                                                                                                            Review  \\\n",
       "0  good quality lakme kajal so black and long lasting good product thanks to flipkart good delivery package is good                                                                                                  \n",
       "1  you should definitely go for this kajal.. very smooth long lasting and best part smudge free.. its not 9 to 5 it's like 9 to the time when u want to remove it.. i wear this daily for my office. awesome one..   \n",
       "2  great. flipkart always gives a safe packing. thank you and fast delivery. thank you.                                                                                                                              \n",
       "3  the product is original one . packaging was good . I got the product in good condition. I am satisfied with my 😊😊                                                                                                 \n",
       "4  Super product 👍😍.My mother ordered this as my birthday gift and I love it 😍😍😍😍.It is as like the image.                                                                                                           \n",
       "\n",
       "   Ratings  \\\n",
       "0  5         \n",
       "1  5         \n",
       "2  4         \n",
       "3  5         \n",
       "4  5         \n",
       "\n",
       "                                                                                                                                                                                         Review_clean  \n",
       "0  good quality lakme kajal so black and long lasting good product thanks to flipkart good delivery package is good                                                                                    \n",
       "1  you should definitely go for this kajal very smooth long lasting and best part smudge free its not  to  its like  to the time when u want to remove it i wear this daily for my office awesome one  \n",
       "2  great flipkart always gives a safe packing thank you and fast delivery thank you                                                                                                                    \n",
       "3  the product is original one  packaging was good  i got the product in good condition i am satisfied with my                                                                                         \n",
       "4  super product my mother ordered this as my birthday gift and i love it it is as like the image                                                                                                      "
      ]
     },
     "execution_count": 5,
     "metadata": {},
     "output_type": "execute_result"
    }
   ],
   "source": [
    "import re\n",
    "def  clean_text(df, text_field, new_text_field_name):\n",
    "    df[new_text_field_name] = df[text_field].str.lower()\n",
    "    df[new_text_field_name] = df[new_text_field_name].apply(lambda elem: re.sub(r\"(@[A-Za-z0-9]+)|([^0-9A-Za-z \\t])|(\\w+:\\/\\/\\S+)|^rt|http.+?\", \"\", elem))  \n",
    "    # remove numbers\n",
    "    df[new_text_field_name] = df[new_text_field_name].apply(lambda elem: re.sub(r\"\\d+\", \"\", elem))\n",
    "    \n",
    "    return df\n",
    "data_clean = clean_text(data, 'Review', 'Review_clean')\n",
    "data_clean.head()"
   ]
  },
  {
   "cell_type": "markdown",
   "id": "8f09f5f7",
   "metadata": {},
   "source": [
    "special characters such as hashtags, punctuation and numbers are removed also all the text are converted to lower caste observe\n",
    "difference in Review and Review_clean"
   ]
  },
  {
   "cell_type": "code",
   "execution_count": 6,
   "id": "5a046f45",
   "metadata": {},
   "outputs": [
    {
     "name": "stderr",
     "output_type": "stream",
     "text": [
      "[nltk_data] Downloading package stopwords to\n",
      "[nltk_data]     C:\\Users\\teert\\AppData\\Roaming\\nltk_data...\n",
      "[nltk_data]   Package stopwords is already up-to-date!\n"
     ]
    },
    {
     "data": {
      "text/html": [
       "<div>\n",
       "<style scoped>\n",
       "    .dataframe tbody tr th:only-of-type {\n",
       "        vertical-align: middle;\n",
       "    }\n",
       "\n",
       "    .dataframe tbody tr th {\n",
       "        vertical-align: top;\n",
       "    }\n",
       "\n",
       "    .dataframe thead th {\n",
       "        text-align: right;\n",
       "    }\n",
       "</style>\n",
       "<table border=\"1\" class=\"dataframe\">\n",
       "  <thead>\n",
       "    <tr style=\"text-align: right;\">\n",
       "      <th></th>\n",
       "      <th>Unnamed: 0</th>\n",
       "      <th>Review</th>\n",
       "      <th>Ratings</th>\n",
       "      <th>Review_clean</th>\n",
       "    </tr>\n",
       "  </thead>\n",
       "  <tbody>\n",
       "    <tr>\n",
       "      <th>0</th>\n",
       "      <td>0</td>\n",
       "      <td>good quality lakme kajal so black and long lasting good product thanks to flipkart good delivery package is good</td>\n",
       "      <td>5</td>\n",
       "      <td>good quality lakme kajal black long lasting good product thanks flipkart good delivery package good</td>\n",
       "    </tr>\n",
       "    <tr>\n",
       "      <th>1</th>\n",
       "      <td>1</td>\n",
       "      <td>you should definitely go for this kajal.. very smooth long lasting and best part smudge free.. its not 9 to 5 it's like 9 to the time when u want to remove it.. i wear this daily for my office. awesome one..</td>\n",
       "      <td>5</td>\n",
       "      <td>definitely go kajal smooth long lasting best part smudge free like time u want remove wear daily office awesome one</td>\n",
       "    </tr>\n",
       "    <tr>\n",
       "      <th>2</th>\n",
       "      <td>2</td>\n",
       "      <td>great. flipkart always gives a safe packing. thank you and fast delivery. thank you.</td>\n",
       "      <td>4</td>\n",
       "      <td>great flipkart always gives safe packing thank fast delivery thank</td>\n",
       "    </tr>\n",
       "    <tr>\n",
       "      <th>3</th>\n",
       "      <td>3</td>\n",
       "      <td>the product is original one . packaging was good . I got the product in good condition. I am satisfied with my 😊😊</td>\n",
       "      <td>5</td>\n",
       "      <td>product original one packaging good got product good condition satisfied</td>\n",
       "    </tr>\n",
       "    <tr>\n",
       "      <th>4</th>\n",
       "      <td>4</td>\n",
       "      <td>Super product 👍😍.My mother ordered this as my birthday gift and I love it 😍😍😍😍.It is as like the image.</td>\n",
       "      <td>5</td>\n",
       "      <td>super product mother ordered birthday gift love like image</td>\n",
       "    </tr>\n",
       "  </tbody>\n",
       "</table>\n",
       "</div>"
      ],
      "text/plain": [
       "   Unnamed: 0  \\\n",
       "0  0            \n",
       "1  1            \n",
       "2  2            \n",
       "3  3            \n",
       "4  4            \n",
       "\n",
       "                                                                                                                                                                                                            Review  \\\n",
       "0  good quality lakme kajal so black and long lasting good product thanks to flipkart good delivery package is good                                                                                                  \n",
       "1  you should definitely go for this kajal.. very smooth long lasting and best part smudge free.. its not 9 to 5 it's like 9 to the time when u want to remove it.. i wear this daily for my office. awesome one..   \n",
       "2  great. flipkart always gives a safe packing. thank you and fast delivery. thank you.                                                                                                                              \n",
       "3  the product is original one . packaging was good . I got the product in good condition. I am satisfied with my 😊😊                                                                                                 \n",
       "4  Super product 👍😍.My mother ordered this as my birthday gift and I love it 😍😍😍😍.It is as like the image.                                                                                                           \n",
       "\n",
       "   Ratings  \\\n",
       "0  5         \n",
       "1  5         \n",
       "2  4         \n",
       "3  5         \n",
       "4  5         \n",
       "\n",
       "                                                                                                          Review_clean  \n",
       "0  good quality lakme kajal black long lasting good product thanks flipkart good delivery package good                  \n",
       "1  definitely go kajal smooth long lasting best part smudge free like time u want remove wear daily office awesome one  \n",
       "2  great flipkart always gives safe packing thank fast delivery thank                                                   \n",
       "3  product original one packaging good got product good condition satisfied                                             \n",
       "4  super product mother ordered birthday gift love like image                                                           "
      ]
     },
     "execution_count": 6,
     "metadata": {},
     "output_type": "execute_result"
    }
   ],
   "source": [
    "import nltk.corpus\n",
    "from nltk.corpus import stopwords\n",
    "stop = stopwords.words('english')\n",
    "data_clean['Review_clean'] = data_clean['Review_clean'].apply(lambda x: ' '.join([word for word in x.split() if word not in (stop)]))\n",
    "data_clean.head()"
   ]
  },
  {
   "cell_type": "markdown",
   "id": "62f26439",
   "metadata": {},
   "source": [
    "All the stop words such as and ,to,is,you etc are removed"
   ]
  },
  {
   "cell_type": "code",
   "execution_count": 7,
   "id": "61041d7f",
   "metadata": {},
   "outputs": [
    {
     "data": {
      "text/html": [
       "<div>\n",
       "<style scoped>\n",
       "    .dataframe tbody tr th:only-of-type {\n",
       "        vertical-align: middle;\n",
       "    }\n",
       "\n",
       "    .dataframe tbody tr th {\n",
       "        vertical-align: top;\n",
       "    }\n",
       "\n",
       "    .dataframe thead th {\n",
       "        text-align: right;\n",
       "    }\n",
       "</style>\n",
       "<table border=\"1\" class=\"dataframe\">\n",
       "  <thead>\n",
       "    <tr style=\"text-align: right;\">\n",
       "      <th></th>\n",
       "      <th>Unnamed: 0</th>\n",
       "      <th>Review</th>\n",
       "      <th>Ratings</th>\n",
       "      <th>Review_clean</th>\n",
       "      <th>Review_tokens</th>\n",
       "    </tr>\n",
       "  </thead>\n",
       "  <tbody>\n",
       "    <tr>\n",
       "      <th>0</th>\n",
       "      <td>0</td>\n",
       "      <td>good quality lakme kajal so black and long lasting good product thanks to flipkart good delivery package is good</td>\n",
       "      <td>5</td>\n",
       "      <td>good quality lakme kajal black long lasting good product thanks flipkart good delivery package good</td>\n",
       "      <td>[good, quality, lakme, kajal, black, long, lasting, good, product, thanks, flipkart, good, delivery, package, good]</td>\n",
       "    </tr>\n",
       "    <tr>\n",
       "      <th>1</th>\n",
       "      <td>1</td>\n",
       "      <td>you should definitely go for this kajal.. very smooth long lasting and best part smudge free.. its not 9 to 5 it's like 9 to the time when u want to remove it.. i wear this daily for my office. awesome one..</td>\n",
       "      <td>5</td>\n",
       "      <td>definitely go kajal smooth long lasting best part smudge free like time u want remove wear daily office awesome one</td>\n",
       "      <td>[definitely, go, kajal, smooth, long, lasting, best, part, smudge, free, like, time, u, want, remove, wear, daily, office, awesome, one]</td>\n",
       "    </tr>\n",
       "    <tr>\n",
       "      <th>2</th>\n",
       "      <td>2</td>\n",
       "      <td>great. flipkart always gives a safe packing. thank you and fast delivery. thank you.</td>\n",
       "      <td>4</td>\n",
       "      <td>great flipkart always gives safe packing thank fast delivery thank</td>\n",
       "      <td>[great, flipkart, always, gives, safe, packing, thank, fast, delivery, thank]</td>\n",
       "    </tr>\n",
       "    <tr>\n",
       "      <th>3</th>\n",
       "      <td>3</td>\n",
       "      <td>the product is original one . packaging was good . I got the product in good condition. I am satisfied with my 😊😊</td>\n",
       "      <td>5</td>\n",
       "      <td>product original one packaging good got product good condition satisfied</td>\n",
       "      <td>[product, original, one, packaging, good, got, product, good, condition, satisfied]</td>\n",
       "    </tr>\n",
       "    <tr>\n",
       "      <th>4</th>\n",
       "      <td>4</td>\n",
       "      <td>Super product 👍😍.My mother ordered this as my birthday gift and I love it 😍😍😍😍.It is as like the image.</td>\n",
       "      <td>5</td>\n",
       "      <td>super product mother ordered birthday gift love like image</td>\n",
       "      <td>[super, product, mother, ordered, birthday, gift, love, like, image]</td>\n",
       "    </tr>\n",
       "  </tbody>\n",
       "</table>\n",
       "</div>"
      ],
      "text/plain": [
       "   Unnamed: 0  \\\n",
       "0  0            \n",
       "1  1            \n",
       "2  2            \n",
       "3  3            \n",
       "4  4            \n",
       "\n",
       "                                                                                                                                                                                                            Review  \\\n",
       "0  good quality lakme kajal so black and long lasting good product thanks to flipkart good delivery package is good                                                                                                  \n",
       "1  you should definitely go for this kajal.. very smooth long lasting and best part smudge free.. its not 9 to 5 it's like 9 to the time when u want to remove it.. i wear this daily for my office. awesome one..   \n",
       "2  great. flipkart always gives a safe packing. thank you and fast delivery. thank you.                                                                                                                              \n",
       "3  the product is original one . packaging was good . I got the product in good condition. I am satisfied with my 😊😊                                                                                                 \n",
       "4  Super product 👍😍.My mother ordered this as my birthday gift and I love it 😍😍😍😍.It is as like the image.                                                                                                           \n",
       "\n",
       "   Ratings  \\\n",
       "0  5         \n",
       "1  5         \n",
       "2  4         \n",
       "3  5         \n",
       "4  5         \n",
       "\n",
       "                                                                                                          Review_clean  \\\n",
       "0  good quality lakme kajal black long lasting good product thanks flipkart good delivery package good                   \n",
       "1  definitely go kajal smooth long lasting best part smudge free like time u want remove wear daily office awesome one   \n",
       "2  great flipkart always gives safe packing thank fast delivery thank                                                    \n",
       "3  product original one packaging good got product good condition satisfied                                              \n",
       "4  super product mother ordered birthday gift love like image                                                            \n",
       "\n",
       "                                                                                                                              Review_tokens  \n",
       "0  [good, quality, lakme, kajal, black, long, lasting, good, product, thanks, flipkart, good, delivery, package, good]                       \n",
       "1  [definitely, go, kajal, smooth, long, lasting, best, part, smudge, free, like, time, u, want, remove, wear, daily, office, awesome, one]  \n",
       "2  [great, flipkart, always, gives, safe, packing, thank, fast, delivery, thank]                                                             \n",
       "3  [product, original, one, packaging, good, got, product, good, condition, satisfied]                                                       \n",
       "4  [super, product, mother, ordered, birthday, gift, love, like, image]                                                                      "
      ]
     },
     "execution_count": 7,
     "metadata": {},
     "output_type": "execute_result"
    }
   ],
   "source": [
    "import nltk \n",
    "from nltk.tokenize import sent_tokenize, word_tokenize\n",
    "data_clean['Review_tokens'] = data_clean['Review_clean'].apply(lambda x: word_tokenize(x))\n",
    "data_clean.head()"
   ]
  },
  {
   "cell_type": "markdown",
   "id": "c179b219",
   "metadata": {},
   "source": [
    "Word tokenization performed on the provided data"
   ]
  },
  {
   "cell_type": "code",
   "execution_count": 8,
   "id": "975b97d5",
   "metadata": {},
   "outputs": [
    {
     "data": {
      "text/html": [
       "<div>\n",
       "<style scoped>\n",
       "    .dataframe tbody tr th:only-of-type {\n",
       "        vertical-align: middle;\n",
       "    }\n",
       "\n",
       "    .dataframe tbody tr th {\n",
       "        vertical-align: top;\n",
       "    }\n",
       "\n",
       "    .dataframe thead th {\n",
       "        text-align: right;\n",
       "    }\n",
       "</style>\n",
       "<table border=\"1\" class=\"dataframe\">\n",
       "  <thead>\n",
       "    <tr style=\"text-align: right;\">\n",
       "      <th></th>\n",
       "      <th>Unnamed: 0</th>\n",
       "      <th>Review</th>\n",
       "      <th>Ratings</th>\n",
       "      <th>Review_clean</th>\n",
       "      <th>Review_tokens</th>\n",
       "      <th>Review_tokens_lemma</th>\n",
       "    </tr>\n",
       "  </thead>\n",
       "  <tbody>\n",
       "    <tr>\n",
       "      <th>0</th>\n",
       "      <td>0</td>\n",
       "      <td>good quality lakme kajal so black and long lasting good product thanks to flipkart good delivery package is good</td>\n",
       "      <td>5</td>\n",
       "      <td>good quality lakme kajal black long lasting good product thanks flipkart good delivery package good</td>\n",
       "      <td>[good, quality, lakme, kajal, black, long, lasting, good, product, thanks, flipkart, good, delivery, package, good]</td>\n",
       "      <td>[good, quality, lakme, kajal, black, long, lasting, good, product, thanks, flipkart, good, delivery, package, good]</td>\n",
       "    </tr>\n",
       "    <tr>\n",
       "      <th>1</th>\n",
       "      <td>1</td>\n",
       "      <td>you should definitely go for this kajal.. very smooth long lasting and best part smudge free.. its not 9 to 5 it's like 9 to the time when u want to remove it.. i wear this daily for my office. awesome one..</td>\n",
       "      <td>5</td>\n",
       "      <td>definitely go kajal smooth long lasting best part smudge free like time u want remove wear daily office awesome one</td>\n",
       "      <td>[definitely, go, kajal, smooth, long, lasting, best, part, smudge, free, like, time, u, want, remove, wear, daily, office, awesome, one]</td>\n",
       "      <td>[definitely, go, kajal, smooth, long, lasting, best, part, smudge, free, like, time, u, want, remove, wear, daily, office, awesome, one]</td>\n",
       "    </tr>\n",
       "    <tr>\n",
       "      <th>2</th>\n",
       "      <td>2</td>\n",
       "      <td>great. flipkart always gives a safe packing. thank you and fast delivery. thank you.</td>\n",
       "      <td>4</td>\n",
       "      <td>great flipkart always gives safe packing thank fast delivery thank</td>\n",
       "      <td>[great, flipkart, always, gives, safe, packing, thank, fast, delivery, thank]</td>\n",
       "      <td>[great, flipkart, always, give, safe, packing, thank, fast, delivery, thank]</td>\n",
       "    </tr>\n",
       "    <tr>\n",
       "      <th>3</th>\n",
       "      <td>3</td>\n",
       "      <td>the product is original one . packaging was good . I got the product in good condition. I am satisfied with my 😊😊</td>\n",
       "      <td>5</td>\n",
       "      <td>product original one packaging good got product good condition satisfied</td>\n",
       "      <td>[product, original, one, packaging, good, got, product, good, condition, satisfied]</td>\n",
       "      <td>[product, original, one, packaging, good, got, product, good, condition, satisfied]</td>\n",
       "    </tr>\n",
       "    <tr>\n",
       "      <th>4</th>\n",
       "      <td>4</td>\n",
       "      <td>Super product 👍😍.My mother ordered this as my birthday gift and I love it 😍😍😍😍.It is as like the image.</td>\n",
       "      <td>5</td>\n",
       "      <td>super product mother ordered birthday gift love like image</td>\n",
       "      <td>[super, product, mother, ordered, birthday, gift, love, like, image]</td>\n",
       "      <td>[super, product, mother, ordered, birthday, gift, love, like, image]</td>\n",
       "    </tr>\n",
       "  </tbody>\n",
       "</table>\n",
       "</div>"
      ],
      "text/plain": [
       "   Unnamed: 0  \\\n",
       "0  0            \n",
       "1  1            \n",
       "2  2            \n",
       "3  3            \n",
       "4  4            \n",
       "\n",
       "                                                                                                                                                                                                            Review  \\\n",
       "0  good quality lakme kajal so black and long lasting good product thanks to flipkart good delivery package is good                                                                                                  \n",
       "1  you should definitely go for this kajal.. very smooth long lasting and best part smudge free.. its not 9 to 5 it's like 9 to the time when u want to remove it.. i wear this daily for my office. awesome one..   \n",
       "2  great. flipkart always gives a safe packing. thank you and fast delivery. thank you.                                                                                                                              \n",
       "3  the product is original one . packaging was good . I got the product in good condition. I am satisfied with my 😊😊                                                                                                 \n",
       "4  Super product 👍😍.My mother ordered this as my birthday gift and I love it 😍😍😍😍.It is as like the image.                                                                                                           \n",
       "\n",
       "   Ratings  \\\n",
       "0  5         \n",
       "1  5         \n",
       "2  4         \n",
       "3  5         \n",
       "4  5         \n",
       "\n",
       "                                                                                                          Review_clean  \\\n",
       "0  good quality lakme kajal black long lasting good product thanks flipkart good delivery package good                   \n",
       "1  definitely go kajal smooth long lasting best part smudge free like time u want remove wear daily office awesome one   \n",
       "2  great flipkart always gives safe packing thank fast delivery thank                                                    \n",
       "3  product original one packaging good got product good condition satisfied                                              \n",
       "4  super product mother ordered birthday gift love like image                                                            \n",
       "\n",
       "                                                                                                                              Review_tokens  \\\n",
       "0  [good, quality, lakme, kajal, black, long, lasting, good, product, thanks, flipkart, good, delivery, package, good]                        \n",
       "1  [definitely, go, kajal, smooth, long, lasting, best, part, smudge, free, like, time, u, want, remove, wear, daily, office, awesome, one]   \n",
       "2  [great, flipkart, always, gives, safe, packing, thank, fast, delivery, thank]                                                              \n",
       "3  [product, original, one, packaging, good, got, product, good, condition, satisfied]                                                        \n",
       "4  [super, product, mother, ordered, birthday, gift, love, like, image]                                                                       \n",
       "\n",
       "                                                                                                                        Review_tokens_lemma  \n",
       "0  [good, quality, lakme, kajal, black, long, lasting, good, product, thanks, flipkart, good, delivery, package, good]                       \n",
       "1  [definitely, go, kajal, smooth, long, lasting, best, part, smudge, free, like, time, u, want, remove, wear, daily, office, awesome, one]  \n",
       "2  [great, flipkart, always, give, safe, packing, thank, fast, delivery, thank]                                                              \n",
       "3  [product, original, one, packaging, good, got, product, good, condition, satisfied]                                                       \n",
       "4  [super, product, mother, ordered, birthday, gift, love, like, image]                                                                      "
      ]
     },
     "execution_count": 8,
     "metadata": {},
     "output_type": "execute_result"
    }
   ],
   "source": [
    "from nltk.stem import WordNetLemmatizer\n",
    "def word_lemmatizer(text):\n",
    "    lem_text = [WordNetLemmatizer().lemmatize(i) for i in text]\n",
    "    return lem_text\n",
    "data_clean['Review_tokens_lemma'] = data_clean['Review_tokens'].apply(lambda x: word_lemmatizer(x))\n",
    "data_clean.head()"
   ]
  },
  {
   "cell_type": "code",
   "execution_count": null,
   "id": "0055959d",
   "metadata": {},
   "outputs": [],
   "source": []
  },
  {
   "cell_type": "code",
   "execution_count": 9,
   "id": "e169cdd2",
   "metadata": {},
   "outputs": [
    {
     "data": {
      "text/html": [
       "<div>\n",
       "<style scoped>\n",
       "    .dataframe tbody tr th:only-of-type {\n",
       "        vertical-align: middle;\n",
       "    }\n",
       "\n",
       "    .dataframe tbody tr th {\n",
       "        vertical-align: top;\n",
       "    }\n",
       "\n",
       "    .dataframe thead th {\n",
       "        text-align: right;\n",
       "    }\n",
       "</style>\n",
       "<table border=\"1\" class=\"dataframe\">\n",
       "  <thead>\n",
       "    <tr style=\"text-align: right;\">\n",
       "      <th></th>\n",
       "      <th>Unnamed: 0</th>\n",
       "      <th>Review</th>\n",
       "      <th>Ratings</th>\n",
       "      <th>Review_clean</th>\n",
       "      <th>Review_tokens</th>\n",
       "      <th>Review_tokens_lemma</th>\n",
       "      <th>Review_tokens_pos_tagged</th>\n",
       "    </tr>\n",
       "  </thead>\n",
       "  <tbody>\n",
       "    <tr>\n",
       "      <th>0</th>\n",
       "      <td>0</td>\n",
       "      <td>good quality lakme kajal so black and long lasting good product thanks to flipkart good delivery package is good</td>\n",
       "      <td>5</td>\n",
       "      <td>good quality lakme kajal black long lasting good product thanks flipkart good delivery package good</td>\n",
       "      <td>[good, quality, lakme, kajal, black, long, lasting, good, product, thanks, flipkart, good, delivery, package, good]</td>\n",
       "      <td>[good, quality, lakme, kajal, black, long, lasting, good, product, thanks, flipkart, good, delivery, package, good]</td>\n",
       "      <td>[(good, JJ), (quality, NN), (lakme, NN), (kajal, VB), (black, JJ), (long, JJ), (lasting, NN), (good, JJ), (product, NN), (thanks, NNS), (flipkart, RB), (good, JJ), (delivery, NN), (package, NN), (good, JJ)]</td>\n",
       "    </tr>\n",
       "    <tr>\n",
       "      <th>1</th>\n",
       "      <td>1</td>\n",
       "      <td>you should definitely go for this kajal.. very smooth long lasting and best part smudge free.. its not 9 to 5 it's like 9 to the time when u want to remove it.. i wear this daily for my office. awesome one..</td>\n",
       "      <td>5</td>\n",
       "      <td>definitely go kajal smooth long lasting best part smudge free like time u want remove wear daily office awesome one</td>\n",
       "      <td>[definitely, go, kajal, smooth, long, lasting, best, part, smudge, free, like, time, u, want, remove, wear, daily, office, awesome, one]</td>\n",
       "      <td>[definitely, go, kajal, smooth, long, lasting, best, part, smudge, free, like, time, u, want, remove, wear, daily, office, awesome, one]</td>\n",
       "      <td>[(definitely, RB), (go, VBP), (kajal, JJ), (smooth, RB), (long, RB), (lasting, VBG), (best, JJS), (part, NN), (smudge, VBP), (free, JJ), (like, IN), (time, NN), (u, JJ), (want, VBP), (remove, VB), (wear, JJ), (daily, JJ), (office, NN), (awesome, VBD), (one, CD)]</td>\n",
       "    </tr>\n",
       "    <tr>\n",
       "      <th>2</th>\n",
       "      <td>2</td>\n",
       "      <td>great. flipkart always gives a safe packing. thank you and fast delivery. thank you.</td>\n",
       "      <td>4</td>\n",
       "      <td>great flipkart always gives safe packing thank fast delivery thank</td>\n",
       "      <td>[great, flipkart, always, gives, safe, packing, thank, fast, delivery, thank]</td>\n",
       "      <td>[great, flipkart, always, give, safe, packing, thank, fast, delivery, thank]</td>\n",
       "      <td>[(great, JJ), (flipkart, NN), (always, RB), (give, VBP), (safe, JJ), (packing, VBG), (thank, NN), (fast, JJ), (delivery, NN), (thank, NN)]</td>\n",
       "    </tr>\n",
       "    <tr>\n",
       "      <th>3</th>\n",
       "      <td>3</td>\n",
       "      <td>the product is original one . packaging was good . I got the product in good condition. I am satisfied with my 😊😊</td>\n",
       "      <td>5</td>\n",
       "      <td>product original one packaging good got product good condition satisfied</td>\n",
       "      <td>[product, original, one, packaging, good, got, product, good, condition, satisfied]</td>\n",
       "      <td>[product, original, one, packaging, good, got, product, good, condition, satisfied]</td>\n",
       "      <td>[(product, NN), (original, JJ), (one, CD), (packaging, NN), (good, JJ), (got, VBD), (product, NN), (good, JJ), (condition, NN), (satisfied, VBD)]</td>\n",
       "    </tr>\n",
       "    <tr>\n",
       "      <th>4</th>\n",
       "      <td>4</td>\n",
       "      <td>Super product 👍😍.My mother ordered this as my birthday gift and I love it 😍😍😍😍.It is as like the image.</td>\n",
       "      <td>5</td>\n",
       "      <td>super product mother ordered birthday gift love like image</td>\n",
       "      <td>[super, product, mother, ordered, birthday, gift, love, like, image]</td>\n",
       "      <td>[super, product, mother, ordered, birthday, gift, love, like, image]</td>\n",
       "      <td>[(super, JJ), (product, NN), (mother, NN), (ordered, VBD), (birthday, JJ), (gift, NN), (love, NN), (like, IN), (image, NN)]</td>\n",
       "    </tr>\n",
       "  </tbody>\n",
       "</table>\n",
       "</div>"
      ],
      "text/plain": [
       "   Unnamed: 0  \\\n",
       "0  0            \n",
       "1  1            \n",
       "2  2            \n",
       "3  3            \n",
       "4  4            \n",
       "\n",
       "                                                                                                                                                                                                            Review  \\\n",
       "0  good quality lakme kajal so black and long lasting good product thanks to flipkart good delivery package is good                                                                                                  \n",
       "1  you should definitely go for this kajal.. very smooth long lasting and best part smudge free.. its not 9 to 5 it's like 9 to the time when u want to remove it.. i wear this daily for my office. awesome one..   \n",
       "2  great. flipkart always gives a safe packing. thank you and fast delivery. thank you.                                                                                                                              \n",
       "3  the product is original one . packaging was good . I got the product in good condition. I am satisfied with my 😊😊                                                                                                 \n",
       "4  Super product 👍😍.My mother ordered this as my birthday gift and I love it 😍😍😍😍.It is as like the image.                                                                                                           \n",
       "\n",
       "   Ratings  \\\n",
       "0  5         \n",
       "1  5         \n",
       "2  4         \n",
       "3  5         \n",
       "4  5         \n",
       "\n",
       "                                                                                                          Review_clean  \\\n",
       "0  good quality lakme kajal black long lasting good product thanks flipkart good delivery package good                   \n",
       "1  definitely go kajal smooth long lasting best part smudge free like time u want remove wear daily office awesome one   \n",
       "2  great flipkart always gives safe packing thank fast delivery thank                                                    \n",
       "3  product original one packaging good got product good condition satisfied                                              \n",
       "4  super product mother ordered birthday gift love like image                                                            \n",
       "\n",
       "                                                                                                                              Review_tokens  \\\n",
       "0  [good, quality, lakme, kajal, black, long, lasting, good, product, thanks, flipkart, good, delivery, package, good]                        \n",
       "1  [definitely, go, kajal, smooth, long, lasting, best, part, smudge, free, like, time, u, want, remove, wear, daily, office, awesome, one]   \n",
       "2  [great, flipkart, always, gives, safe, packing, thank, fast, delivery, thank]                                                              \n",
       "3  [product, original, one, packaging, good, got, product, good, condition, satisfied]                                                        \n",
       "4  [super, product, mother, ordered, birthday, gift, love, like, image]                                                                       \n",
       "\n",
       "                                                                                                                        Review_tokens_lemma  \\\n",
       "0  [good, quality, lakme, kajal, black, long, lasting, good, product, thanks, flipkart, good, delivery, package, good]                        \n",
       "1  [definitely, go, kajal, smooth, long, lasting, best, part, smudge, free, like, time, u, want, remove, wear, daily, office, awesome, one]   \n",
       "2  [great, flipkart, always, give, safe, packing, thank, fast, delivery, thank]                                                               \n",
       "3  [product, original, one, packaging, good, got, product, good, condition, satisfied]                                                        \n",
       "4  [super, product, mother, ordered, birthday, gift, love, like, image]                                                                       \n",
       "\n",
       "                                                                                                                                                                                                                                                 Review_tokens_pos_tagged  \n",
       "0  [(good, JJ), (quality, NN), (lakme, NN), (kajal, VB), (black, JJ), (long, JJ), (lasting, NN), (good, JJ), (product, NN), (thanks, NNS), (flipkart, RB), (good, JJ), (delivery, NN), (package, NN), (good, JJ)]                                                          \n",
       "1  [(definitely, RB), (go, VBP), (kajal, JJ), (smooth, RB), (long, RB), (lasting, VBG), (best, JJS), (part, NN), (smudge, VBP), (free, JJ), (like, IN), (time, NN), (u, JJ), (want, VBP), (remove, VB), (wear, JJ), (daily, JJ), (office, NN), (awesome, VBD), (one, CD)]  \n",
       "2  [(great, JJ), (flipkart, NN), (always, RB), (give, VBP), (safe, JJ), (packing, VBG), (thank, NN), (fast, JJ), (delivery, NN), (thank, NN)]                                                                                                                              \n",
       "3  [(product, NN), (original, JJ), (one, CD), (packaging, NN), (good, JJ), (got, VBD), (product, NN), (good, JJ), (condition, NN), (satisfied, VBD)]                                                                                                                       \n",
       "4  [(super, JJ), (product, NN), (mother, NN), (ordered, VBD), (birthday, JJ), (gift, NN), (love, NN), (like, IN), (image, NN)]                                                                                                                                             "
      ]
     },
     "execution_count": 9,
     "metadata": {},
     "output_type": "execute_result"
    }
   ],
   "source": [
    "def word_pos_tagger(text):\n",
    "    pos_tagged_text = nltk.pos_tag(text)\n",
    "    return pos_tagged_text\n",
    "data_clean['Review_tokens_pos_tagged'] = data_clean['Review_tokens_lemma'].apply(lambda x: word_pos_tagger(x))\n",
    "data_clean.head()"
   ]
  },
  {
   "cell_type": "code",
   "execution_count": 32,
   "id": "6b86916f",
   "metadata": {
    "scrolled": true
   },
   "outputs": [
    {
     "data": {
      "text/plain": [
       "0        [(good, JJ), (quality, NN), (lakme, NN), (kajal, VB), (black, JJ), (long, JJ), (lasting, NN), (good, JJ), (product, NN), (thanks, NNS), (flipkart, RB), (good, JJ), (delivery, NN), (package, NN), (good, JJ)]                                                        \n",
       "1        [(definitely, RB), (go, VBP), (kajal, JJ), (smooth, RB), (long, RB), (lasting, VBG), (best, JJS), (part, NN), (smudge, VBP), (free, JJ), (like, IN), (time, NN), (u, JJ), (want, VBP), (remove, VB), (wear, JJ), (daily, JJ), (office, NN), (awesome, VBD), (one, CD)]\n",
       "2        [(great, JJ), (flipkart, NN), (always, RB), (give, VBP), (safe, JJ), (packing, VBG), (thank, NN), (fast, JJ), (delivery, NN), (thank, NN)]                                                                                                                            \n",
       "3        [(product, NN), (original, JJ), (one, CD), (packaging, NN), (good, JJ), (got, VBD), (product, NN), (good, JJ), (condition, NN), (satisfied, VBD)]                                                                                                                     \n",
       "4        [(super, JJ), (product, NN), (mother, NN), (ordered, VBD), (birthday, JJ), (gift, NN), (love, NN), (like, IN), (image, NN)]                                                                                                                                           \n",
       "                                                                    ...                                                                                                                                                                                                        \n",
       "20459    [(good, JJ)]                                                                                                                                                                                                                                                          \n",
       "20460    [(good, JJ), (phone, NN), (value, NN), (money, NN)]                                                                                                                                                                                                                   \n",
       "20461    [(good, JJ), (product, NN)]                                                                                                                                                                                                                                           \n",
       "20462    [(good, JJ), (delivery, NN), (good, JJ), (mobile, NN), (phone, NN)]                                                                                                                                                                                                   \n",
       "20463    [(good, JJ)]                                                                                                                                                                                                                                                          \n",
       "Name: Review_tokens_pos_tagged, Length: 20464, dtype: object"
      ]
     },
     "execution_count": 32,
     "metadata": {},
     "output_type": "execute_result"
    }
   ],
   "source": [
    "data_clean['Review_tokens_pos_tagged']"
   ]
  },
  {
   "cell_type": "code",
   "execution_count": 25,
   "id": "30fe2047",
   "metadata": {},
   "outputs": [],
   "source": [
    "cols_to_drop = ['Review', 'Review_clean', 'Review_tokens','Review_tokens_pos_tagged']\n",
    "train_data = data_clean.drop(cols_to_drop, axis=1)"
   ]
  },
  {
   "cell_type": "code",
   "execution_count": 26,
   "id": "d9482bb4",
   "metadata": {},
   "outputs": [
    {
     "data": {
      "text/html": [
       "<div>\n",
       "<style scoped>\n",
       "    .dataframe tbody tr th:only-of-type {\n",
       "        vertical-align: middle;\n",
       "    }\n",
       "\n",
       "    .dataframe tbody tr th {\n",
       "        vertical-align: top;\n",
       "    }\n",
       "\n",
       "    .dataframe thead th {\n",
       "        text-align: right;\n",
       "    }\n",
       "</style>\n",
       "<table border=\"1\" class=\"dataframe\">\n",
       "  <thead>\n",
       "    <tr style=\"text-align: right;\">\n",
       "      <th></th>\n",
       "      <th>Unnamed: 0</th>\n",
       "      <th>Ratings</th>\n",
       "      <th>Review_tokens_lemma</th>\n",
       "    </tr>\n",
       "  </thead>\n",
       "  <tbody>\n",
       "    <tr>\n",
       "      <th>0</th>\n",
       "      <td>0</td>\n",
       "      <td>5</td>\n",
       "      <td>[good, quality, lakme, kajal, black, long, lasting, good, product, thanks, flipkart, good, delivery, package, good]</td>\n",
       "    </tr>\n",
       "    <tr>\n",
       "      <th>1</th>\n",
       "      <td>1</td>\n",
       "      <td>5</td>\n",
       "      <td>[definitely, go, kajal, smooth, long, lasting, best, part, smudge, free, like, time, u, want, remove, wear, daily, office, awesome, one]</td>\n",
       "    </tr>\n",
       "    <tr>\n",
       "      <th>2</th>\n",
       "      <td>2</td>\n",
       "      <td>4</td>\n",
       "      <td>[great, flipkart, always, give, safe, packing, thank, fast, delivery, thank]</td>\n",
       "    </tr>\n",
       "    <tr>\n",
       "      <th>3</th>\n",
       "      <td>3</td>\n",
       "      <td>5</td>\n",
       "      <td>[product, original, one, packaging, good, got, product, good, condition, satisfied]</td>\n",
       "    </tr>\n",
       "    <tr>\n",
       "      <th>4</th>\n",
       "      <td>4</td>\n",
       "      <td>5</td>\n",
       "      <td>[super, product, mother, ordered, birthday, gift, love, like, image]</td>\n",
       "    </tr>\n",
       "    <tr>\n",
       "      <th>...</th>\n",
       "      <td>...</td>\n",
       "      <td>...</td>\n",
       "      <td>...</td>\n",
       "    </tr>\n",
       "    <tr>\n",
       "      <th>20459</th>\n",
       "      <td>9984</td>\n",
       "      <td>4</td>\n",
       "      <td>[good]</td>\n",
       "    </tr>\n",
       "    <tr>\n",
       "      <th>20460</th>\n",
       "      <td>9985</td>\n",
       "      <td>5</td>\n",
       "      <td>[good, phone, value, money]</td>\n",
       "    </tr>\n",
       "    <tr>\n",
       "      <th>20461</th>\n",
       "      <td>9986</td>\n",
       "      <td>5</td>\n",
       "      <td>[good, product]</td>\n",
       "    </tr>\n",
       "    <tr>\n",
       "      <th>20462</th>\n",
       "      <td>9987</td>\n",
       "      <td>5</td>\n",
       "      <td>[good, delivery, good, mobile, phone]</td>\n",
       "    </tr>\n",
       "    <tr>\n",
       "      <th>20463</th>\n",
       "      <td>9988</td>\n",
       "      <td>3</td>\n",
       "      <td>[good]</td>\n",
       "    </tr>\n",
       "  </tbody>\n",
       "</table>\n",
       "<p>20464 rows × 3 columns</p>\n",
       "</div>"
      ],
      "text/plain": [
       "       Unnamed: 0  Ratings  \\\n",
       "0      0           5         \n",
       "1      1           5         \n",
       "2      2           4         \n",
       "3      3           5         \n",
       "4      4           5         \n",
       "...   ..          ..         \n",
       "20459  9984        4         \n",
       "20460  9985        5         \n",
       "20461  9986        5         \n",
       "20462  9987        5         \n",
       "20463  9988        3         \n",
       "\n",
       "                                                                                                                            Review_tokens_lemma  \n",
       "0      [good, quality, lakme, kajal, black, long, lasting, good, product, thanks, flipkart, good, delivery, package, good]                       \n",
       "1      [definitely, go, kajal, smooth, long, lasting, best, part, smudge, free, like, time, u, want, remove, wear, daily, office, awesome, one]  \n",
       "2      [great, flipkart, always, give, safe, packing, thank, fast, delivery, thank]                                                              \n",
       "3      [product, original, one, packaging, good, got, product, good, condition, satisfied]                                                       \n",
       "4      [super, product, mother, ordered, birthday, gift, love, like, image]                                                                      \n",
       "...                                                                     ...                                                                      \n",
       "20459  [good]                                                                                                                                    \n",
       "20460  [good, phone, value, money]                                                                                                               \n",
       "20461  [good, product]                                                                                                                           \n",
       "20462  [good, delivery, good, mobile, phone]                                                                                                     \n",
       "20463  [good]                                                                                                                                    \n",
       "\n",
       "[20464 rows x 3 columns]"
      ]
     },
     "execution_count": 26,
     "metadata": {},
     "output_type": "execute_result"
    }
   ],
   "source": [
    "train_data"
   ]
  },
  {
   "cell_type": "code",
   "execution_count": null,
   "id": "adec6127",
   "metadata": {},
   "outputs": [],
   "source": [
    "#Review_tokens_pos_tagged"
   ]
  },
  {
   "cell_type": "code",
   "execution_count": 13,
   "id": "608a23c5",
   "metadata": {},
   "outputs": [
    {
     "data": {
      "text/plain": [
       "Unnamed: 0                  0\n",
       "Review                      0\n",
       "Ratings                     0\n",
       "Review_clean                0\n",
       "Review_tokens               0\n",
       "Review_tokens_lemma         0\n",
       "Review_tokens_pos_tagged    0\n",
       "dtype: int64"
      ]
     },
     "execution_count": 13,
     "metadata": {},
     "output_type": "execute_result"
    }
   ],
   "source": [
    "data_clean.isnull().sum()"
   ]
  },
  {
   "cell_type": "code",
   "execution_count": 14,
   "id": "59130cdb",
   "metadata": {},
   "outputs": [
    {
     "data": {
      "text/plain": [
       "(20464, 7)"
      ]
     },
     "execution_count": 14,
     "metadata": {},
     "output_type": "execute_result"
    }
   ],
   "source": [
    "data_clean.shape"
   ]
  },
  {
   "cell_type": "code",
   "execution_count": 15,
   "id": "28c00ca8",
   "metadata": {},
   "outputs": [],
   "source": [
    "import numpy as np\n",
    "import matplotlib.pyplot as plt\n",
    "%matplotlib inline"
   ]
  },
  {
   "cell_type": "code",
   "execution_count": 17,
   "id": "78df58b4",
   "metadata": {},
   "outputs": [
    {
     "data": {
      "text/plain": [
       "(0.0, 6.0)"
      ]
     },
     "execution_count": 17,
     "metadata": {},
     "output_type": "execute_result"
    },
    {
     "data": {
      "image/png": "[encoded data removed]",
      "text/plain": [
       "<Figure size 432x288 with 1 Axes>"
      ]
     },
     "metadata": {
      "needs_background": "light"
     },
     "output_type": "display_data"
    }
   ],
   "source": [
    "rating = data_clean['Ratings']\n",
    "bins = np.arange(7) - 0.5\n",
    "plt.hist(rating, bins=bins, rwidth=0.85)\n",
    "plt.xticks(range(6))\n",
    "plt.ylabel('Reviews')\n",
    "plt.xlabel('Rating')\n",
    "plt.title('Flipkart Rating distribution')\n",
    "plt.xlim([0, 6])"
   ]
  },
  {
   "cell_type": "markdown",
   "id": "78a859dc",
   "metadata": {},
   "source": [
    "Rating 5 has the most highest frequencies"
   ]
  },
  {
   "cell_type": "code",
   "execution_count": 19,
   "id": "f52faaba",
   "metadata": {},
   "outputs": [],
   "source": [
    "from sklearn.feature_extraction.text import TfidfVectorizer\n",
    "from sklearn.model_selection import train_test_split\n",
    "from sklearn.svm import LinearSVC\n",
    "from sklearn.metrics import classification_report"
   ]
  },
  {
   "cell_type": "code",
   "execution_count": 20,
   "id": "f2680a7d",
   "metadata": {},
   "outputs": [],
   "source": [
    "tfidf=TfidfVectorizer(max_features=30000, ngram_range=(1,5), analyzer='char')"
   ]
  },
  {
   "cell_type": "code",
   "execution_count": 38,
   "id": "a9f15361",
   "metadata": {
    "scrolled": true
   },
   "outputs": [
    {
     "ename": "AttributeError",
     "evalue": "'list' object has no attribute 'lower'",
     "output_type": "error",
     "traceback": [
      "\u001b[1;31m---------------------------------------------------------------------------\u001b[0m",
      "\u001b[1;31mAttributeError\u001b[0m                            Traceback (most recent call last)",
      "\u001b[1;32m<ipython-input-38-7c34e2508fd1>\u001b[0m in \u001b[0;36m<module>\u001b[1;34m\u001b[0m\n\u001b[1;32m----> 1\u001b[1;33m \u001b[0mx\u001b[0m\u001b[1;33m=\u001b[0m\u001b[0mtfidf\u001b[0m\u001b[1;33m.\u001b[0m\u001b[0mfit_transform\u001b[0m\u001b[1;33m(\u001b[0m\u001b[1;33m(\u001b[0m\u001b[0mtrain_data\u001b[0m\u001b[1;33m[\u001b[0m\u001b[1;34m'Review_tokens_lemma'\u001b[0m\u001b[1;33m]\u001b[0m\u001b[1;33m)\u001b[0m\u001b[1;33m)\u001b[0m\u001b[1;33m\u001b[0m\u001b[1;33m\u001b[0m\u001b[0m\n\u001b[0m",
      "\u001b[1;32mC:\\ProgramData\\Anaconda3\\lib\\site-packages\\sklearn\\feature_extraction\\text.py\u001b[0m in \u001b[0;36mfit_transform\u001b[1;34m(self, raw_documents, y)\u001b[0m\n\u001b[0;32m   1848\u001b[0m         \"\"\"\n\u001b[0;32m   1849\u001b[0m         \u001b[0mself\u001b[0m\u001b[1;33m.\u001b[0m\u001b[0m_check_params\u001b[0m\u001b[1;33m(\u001b[0m\u001b[1;33m)\u001b[0m\u001b[1;33m\u001b[0m\u001b[1;33m\u001b[0m\u001b[0m\n\u001b[1;32m-> 1850\u001b[1;33m         \u001b[0mX\u001b[0m \u001b[1;33m=\u001b[0m \u001b[0msuper\u001b[0m\u001b[1;33m(\u001b[0m\u001b[1;33m)\u001b[0m\u001b[1;33m.\u001b[0m\u001b[0mfit_transform\u001b[0m\u001b[1;33m(\u001b[0m\u001b[0mraw_documents\u001b[0m\u001b[1;33m)\u001b[0m\u001b[1;33m\u001b[0m\u001b[1;33m\u001b[0m\u001b[0m\n\u001b[0m\u001b[0;32m   1851\u001b[0m         \u001b[0mself\u001b[0m\u001b[1;33m.\u001b[0m\u001b[0m_tfidf\u001b[0m\u001b[1;33m.\u001b[0m\u001b[0mfit\u001b[0m\u001b[1;33m(\u001b[0m\u001b[0mX\u001b[0m\u001b[1;33m)\u001b[0m\u001b[1;33m\u001b[0m\u001b[1;33m\u001b[0m\u001b[0m\n\u001b[0;32m   1852\u001b[0m         \u001b[1;31m# X is already a transformed view of raw_documents so\u001b[0m\u001b[1;33m\u001b[0m\u001b[1;33m\u001b[0m\u001b[1;33m\u001b[0m\u001b[0m\n",
      "\u001b[1;32mC:\\ProgramData\\Anaconda3\\lib\\site-packages\\sklearn\\feature_extraction\\text.py\u001b[0m in \u001b[0;36mfit_transform\u001b[1;34m(self, raw_documents, y)\u001b[0m\n\u001b[0;32m   1201\u001b[0m         \u001b[0mmax_features\u001b[0m \u001b[1;33m=\u001b[0m \u001b[0mself\u001b[0m\u001b[1;33m.\u001b[0m\u001b[0mmax_features\u001b[0m\u001b[1;33m\u001b[0m\u001b[1;33m\u001b[0m\u001b[0m\n\u001b[0;32m   1202\u001b[0m \u001b[1;33m\u001b[0m\u001b[0m\n\u001b[1;32m-> 1203\u001b[1;33m         vocabulary, X = self._count_vocab(raw_documents,\n\u001b[0m\u001b[0;32m   1204\u001b[0m                                           self.fixed_vocabulary_)\n\u001b[0;32m   1205\u001b[0m \u001b[1;33m\u001b[0m\u001b[0m\n",
      "\u001b[1;32mC:\\ProgramData\\Anaconda3\\lib\\site-packages\\sklearn\\feature_extraction\\text.py\u001b[0m in \u001b[0;36m_count_vocab\u001b[1;34m(self, raw_documents, fixed_vocab)\u001b[0m\n\u001b[0;32m   1113\u001b[0m         \u001b[1;32mfor\u001b[0m \u001b[0mdoc\u001b[0m \u001b[1;32min\u001b[0m \u001b[0mraw_documents\u001b[0m\u001b[1;33m:\u001b[0m\u001b[1;33m\u001b[0m\u001b[1;33m\u001b[0m\u001b[0m\n\u001b[0;32m   1114\u001b[0m             \u001b[0mfeature_counter\u001b[0m \u001b[1;33m=\u001b[0m \u001b[1;33m{\u001b[0m\u001b[1;33m}\u001b[0m\u001b[1;33m\u001b[0m\u001b[1;33m\u001b[0m\u001b[0m\n\u001b[1;32m-> 1115\u001b[1;33m             \u001b[1;32mfor\u001b[0m \u001b[0mfeature\u001b[0m \u001b[1;32min\u001b[0m \u001b[0manalyze\u001b[0m\u001b[1;33m(\u001b[0m\u001b[0mdoc\u001b[0m\u001b[1;33m)\u001b[0m\u001b[1;33m:\u001b[0m\u001b[1;33m\u001b[0m\u001b[1;33m\u001b[0m\u001b[0m\n\u001b[0m\u001b[0;32m   1116\u001b[0m                 \u001b[1;32mtry\u001b[0m\u001b[1;33m:\u001b[0m\u001b[1;33m\u001b[0m\u001b[1;33m\u001b[0m\u001b[0m\n\u001b[0;32m   1117\u001b[0m                     \u001b[0mfeature_idx\u001b[0m \u001b[1;33m=\u001b[0m \u001b[0mvocabulary\u001b[0m\u001b[1;33m[\u001b[0m\u001b[0mfeature\u001b[0m\u001b[1;33m]\u001b[0m\u001b[1;33m\u001b[0m\u001b[1;33m\u001b[0m\u001b[0m\n",
      "\u001b[1;32mC:\\ProgramData\\Anaconda3\\lib\\site-packages\\sklearn\\feature_extraction\\text.py\u001b[0m in \u001b[0;36m_analyze\u001b[1;34m(doc, analyzer, tokenizer, ngrams, preprocessor, decoder, stop_words)\u001b[0m\n\u001b[0;32m    102\u001b[0m     \u001b[1;32melse\u001b[0m\u001b[1;33m:\u001b[0m\u001b[1;33m\u001b[0m\u001b[1;33m\u001b[0m\u001b[0m\n\u001b[0;32m    103\u001b[0m         \u001b[1;32mif\u001b[0m \u001b[0mpreprocessor\u001b[0m \u001b[1;32mis\u001b[0m \u001b[1;32mnot\u001b[0m \u001b[1;32mNone\u001b[0m\u001b[1;33m:\u001b[0m\u001b[1;33m\u001b[0m\u001b[1;33m\u001b[0m\u001b[0m\n\u001b[1;32m--> 104\u001b[1;33m             \u001b[0mdoc\u001b[0m \u001b[1;33m=\u001b[0m \u001b[0mpreprocessor\u001b[0m\u001b[1;33m(\u001b[0m\u001b[0mdoc\u001b[0m\u001b[1;33m)\u001b[0m\u001b[1;33m\u001b[0m\u001b[1;33m\u001b[0m\u001b[0m\n\u001b[0m\u001b[0;32m    105\u001b[0m         \u001b[1;32mif\u001b[0m \u001b[0mtokenizer\u001b[0m \u001b[1;32mis\u001b[0m \u001b[1;32mnot\u001b[0m \u001b[1;32mNone\u001b[0m\u001b[1;33m:\u001b[0m\u001b[1;33m\u001b[0m\u001b[1;33m\u001b[0m\u001b[0m\n\u001b[0;32m    106\u001b[0m             \u001b[0mdoc\u001b[0m \u001b[1;33m=\u001b[0m \u001b[0mtokenizer\u001b[0m\u001b[1;33m(\u001b[0m\u001b[0mdoc\u001b[0m\u001b[1;33m)\u001b[0m\u001b[1;33m\u001b[0m\u001b[1;33m\u001b[0m\u001b[0m\n",
      "\u001b[1;32mC:\\ProgramData\\Anaconda3\\lib\\site-packages\\sklearn\\feature_extraction\\text.py\u001b[0m in \u001b[0;36m_preprocess\u001b[1;34m(doc, accent_function, lower)\u001b[0m\n\u001b[0;32m     67\u001b[0m     \"\"\"\n\u001b[0;32m     68\u001b[0m     \u001b[1;32mif\u001b[0m \u001b[0mlower\u001b[0m\u001b[1;33m:\u001b[0m\u001b[1;33m\u001b[0m\u001b[1;33m\u001b[0m\u001b[0m\n\u001b[1;32m---> 69\u001b[1;33m         \u001b[0mdoc\u001b[0m \u001b[1;33m=\u001b[0m \u001b[0mdoc\u001b[0m\u001b[1;33m.\u001b[0m\u001b[0mlower\u001b[0m\u001b[1;33m(\u001b[0m\u001b[1;33m)\u001b[0m\u001b[1;33m\u001b[0m\u001b[1;33m\u001b[0m\u001b[0m\n\u001b[0m\u001b[0;32m     70\u001b[0m     \u001b[1;32mif\u001b[0m \u001b[0maccent_function\u001b[0m \u001b[1;32mis\u001b[0m \u001b[1;32mnot\u001b[0m \u001b[1;32mNone\u001b[0m\u001b[1;33m:\u001b[0m\u001b[1;33m\u001b[0m\u001b[1;33m\u001b[0m\u001b[0m\n\u001b[0;32m     71\u001b[0m         \u001b[0mdoc\u001b[0m \u001b[1;33m=\u001b[0m \u001b[0maccent_function\u001b[0m\u001b[1;33m(\u001b[0m\u001b[0mdoc\u001b[0m\u001b[1;33m)\u001b[0m\u001b[1;33m\u001b[0m\u001b[1;33m\u001b[0m\u001b[0m\n",
      "\u001b[1;31mAttributeError\u001b[0m: 'list' object has no attribute 'lower'"
     ]
    }
   ],
   "source": [
    "x=tfidf.fit_transform((train_data['Review_tokens_lemma']))"
   ]
  },
  {
   "cell_type": "code",
   "execution_count": 32,
   "id": "2e8f4ce1",
   "metadata": {},
   "outputs": [
    {
     "data": {
      "text/plain": [
       "pandas.core.series.Series"
      ]
     },
     "execution_count": 32,
     "metadata": {},
     "output_type": "execute_result"
    }
   ],
   "source": [
    "type(data_clean['Review_tokens_lemma'])"
   ]
  },
  {
   "cell_type": "code",
   "execution_count": 74,
   "id": "b470a50e",
   "metadata": {},
   "outputs": [
    {
     "data": {
      "text/plain": [
       "(20464, 1244)"
      ]
     },
     "execution_count": 74,
     "metadata": {},
     "output_type": "execute_result"
    }
   ],
   "source": [
    "X.shape"
   ]
  },
  {
   "cell_type": "code",
   "execution_count": 75,
   "id": "d5f8d5b3",
   "metadata": {},
   "outputs": [
    {
     "data": {
      "text/plain": [
       "(20464,)"
      ]
     },
     "execution_count": 75,
     "metadata": {},
     "output_type": "execute_result"
    }
   ],
   "source": [
    "y.shape"
   ]
  },
  {
   "cell_type": "code",
   "execution_count": 76,
   "id": "0ecde518",
   "metadata": {},
   "outputs": [],
   "source": [
    "X_train, X_test,y_train,y_test=train_test_split(X,y,test_size=0.2,random_state=0)"
   ]
  },
  {
   "cell_type": "code",
   "execution_count": 77,
   "id": "a13666c9",
   "metadata": {},
   "outputs": [
    {
     "data": {
      "text/plain": [
       "(16371, 1244)"
      ]
     },
     "execution_count": 77,
     "metadata": {},
     "output_type": "execute_result"
    }
   ],
   "source": [
    "X_train.shape"
   ]
  },
  {
   "cell_type": "code",
   "execution_count": 78,
   "id": "99d71450",
   "metadata": {},
   "outputs": [
    {
     "data": {
      "text/plain": [
       "(16371,)"
      ]
     },
     "execution_count": 78,
     "metadata": {},
     "output_type": "execute_result"
    }
   ],
   "source": [
    "y_train.shape"
   ]
  },
  {
   "cell_type": "code",
   "execution_count": 80,
   "id": "d7520f1e",
   "metadata": {},
   "outputs": [
    {
     "data": {
      "text/plain": [
       "LinearSVC(C=20, class_weight='balanced')"
      ]
     },
     "execution_count": 80,
     "metadata": {},
     "output_type": "execute_result"
    }
   ],
   "source": [
    "clf=LinearSVC(C=20, class_weight='balanced')\n",
    "clf.fit(X_train,y_train)"
   ]
  },
  {
   "cell_type": "code",
   "execution_count": 81,
   "id": "84d463a1",
   "metadata": {},
   "outputs": [],
   "source": [
    "y_pred=clf.predict(X_test)"
   ]
  },
  {
   "cell_type": "code",
   "execution_count": 82,
   "id": "2cc0f28f",
   "metadata": {},
   "outputs": [
    {
     "name": "stdout",
     "output_type": "stream",
     "text": [
      "              precision    recall  f1-score   support\n",
      "\n",
      "           1       0.00      0.00      0.00       127\n",
      "           2       0.00      0.00      0.00        46\n",
      "           3       0.00      0.00      0.00       249\n",
      "           4       0.00      0.00      0.00       834\n",
      "           5       0.69      1.00      0.82      2837\n",
      "\n",
      "    accuracy                           0.69      4093\n",
      "   macro avg       0.14      0.20      0.16      4093\n",
      "weighted avg       0.48      0.69      0.57      4093\n",
      "\n"
     ]
    }
   ],
   "source": [
    "print(classification_report(y_test,y_pred))"
   ]
  },
  {
   "cell_type": "code",
   "execution_count": null,
   "id": "897c2b5b",
   "metadata": {},
   "outputs": [],
   "source": []
  },
  {
   "cell_type": "code",
   "execution_count": null,
   "id": "305d8e83",
   "metadata": {},
   "outputs": [],
   "source": []
  },
  {
   "cell_type": "code",
   "execution_count": null,
   "id": "3aaf1fd1",
   "metadata": {},
   "outputs": [],
   "source": []
  },
  {
   "cell_type": "code",
   "execution_count": null,
   "id": "281cb202",
   "metadata": {},
   "outputs": [],
   "source": []
  }
 ],
 "metadata": {
  "kernelspec": {
   "display_name": "Python 3",
   "language": "python",
   "name": "python3"
  },
  "language_info": {
   "codemirror_mode": {
    "name": "ipython",
    "version": 3
   },
   "file_extension": ".py",
   "mimetype": "text/x-python",
   "name": "python",
   "nbconvert_exporter": "python",
   "pygments_lexer": "ipython3",
   "version": "3.8.8"
  }
 },
 "nbformat": 4,
 "nbformat_minor": 5
}
