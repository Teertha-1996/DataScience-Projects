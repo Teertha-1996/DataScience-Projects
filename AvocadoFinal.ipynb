{
 "cells": [
  {
   "cell_type": "markdown",
   "metadata": {},
   "source": [
    "# Avocado Data Analysis"
   ]
  },
  {
   "cell_type": "markdown",
   "metadata": {},
   "source": [
    "## Data Description\n",
    "In the Avocado dataset we have to predict the Average price using Regression model from the provided Data."
   ]
  },
  {
   "cell_type": "markdown",
   "metadata": {},
   "source": [
    "Import required libraries"
   ]
  },
  {
   "cell_type": "code",
   "execution_count": 220,
   "metadata": {},
   "outputs": [],
   "source": [
    "import pandas as pd\n",
    "import numpy as np\n",
    "import sklearn\n",
    "import seaborn as sns\n",
    "import matplotlib.pyplot as plt\n",
    "import warnings \n",
    "warnings.filterwarnings('ignore')\n",
    "from sklearn.model_selection import train_test_split\n",
    "from sklearn.metrics import r2_score,mean_squared_error,mean_absolute_error\n",
    "from sklearn.linear_model import LinearRegression\n",
    "from sklearn.ensemble import RandomForestRegressor\n",
    "from sklearn.tree import DecisionTreeRegressor\n",
    "from sklearn.svm import SVR\n",
    "from sklearn.model_selection import GridSearchCV"
   ]
  },
  {
   "cell_type": "markdown",
   "metadata": {},
   "source": [
    "## Loading the dataset"
   ]
  },
  {
   "cell_type": "code",
   "execution_count": 221,
   "metadata": {},
   "outputs": [
    {
     "data": {
      "text/html": [
       "<div>\n",
       "<style scoped>\n",
       "    .dataframe tbody tr th:only-of-type {\n",
       "        vertical-align: middle;\n",
       "    }\n",
       "\n",
       "    .dataframe tbody tr th {\n",
       "        vertical-align: top;\n",
       "    }\n",
       "\n",
       "    .dataframe thead th {\n",
       "        text-align: right;\n",
       "    }\n",
       "</style>\n",
       "<table border=\"1\" class=\"dataframe\">\n",
       "  <thead>\n",
       "    <tr style=\"text-align: right;\">\n",
       "      <th></th>\n",
       "      <th>Unnamed: 0</th>\n",
       "      <th>Date</th>\n",
       "      <th>AveragePrice</th>\n",
       "      <th>Total Volume</th>\n",
       "      <th>4046</th>\n",
       "      <th>4225</th>\n",
       "      <th>4770</th>\n",
       "      <th>Total Bags</th>\n",
       "      <th>Small Bags</th>\n",
       "      <th>Large Bags</th>\n",
       "      <th>XLarge Bags</th>\n",
       "      <th>type</th>\n",
       "      <th>year</th>\n",
       "      <th>region</th>\n",
       "    </tr>\n",
       "  </thead>\n",
       "  <tbody>\n",
       "    <tr>\n",
       "      <th>0</th>\n",
       "      <td>0.0</td>\n",
       "      <td>27-12-2015</td>\n",
       "      <td>1.33</td>\n",
       "      <td>64236.62</td>\n",
       "      <td>1036.74</td>\n",
       "      <td>54454.85</td>\n",
       "      <td>48.16</td>\n",
       "      <td>8696.87</td>\n",
       "      <td>8603.62</td>\n",
       "      <td>93.25</td>\n",
       "      <td>0.0</td>\n",
       "      <td>conventional</td>\n",
       "      <td>2015.0</td>\n",
       "      <td>Albany</td>\n",
       "    </tr>\n",
       "    <tr>\n",
       "      <th>1</th>\n",
       "      <td>1.0</td>\n",
       "      <td>20-12-2015</td>\n",
       "      <td>1.35</td>\n",
       "      <td>54876.98</td>\n",
       "      <td>674.28</td>\n",
       "      <td>44638.81</td>\n",
       "      <td>58.33</td>\n",
       "      <td>9505.56</td>\n",
       "      <td>9408.07</td>\n",
       "      <td>97.49</td>\n",
       "      <td>0.0</td>\n",
       "      <td>conventional</td>\n",
       "      <td>2015.0</td>\n",
       "      <td>Albany</td>\n",
       "    </tr>\n",
       "    <tr>\n",
       "      <th>2</th>\n",
       "      <td>2.0</td>\n",
       "      <td>13-12-2015</td>\n",
       "      <td>0.93</td>\n",
       "      <td>118220.22</td>\n",
       "      <td>794.70</td>\n",
       "      <td>109149.67</td>\n",
       "      <td>130.50</td>\n",
       "      <td>8145.35</td>\n",
       "      <td>8042.21</td>\n",
       "      <td>103.14</td>\n",
       "      <td>0.0</td>\n",
       "      <td>conventional</td>\n",
       "      <td>2015.0</td>\n",
       "      <td>Albany</td>\n",
       "    </tr>\n",
       "    <tr>\n",
       "      <th>3</th>\n",
       "      <td>3.0</td>\n",
       "      <td>06-12-2015</td>\n",
       "      <td>1.08</td>\n",
       "      <td>78992.15</td>\n",
       "      <td>1132.00</td>\n",
       "      <td>71976.41</td>\n",
       "      <td>72.58</td>\n",
       "      <td>5811.16</td>\n",
       "      <td>5677.40</td>\n",
       "      <td>133.76</td>\n",
       "      <td>0.0</td>\n",
       "      <td>conventional</td>\n",
       "      <td>2015.0</td>\n",
       "      <td>Albany</td>\n",
       "    </tr>\n",
       "    <tr>\n",
       "      <th>4</th>\n",
       "      <td>4.0</td>\n",
       "      <td>29-11-2015</td>\n",
       "      <td>1.28</td>\n",
       "      <td>51039.60</td>\n",
       "      <td>941.48</td>\n",
       "      <td>43838.39</td>\n",
       "      <td>75.78</td>\n",
       "      <td>6183.95</td>\n",
       "      <td>5986.26</td>\n",
       "      <td>197.69</td>\n",
       "      <td>0.0</td>\n",
       "      <td>conventional</td>\n",
       "      <td>2015.0</td>\n",
       "      <td>Albany</td>\n",
       "    </tr>\n",
       "  </tbody>\n",
       "</table>\n",
       "</div>"
      ],
      "text/plain": [
       "   Unnamed: 0        Date  AveragePrice  Total Volume     4046       4225  \\\n",
       "0         0.0  27-12-2015          1.33      64236.62  1036.74   54454.85   \n",
       "1         1.0  20-12-2015          1.35      54876.98   674.28   44638.81   \n",
       "2         2.0  13-12-2015          0.93     118220.22   794.70  109149.67   \n",
       "3         3.0  06-12-2015          1.08      78992.15  1132.00   71976.41   \n",
       "4         4.0  29-11-2015          1.28      51039.60   941.48   43838.39   \n",
       "\n",
       "     4770  Total Bags  Small Bags  Large Bags  XLarge Bags          type  \\\n",
       "0   48.16     8696.87     8603.62       93.25          0.0  conventional   \n",
       "1   58.33     9505.56     9408.07       97.49          0.0  conventional   \n",
       "2  130.50     8145.35     8042.21      103.14          0.0  conventional   \n",
       "3   72.58     5811.16     5677.40      133.76          0.0  conventional   \n",
       "4   75.78     6183.95     5986.26      197.69          0.0  conventional   \n",
       "\n",
       "     year  region  \n",
       "0  2015.0  Albany  \n",
       "1  2015.0  Albany  \n",
       "2  2015.0  Albany  \n",
       "3  2015.0  Albany  \n",
       "4  2015.0  Albany  "
      ]
     },
     "execution_count": 221,
     "metadata": {},
     "output_type": "execute_result"
    }
   ],
   "source": [
    "df=pd.read_csv('Avocado.csv')\n",
    "df.head()"
   ]
  },
  {
   "cell_type": "markdown",
   "metadata": {},
   "source": [
    "Data has been imported and we can see the first 5 rows of the data using df.head() function"
   ]
  },
  {
   "cell_type": "code",
   "execution_count": 222,
   "metadata": {},
   "outputs": [
    {
     "data": {
      "text/plain": [
       "(16468, 14)"
      ]
     },
     "execution_count": 222,
     "metadata": {},
     "output_type": "execute_result"
    }
   ],
   "source": [
    "df.shape"
   ]
  },
  {
   "cell_type": "markdown",
   "metadata": {},
   "source": [
    "This is the shape of data"
   ]
  },
  {
   "cell_type": "code",
   "execution_count": 223,
   "metadata": {},
   "outputs": [
    {
     "data": {
      "text/plain": [
       "Unnamed: 0      float64\n",
       "Date             object\n",
       "AveragePrice    float64\n",
       "Total Volume    float64\n",
       "4046            float64\n",
       "4225            float64\n",
       "4770            float64\n",
       "Total Bags      float64\n",
       "Small Bags      float64\n",
       "Large Bags      float64\n",
       "XLarge Bags     float64\n",
       "type             object\n",
       "year            float64\n",
       "region           object\n",
       "dtype: object"
      ]
     },
     "execution_count": 223,
     "metadata": {},
     "output_type": "execute_result"
    }
   ],
   "source": [
    "df.dtypes"
   ]
  },
  {
   "cell_type": "markdown",
   "metadata": {},
   "source": [
    "These are the datatypes of each columns which includes float and object values "
   ]
  },
  {
   "cell_type": "code",
   "execution_count": 224,
   "metadata": {},
   "outputs": [
    {
     "data": {
      "text/plain": [
       "Index(['Unnamed: 0', 'Date', 'AveragePrice', 'Total Volume', '4046', '4225',\n",
       "       '4770', 'Total Bags', 'Small Bags', 'Large Bags', 'XLarge Bags', 'type',\n",
       "       'year', 'region'],\n",
       "      dtype='object')"
      ]
     },
     "execution_count": 224,
     "metadata": {},
     "output_type": "execute_result"
    }
   ],
   "source": [
    "df.columns"
   ]
  },
  {
   "cell_type": "markdown",
   "metadata": {},
   "source": [
    "These are the columns of data"
   ]
  },
  {
   "cell_type": "code",
   "execution_count": 225,
   "metadata": {},
   "outputs": [
    {
     "name": "stdout",
     "output_type": "stream",
     "text": [
      "<class 'pandas.core.frame.DataFrame'>\n",
      "RangeIndex: 16468 entries, 0 to 16467\n",
      "Data columns (total 14 columns):\n",
      " #   Column        Non-Null Count  Dtype  \n",
      "---  ------        --------------  -----  \n",
      " 0   Unnamed: 0    1517 non-null   float64\n",
      " 1   Date          1517 non-null   object \n",
      " 2   AveragePrice  1517 non-null   float64\n",
      " 3   Total Volume  1517 non-null   float64\n",
      " 4   4046          1517 non-null   float64\n",
      " 5   4225          1517 non-null   float64\n",
      " 6   4770          1517 non-null   float64\n",
      " 7   Total Bags    1517 non-null   float64\n",
      " 8   Small Bags    1517 non-null   float64\n",
      " 9   Large Bags    1517 non-null   float64\n",
      " 10  XLarge Bags   1517 non-null   float64\n",
      " 11  type          1517 non-null   object \n",
      " 12  year          1517 non-null   float64\n",
      " 13  region        1517 non-null   object \n",
      "dtypes: float64(11), object(3)\n",
      "memory usage: 1.8+ MB\n"
     ]
    }
   ],
   "source": [
    "df.info()"
   ]
  },
  {
   "cell_type": "code",
   "execution_count": 226,
   "metadata": {},
   "outputs": [
    {
     "data": {
      "text/plain": [
       "Unnamed: 0      14951\n",
       "Date            14951\n",
       "AveragePrice    14951\n",
       "Total Volume    14951\n",
       "4046            14951\n",
       "4225            14951\n",
       "4770            14951\n",
       "Total Bags      14951\n",
       "Small Bags      14951\n",
       "Large Bags      14951\n",
       "XLarge Bags     14951\n",
       "type            14951\n",
       "year            14951\n",
       "region          14951\n",
       "dtype: int64"
      ]
     },
     "execution_count": 226,
     "metadata": {},
     "output_type": "execute_result"
    }
   ],
   "source": [
    "df.isnull().sum()"
   ]
  },
  {
   "cell_type": "markdown",
   "metadata": {},
   "source": [
    "The data has null values"
   ]
  },
  {
   "cell_type": "code",
   "execution_count": 227,
   "metadata": {},
   "outputs": [
    {
     "data": {
      "text/html": [
       "<div>\n",
       "<style scoped>\n",
       "    .dataframe tbody tr th:only-of-type {\n",
       "        vertical-align: middle;\n",
       "    }\n",
       "\n",
       "    .dataframe tbody tr th {\n",
       "        vertical-align: top;\n",
       "    }\n",
       "\n",
       "    .dataframe thead th {\n",
       "        text-align: right;\n",
       "    }\n",
       "</style>\n",
       "<table border=\"1\" class=\"dataframe\">\n",
       "  <thead>\n",
       "    <tr style=\"text-align: right;\">\n",
       "      <th></th>\n",
       "      <th>Unnamed: 0</th>\n",
       "      <th>Date</th>\n",
       "      <th>AveragePrice</th>\n",
       "      <th>Total Volume</th>\n",
       "      <th>4046</th>\n",
       "      <th>4225</th>\n",
       "      <th>4770</th>\n",
       "      <th>Total Bags</th>\n",
       "      <th>Small Bags</th>\n",
       "      <th>Large Bags</th>\n",
       "      <th>XLarge Bags</th>\n",
       "      <th>type</th>\n",
       "      <th>year</th>\n",
       "      <th>region</th>\n",
       "    </tr>\n",
       "  </thead>\n",
       "  <tbody>\n",
       "    <tr>\n",
       "      <th>count</th>\n",
       "      <td>1517.000000</td>\n",
       "      <td>1517</td>\n",
       "      <td>1517.000000</td>\n",
       "      <td>1.517000e+03</td>\n",
       "      <td>1.517000e+03</td>\n",
       "      <td>1.517000e+03</td>\n",
       "      <td>1.517000e+03</td>\n",
       "      <td>1.517000e+03</td>\n",
       "      <td>1.517000e+03</td>\n",
       "      <td>1.517000e+03</td>\n",
       "      <td>1517.000000</td>\n",
       "      <td>1517</td>\n",
       "      <td>1517.000000</td>\n",
       "      <td>1517</td>\n",
       "    </tr>\n",
       "    <tr>\n",
       "      <th>unique</th>\n",
       "      <td>NaN</td>\n",
       "      <td>104</td>\n",
       "      <td>NaN</td>\n",
       "      <td>NaN</td>\n",
       "      <td>NaN</td>\n",
       "      <td>NaN</td>\n",
       "      <td>NaN</td>\n",
       "      <td>NaN</td>\n",
       "      <td>NaN</td>\n",
       "      <td>NaN</td>\n",
       "      <td>NaN</td>\n",
       "      <td>1</td>\n",
       "      <td>NaN</td>\n",
       "      <td>51</td>\n",
       "    </tr>\n",
       "    <tr>\n",
       "      <th>top</th>\n",
       "      <td>NaN</td>\n",
       "      <td>05-04-2015</td>\n",
       "      <td>NaN</td>\n",
       "      <td>NaN</td>\n",
       "      <td>NaN</td>\n",
       "      <td>NaN</td>\n",
       "      <td>NaN</td>\n",
       "      <td>NaN</td>\n",
       "      <td>NaN</td>\n",
       "      <td>NaN</td>\n",
       "      <td>NaN</td>\n",
       "      <td>conventional</td>\n",
       "      <td>NaN</td>\n",
       "      <td>California</td>\n",
       "    </tr>\n",
       "    <tr>\n",
       "      <th>freq</th>\n",
       "      <td>NaN</td>\n",
       "      <td>34</td>\n",
       "      <td>NaN</td>\n",
       "      <td>NaN</td>\n",
       "      <td>NaN</td>\n",
       "      <td>NaN</td>\n",
       "      <td>NaN</td>\n",
       "      <td>NaN</td>\n",
       "      <td>NaN</td>\n",
       "      <td>NaN</td>\n",
       "      <td>NaN</td>\n",
       "      <td>1517</td>\n",
       "      <td>NaN</td>\n",
       "      <td>76</td>\n",
       "    </tr>\n",
       "    <tr>\n",
       "      <th>mean</th>\n",
       "      <td>26.995386</td>\n",
       "      <td>NaN</td>\n",
       "      <td>1.074990</td>\n",
       "      <td>1.601879e+06</td>\n",
       "      <td>6.464387e+05</td>\n",
       "      <td>6.114375e+05</td>\n",
       "      <td>5.040550e+04</td>\n",
       "      <td>2.935974e+05</td>\n",
       "      <td>2.487736e+05</td>\n",
       "      <td>4.264205e+04</td>\n",
       "      <td>2181.771074</td>\n",
       "      <td>NaN</td>\n",
       "      <td>2015.162821</td>\n",
       "      <td>NaN</td>\n",
       "    </tr>\n",
       "    <tr>\n",
       "      <th>std</th>\n",
       "      <td>14.848287</td>\n",
       "      <td>NaN</td>\n",
       "      <td>0.188891</td>\n",
       "      <td>4.433143e+06</td>\n",
       "      <td>1.947614e+06</td>\n",
       "      <td>1.672906e+06</td>\n",
       "      <td>1.377812e+05</td>\n",
       "      <td>7.579765e+05</td>\n",
       "      <td>6.474765e+05</td>\n",
       "      <td>1.182157e+05</td>\n",
       "      <td>7455.712144</td>\n",
       "      <td>NaN</td>\n",
       "      <td>0.369324</td>\n",
       "      <td>NaN</td>\n",
       "    </tr>\n",
       "    <tr>\n",
       "      <th>min</th>\n",
       "      <td>0.000000</td>\n",
       "      <td>NaN</td>\n",
       "      <td>0.490000</td>\n",
       "      <td>3.875074e+04</td>\n",
       "      <td>4.677200e+02</td>\n",
       "      <td>1.783770e+03</td>\n",
       "      <td>0.000000e+00</td>\n",
       "      <td>3.311770e+03</td>\n",
       "      <td>3.311770e+03</td>\n",
       "      <td>0.000000e+00</td>\n",
       "      <td>0.000000</td>\n",
       "      <td>NaN</td>\n",
       "      <td>2015.000000</td>\n",
       "      <td>NaN</td>\n",
       "    </tr>\n",
       "    <tr>\n",
       "      <th>25%</th>\n",
       "      <td>14.000000</td>\n",
       "      <td>NaN</td>\n",
       "      <td>0.980000</td>\n",
       "      <td>1.474700e+05</td>\n",
       "      <td>2.040034e+04</td>\n",
       "      <td>4.147606e+04</td>\n",
       "      <td>9.112500e+02</td>\n",
       "      <td>3.620689e+04</td>\n",
       "      <td>2.972722e+04</td>\n",
       "      <td>5.407400e+02</td>\n",
       "      <td>0.000000</td>\n",
       "      <td>NaN</td>\n",
       "      <td>2015.000000</td>\n",
       "      <td>NaN</td>\n",
       "    </tr>\n",
       "    <tr>\n",
       "      <th>50%</th>\n",
       "      <td>29.000000</td>\n",
       "      <td>NaN</td>\n",
       "      <td>1.080000</td>\n",
       "      <td>4.027919e+05</td>\n",
       "      <td>8.175117e+04</td>\n",
       "      <td>1.186649e+05</td>\n",
       "      <td>7.688170e+03</td>\n",
       "      <td>7.397906e+04</td>\n",
       "      <td>6.237569e+04</td>\n",
       "      <td>5.044350e+03</td>\n",
       "      <td>0.000000</td>\n",
       "      <td>NaN</td>\n",
       "      <td>2015.000000</td>\n",
       "      <td>NaN</td>\n",
       "    </tr>\n",
       "    <tr>\n",
       "      <th>75%</th>\n",
       "      <td>39.000000</td>\n",
       "      <td>NaN</td>\n",
       "      <td>1.190000</td>\n",
       "      <td>9.819751e+05</td>\n",
       "      <td>3.775785e+05</td>\n",
       "      <td>4.851503e+05</td>\n",
       "      <td>2.916730e+04</td>\n",
       "      <td>1.576097e+05</td>\n",
       "      <td>1.461994e+05</td>\n",
       "      <td>2.926767e+04</td>\n",
       "      <td>401.480000</td>\n",
       "      <td>NaN</td>\n",
       "      <td>2015.000000</td>\n",
       "      <td>NaN</td>\n",
       "    </tr>\n",
       "    <tr>\n",
       "      <th>max</th>\n",
       "      <td>51.000000</td>\n",
       "      <td>NaN</td>\n",
       "      <td>1.680000</td>\n",
       "      <td>4.465546e+07</td>\n",
       "      <td>1.893304e+07</td>\n",
       "      <td>1.895648e+07</td>\n",
       "      <td>1.381516e+06</td>\n",
       "      <td>6.736304e+06</td>\n",
       "      <td>5.893642e+06</td>\n",
       "      <td>1.121076e+06</td>\n",
       "      <td>108072.790000</td>\n",
       "      <td>NaN</td>\n",
       "      <td>2016.000000</td>\n",
       "      <td>NaN</td>\n",
       "    </tr>\n",
       "  </tbody>\n",
       "</table>\n",
       "</div>"
      ],
      "text/plain": [
       "         Unnamed: 0        Date  AveragePrice  Total Volume          4046  \\\n",
       "count   1517.000000        1517   1517.000000  1.517000e+03  1.517000e+03   \n",
       "unique          NaN         104           NaN           NaN           NaN   \n",
       "top             NaN  05-04-2015           NaN           NaN           NaN   \n",
       "freq            NaN          34           NaN           NaN           NaN   \n",
       "mean      26.995386         NaN      1.074990  1.601879e+06  6.464387e+05   \n",
       "std       14.848287         NaN      0.188891  4.433143e+06  1.947614e+06   \n",
       "min        0.000000         NaN      0.490000  3.875074e+04  4.677200e+02   \n",
       "25%       14.000000         NaN      0.980000  1.474700e+05  2.040034e+04   \n",
       "50%       29.000000         NaN      1.080000  4.027919e+05  8.175117e+04   \n",
       "75%       39.000000         NaN      1.190000  9.819751e+05  3.775785e+05   \n",
       "max       51.000000         NaN      1.680000  4.465546e+07  1.893304e+07   \n",
       "\n",
       "                4225          4770    Total Bags    Small Bags    Large Bags  \\\n",
       "count   1.517000e+03  1.517000e+03  1.517000e+03  1.517000e+03  1.517000e+03   \n",
       "unique           NaN           NaN           NaN           NaN           NaN   \n",
       "top              NaN           NaN           NaN           NaN           NaN   \n",
       "freq             NaN           NaN           NaN           NaN           NaN   \n",
       "mean    6.114375e+05  5.040550e+04  2.935974e+05  2.487736e+05  4.264205e+04   \n",
       "std     1.672906e+06  1.377812e+05  7.579765e+05  6.474765e+05  1.182157e+05   \n",
       "min     1.783770e+03  0.000000e+00  3.311770e+03  3.311770e+03  0.000000e+00   \n",
       "25%     4.147606e+04  9.112500e+02  3.620689e+04  2.972722e+04  5.407400e+02   \n",
       "50%     1.186649e+05  7.688170e+03  7.397906e+04  6.237569e+04  5.044350e+03   \n",
       "75%     4.851503e+05  2.916730e+04  1.576097e+05  1.461994e+05  2.926767e+04   \n",
       "max     1.895648e+07  1.381516e+06  6.736304e+06  5.893642e+06  1.121076e+06   \n",
       "\n",
       "          XLarge Bags          type         year      region  \n",
       "count     1517.000000          1517  1517.000000        1517  \n",
       "unique            NaN             1          NaN          51  \n",
       "top               NaN  conventional          NaN  California  \n",
       "freq              NaN          1517          NaN          76  \n",
       "mean      2181.771074           NaN  2015.162821         NaN  \n",
       "std       7455.712144           NaN     0.369324         NaN  \n",
       "min          0.000000           NaN  2015.000000         NaN  \n",
       "25%          0.000000           NaN  2015.000000         NaN  \n",
       "50%          0.000000           NaN  2015.000000         NaN  \n",
       "75%        401.480000           NaN  2015.000000         NaN  \n",
       "max     108072.790000           NaN  2016.000000         NaN  "
      ]
     },
     "execution_count": 227,
     "metadata": {},
     "output_type": "execute_result"
    }
   ],
   "source": [
    "df.describe(include='all')"
   ]
  },
  {
   "cell_type": "markdown",
   "metadata": {},
   "source": [
    "In Total volume,Xlargebags mean is higher than median.\n",
    "\n",
    "Standard deviation is very much higher in Unnamed column.\n",
    "\n",
    "The max coulmn value is lesser than the 75th percentile in Total Volume,4770,Large Bags.\n",
    "\n",
    "In XLarge bags there is a huge difference between 75th percentile and max column which means there are oultiers."
   ]
  },
  {
   "cell_type": "code",
   "execution_count": 228,
   "metadata": {},
   "outputs": [
    {
     "data": {
      "text/plain": [
       "array(['conventional', nan], dtype=object)"
      ]
     },
     "execution_count": 228,
     "metadata": {},
     "output_type": "execute_result"
    }
   ],
   "source": [
    "df.type.unique()"
   ]
  },
  {
   "cell_type": "code",
   "execution_count": 229,
   "metadata": {},
   "outputs": [
    {
     "data": {
      "text/plain": [
       "array([2015., 2016.,   nan])"
      ]
     },
     "execution_count": 229,
     "metadata": {},
     "output_type": "execute_result"
    }
   ],
   "source": [
    "df.year.unique()"
   ]
  },
  {
   "cell_type": "code",
   "execution_count": 230,
   "metadata": {},
   "outputs": [
    {
     "data": {
      "text/plain": [
       "array(['Albany', 'Atlanta', 'BaltimoreWashington', 'Boise', 'Boston',\n",
       "       'BuffaloRochester', 'California', 'Charlotte', 'Chicago',\n",
       "       'Columbus', 'DallasFtWorth', 'Denver', 'Detroit', 'GrandRapids',\n",
       "       'GreatLakes', 'HarrisburgScranton', 'HartfordSpringfield',\n",
       "       'Houston', 'Indianapolis', 'Jacksonville', 'LasVegas',\n",
       "       'LosAngeles', 'Louisville', 'MiamiFtLauderdale', 'Midsouth',\n",
       "       'Nashville', 'NewYork', 'Northeast', 'NorthernNewEngland',\n",
       "       'Orlando', 'Philadelphia', 'PhoenixTucson', 'Pittsburgh', 'Plains',\n",
       "       'Portland', 'RaleighGreensboro', 'RichmondNorfolk', 'Roanoke',\n",
       "       'SanDiego', 'SanFrancisco', 'Seattle', 'SouthCarolina',\n",
       "       'SouthCentral', 'Southeast', 'Spokane', 'StLouis', 'Syracuse',\n",
       "       'Tampa', 'TotalUS', 'West', 'WestTexNewMexico', nan], dtype=object)"
      ]
     },
     "execution_count": 230,
     "metadata": {},
     "output_type": "execute_result"
    }
   ],
   "source": [
    "df.region.unique()"
   ]
  },
  {
   "cell_type": "code",
   "execution_count": 231,
   "metadata": {},
   "outputs": [],
   "source": [
    "from sklearn.preprocessing import LabelEncoder\n",
    "le=LabelEncoder()\n",
    "\n",
    "list1=['type','region']\n",
    "for val in list1:\n",
    "    df[val]=le.fit_transform(df[val].astype(str))\n",
    "    \n",
    "    \n",
    "    df=df.replace(np.nan,df.mean())"
   ]
  },
  {
   "cell_type": "code",
   "execution_count": 232,
   "metadata": {},
   "outputs": [
    {
     "data": {
      "text/html": [
       "<div>\n",
       "<style scoped>\n",
       "    .dataframe tbody tr th:only-of-type {\n",
       "        vertical-align: middle;\n",
       "    }\n",
       "\n",
       "    .dataframe tbody tr th {\n",
       "        vertical-align: top;\n",
       "    }\n",
       "\n",
       "    .dataframe thead th {\n",
       "        text-align: right;\n",
       "    }\n",
       "</style>\n",
       "<table border=\"1\" class=\"dataframe\">\n",
       "  <thead>\n",
       "    <tr style=\"text-align: right;\">\n",
       "      <th></th>\n",
       "      <th>Unnamed: 0</th>\n",
       "      <th>Date</th>\n",
       "      <th>AveragePrice</th>\n",
       "      <th>Total Volume</th>\n",
       "      <th>4046</th>\n",
       "      <th>4225</th>\n",
       "      <th>4770</th>\n",
       "      <th>Total Bags</th>\n",
       "      <th>Small Bags</th>\n",
       "      <th>Large Bags</th>\n",
       "      <th>XLarge Bags</th>\n",
       "      <th>type</th>\n",
       "      <th>year</th>\n",
       "      <th>region</th>\n",
       "    </tr>\n",
       "  </thead>\n",
       "  <tbody>\n",
       "    <tr>\n",
       "      <th>16463</th>\n",
       "      <td>26.995386</td>\n",
       "      <td>NaN</td>\n",
       "      <td>1.07499</td>\n",
       "      <td>1.601879e+06</td>\n",
       "      <td>646438.654113</td>\n",
       "      <td>611437.502591</td>\n",
       "      <td>50405.495399</td>\n",
       "      <td>293597.415735</td>\n",
       "      <td>248773.595287</td>\n",
       "      <td>42642.049374</td>\n",
       "      <td>2181.771074</td>\n",
       "      <td>1</td>\n",
       "      <td>2015.162821</td>\n",
       "      <td>51</td>\n",
       "    </tr>\n",
       "    <tr>\n",
       "      <th>16464</th>\n",
       "      <td>26.995386</td>\n",
       "      <td>NaN</td>\n",
       "      <td>1.07499</td>\n",
       "      <td>1.601879e+06</td>\n",
       "      <td>646438.654113</td>\n",
       "      <td>611437.502591</td>\n",
       "      <td>50405.495399</td>\n",
       "      <td>293597.415735</td>\n",
       "      <td>248773.595287</td>\n",
       "      <td>42642.049374</td>\n",
       "      <td>2181.771074</td>\n",
       "      <td>1</td>\n",
       "      <td>2015.162821</td>\n",
       "      <td>51</td>\n",
       "    </tr>\n",
       "    <tr>\n",
       "      <th>16465</th>\n",
       "      <td>26.995386</td>\n",
       "      <td>NaN</td>\n",
       "      <td>1.07499</td>\n",
       "      <td>1.601879e+06</td>\n",
       "      <td>646438.654113</td>\n",
       "      <td>611437.502591</td>\n",
       "      <td>50405.495399</td>\n",
       "      <td>293597.415735</td>\n",
       "      <td>248773.595287</td>\n",
       "      <td>42642.049374</td>\n",
       "      <td>2181.771074</td>\n",
       "      <td>1</td>\n",
       "      <td>2015.162821</td>\n",
       "      <td>51</td>\n",
       "    </tr>\n",
       "    <tr>\n",
       "      <th>16466</th>\n",
       "      <td>26.995386</td>\n",
       "      <td>NaN</td>\n",
       "      <td>1.07499</td>\n",
       "      <td>1.601879e+06</td>\n",
       "      <td>646438.654113</td>\n",
       "      <td>611437.502591</td>\n",
       "      <td>50405.495399</td>\n",
       "      <td>293597.415735</td>\n",
       "      <td>248773.595287</td>\n",
       "      <td>42642.049374</td>\n",
       "      <td>2181.771074</td>\n",
       "      <td>1</td>\n",
       "      <td>2015.162821</td>\n",
       "      <td>51</td>\n",
       "    </tr>\n",
       "    <tr>\n",
       "      <th>16467</th>\n",
       "      <td>26.995386</td>\n",
       "      <td>NaN</td>\n",
       "      <td>1.07499</td>\n",
       "      <td>1.601879e+06</td>\n",
       "      <td>646438.654113</td>\n",
       "      <td>611437.502591</td>\n",
       "      <td>50405.495399</td>\n",
       "      <td>293597.415735</td>\n",
       "      <td>248773.595287</td>\n",
       "      <td>42642.049374</td>\n",
       "      <td>2181.771074</td>\n",
       "      <td>1</td>\n",
       "      <td>2015.162821</td>\n",
       "      <td>51</td>\n",
       "    </tr>\n",
       "  </tbody>\n",
       "</table>\n",
       "</div>"
      ],
      "text/plain": [
       "       Unnamed: 0 Date  AveragePrice  Total Volume           4046  \\\n",
       "16463   26.995386  NaN       1.07499  1.601879e+06  646438.654113   \n",
       "16464   26.995386  NaN       1.07499  1.601879e+06  646438.654113   \n",
       "16465   26.995386  NaN       1.07499  1.601879e+06  646438.654113   \n",
       "16466   26.995386  NaN       1.07499  1.601879e+06  646438.654113   \n",
       "16467   26.995386  NaN       1.07499  1.601879e+06  646438.654113   \n",
       "\n",
       "                4225          4770     Total Bags     Small Bags  \\\n",
       "16463  611437.502591  50405.495399  293597.415735  248773.595287   \n",
       "16464  611437.502591  50405.495399  293597.415735  248773.595287   \n",
       "16465  611437.502591  50405.495399  293597.415735  248773.595287   \n",
       "16466  611437.502591  50405.495399  293597.415735  248773.595287   \n",
       "16467  611437.502591  50405.495399  293597.415735  248773.595287   \n",
       "\n",
       "         Large Bags  XLarge Bags  type         year  region  \n",
       "16463  42642.049374  2181.771074     1  2015.162821      51  \n",
       "16464  42642.049374  2181.771074     1  2015.162821      51  \n",
       "16465  42642.049374  2181.771074     1  2015.162821      51  \n",
       "16466  42642.049374  2181.771074     1  2015.162821      51  \n",
       "16467  42642.049374  2181.771074     1  2015.162821      51  "
      ]
     },
     "execution_count": 232,
     "metadata": {},
     "output_type": "execute_result"
    }
   ],
   "source": [
    "df.tail()"
   ]
  },
  {
   "cell_type": "code",
   "execution_count": 233,
   "metadata": {},
   "outputs": [
    {
     "data": {
      "text/plain": [
       "array([0, 1])"
      ]
     },
     "execution_count": 233,
     "metadata": {},
     "output_type": "execute_result"
    }
   ],
   "source": [
    "df.type.unique()"
   ]
  },
  {
   "cell_type": "code",
   "execution_count": 234,
   "metadata": {},
   "outputs": [
    {
     "data": {
      "text/plain": [
       "array([ 0,  1,  2,  3,  4,  5,  6,  7,  8,  9, 10, 11, 12, 13, 14, 15, 16,\n",
       "       17, 18, 19, 20, 21, 22, 23, 24, 25, 26, 27, 28, 29, 30, 31, 32, 33,\n",
       "       34, 35, 36, 37, 38, 39, 40, 41, 42, 43, 44, 45, 46, 47, 48, 49, 50,\n",
       "       51])"
      ]
     },
     "execution_count": 234,
     "metadata": {},
     "output_type": "execute_result"
    }
   ],
   "source": [
    "df.region.unique()"
   ]
  },
  {
   "cell_type": "code",
   "execution_count": 235,
   "metadata": {},
   "outputs": [],
   "source": [
    "df=df.drop(\"Date\",axis=1)"
   ]
  },
  {
   "cell_type": "code",
   "execution_count": 236,
   "metadata": {},
   "outputs": [
    {
     "data": {
      "text/html": [
       "<div>\n",
       "<style scoped>\n",
       "    .dataframe tbody tr th:only-of-type {\n",
       "        vertical-align: middle;\n",
       "    }\n",
       "\n",
       "    .dataframe tbody tr th {\n",
       "        vertical-align: top;\n",
       "    }\n",
       "\n",
       "    .dataframe thead th {\n",
       "        text-align: right;\n",
       "    }\n",
       "</style>\n",
       "<table border=\"1\" class=\"dataframe\">\n",
       "  <thead>\n",
       "    <tr style=\"text-align: right;\">\n",
       "      <th></th>\n",
       "      <th>Unnamed: 0</th>\n",
       "      <th>AveragePrice</th>\n",
       "      <th>Total Volume</th>\n",
       "      <th>4046</th>\n",
       "      <th>4225</th>\n",
       "      <th>4770</th>\n",
       "      <th>Total Bags</th>\n",
       "      <th>Small Bags</th>\n",
       "      <th>Large Bags</th>\n",
       "      <th>XLarge Bags</th>\n",
       "      <th>type</th>\n",
       "      <th>year</th>\n",
       "      <th>region</th>\n",
       "    </tr>\n",
       "  </thead>\n",
       "  <tbody>\n",
       "    <tr>\n",
       "      <th>0</th>\n",
       "      <td>0.0</td>\n",
       "      <td>1.33</td>\n",
       "      <td>64236.62</td>\n",
       "      <td>1036.74</td>\n",
       "      <td>54454.85</td>\n",
       "      <td>48.16</td>\n",
       "      <td>8696.87</td>\n",
       "      <td>8603.62</td>\n",
       "      <td>93.25</td>\n",
       "      <td>0.0</td>\n",
       "      <td>0</td>\n",
       "      <td>2015.0</td>\n",
       "      <td>0</td>\n",
       "    </tr>\n",
       "    <tr>\n",
       "      <th>1</th>\n",
       "      <td>1.0</td>\n",
       "      <td>1.35</td>\n",
       "      <td>54876.98</td>\n",
       "      <td>674.28</td>\n",
       "      <td>44638.81</td>\n",
       "      <td>58.33</td>\n",
       "      <td>9505.56</td>\n",
       "      <td>9408.07</td>\n",
       "      <td>97.49</td>\n",
       "      <td>0.0</td>\n",
       "      <td>0</td>\n",
       "      <td>2015.0</td>\n",
       "      <td>0</td>\n",
       "    </tr>\n",
       "    <tr>\n",
       "      <th>2</th>\n",
       "      <td>2.0</td>\n",
       "      <td>0.93</td>\n",
       "      <td>118220.22</td>\n",
       "      <td>794.70</td>\n",
       "      <td>109149.67</td>\n",
       "      <td>130.50</td>\n",
       "      <td>8145.35</td>\n",
       "      <td>8042.21</td>\n",
       "      <td>103.14</td>\n",
       "      <td>0.0</td>\n",
       "      <td>0</td>\n",
       "      <td>2015.0</td>\n",
       "      <td>0</td>\n",
       "    </tr>\n",
       "    <tr>\n",
       "      <th>3</th>\n",
       "      <td>3.0</td>\n",
       "      <td>1.08</td>\n",
       "      <td>78992.15</td>\n",
       "      <td>1132.00</td>\n",
       "      <td>71976.41</td>\n",
       "      <td>72.58</td>\n",
       "      <td>5811.16</td>\n",
       "      <td>5677.40</td>\n",
       "      <td>133.76</td>\n",
       "      <td>0.0</td>\n",
       "      <td>0</td>\n",
       "      <td>2015.0</td>\n",
       "      <td>0</td>\n",
       "    </tr>\n",
       "    <tr>\n",
       "      <th>4</th>\n",
       "      <td>4.0</td>\n",
       "      <td>1.28</td>\n",
       "      <td>51039.60</td>\n",
       "      <td>941.48</td>\n",
       "      <td>43838.39</td>\n",
       "      <td>75.78</td>\n",
       "      <td>6183.95</td>\n",
       "      <td>5986.26</td>\n",
       "      <td>197.69</td>\n",
       "      <td>0.0</td>\n",
       "      <td>0</td>\n",
       "      <td>2015.0</td>\n",
       "      <td>0</td>\n",
       "    </tr>\n",
       "  </tbody>\n",
       "</table>\n",
       "</div>"
      ],
      "text/plain": [
       "   Unnamed: 0  AveragePrice  Total Volume     4046       4225    4770  \\\n",
       "0         0.0          1.33      64236.62  1036.74   54454.85   48.16   \n",
       "1         1.0          1.35      54876.98   674.28   44638.81   58.33   \n",
       "2         2.0          0.93     118220.22   794.70  109149.67  130.50   \n",
       "3         3.0          1.08      78992.15  1132.00   71976.41   72.58   \n",
       "4         4.0          1.28      51039.60   941.48   43838.39   75.78   \n",
       "\n",
       "   Total Bags  Small Bags  Large Bags  XLarge Bags  type    year  region  \n",
       "0     8696.87     8603.62       93.25          0.0     0  2015.0       0  \n",
       "1     9505.56     9408.07       97.49          0.0     0  2015.0       0  \n",
       "2     8145.35     8042.21      103.14          0.0     0  2015.0       0  \n",
       "3     5811.16     5677.40      133.76          0.0     0  2015.0       0  \n",
       "4     6183.95     5986.26      197.69          0.0     0  2015.0       0  "
      ]
     },
     "execution_count": 236,
     "metadata": {},
     "output_type": "execute_result"
    }
   ],
   "source": [
    "df.head()"
   ]
  },
  {
   "cell_type": "code",
   "execution_count": 237,
   "metadata": {},
   "outputs": [
    {
     "data": {
      "text/html": [
       "<div>\n",
       "<style scoped>\n",
       "    .dataframe tbody tr th:only-of-type {\n",
       "        vertical-align: middle;\n",
       "    }\n",
       "\n",
       "    .dataframe tbody tr th {\n",
       "        vertical-align: top;\n",
       "    }\n",
       "\n",
       "    .dataframe thead th {\n",
       "        text-align: right;\n",
       "    }\n",
       "</style>\n",
       "<table border=\"1\" class=\"dataframe\">\n",
       "  <thead>\n",
       "    <tr style=\"text-align: right;\">\n",
       "      <th></th>\n",
       "      <th>Unnamed: 0</th>\n",
       "      <th>AveragePrice</th>\n",
       "      <th>Total Volume</th>\n",
       "      <th>4046</th>\n",
       "      <th>4225</th>\n",
       "      <th>4770</th>\n",
       "      <th>Total Bags</th>\n",
       "      <th>Small Bags</th>\n",
       "      <th>Large Bags</th>\n",
       "      <th>XLarge Bags</th>\n",
       "      <th>type</th>\n",
       "      <th>year</th>\n",
       "      <th>region</th>\n",
       "    </tr>\n",
       "  </thead>\n",
       "  <tbody>\n",
       "    <tr>\n",
       "      <th>0</th>\n",
       "      <td>0.000000</td>\n",
       "      <td>1.33000</td>\n",
       "      <td>6.423662e+04</td>\n",
       "      <td>1036.740000</td>\n",
       "      <td>54454.850000</td>\n",
       "      <td>48.160000</td>\n",
       "      <td>8696.870000</td>\n",
       "      <td>8603.620000</td>\n",
       "      <td>93.250000</td>\n",
       "      <td>0.000000</td>\n",
       "      <td>0</td>\n",
       "      <td>2015.000000</td>\n",
       "      <td>0</td>\n",
       "    </tr>\n",
       "    <tr>\n",
       "      <th>1</th>\n",
       "      <td>1.000000</td>\n",
       "      <td>1.35000</td>\n",
       "      <td>5.487698e+04</td>\n",
       "      <td>674.280000</td>\n",
       "      <td>44638.810000</td>\n",
       "      <td>58.330000</td>\n",
       "      <td>9505.560000</td>\n",
       "      <td>9408.070000</td>\n",
       "      <td>97.490000</td>\n",
       "      <td>0.000000</td>\n",
       "      <td>0</td>\n",
       "      <td>2015.000000</td>\n",
       "      <td>0</td>\n",
       "    </tr>\n",
       "    <tr>\n",
       "      <th>2</th>\n",
       "      <td>2.000000</td>\n",
       "      <td>0.93000</td>\n",
       "      <td>1.182202e+05</td>\n",
       "      <td>794.700000</td>\n",
       "      <td>109149.670000</td>\n",
       "      <td>130.500000</td>\n",
       "      <td>8145.350000</td>\n",
       "      <td>8042.210000</td>\n",
       "      <td>103.140000</td>\n",
       "      <td>0.000000</td>\n",
       "      <td>0</td>\n",
       "      <td>2015.000000</td>\n",
       "      <td>0</td>\n",
       "    </tr>\n",
       "    <tr>\n",
       "      <th>3</th>\n",
       "      <td>3.000000</td>\n",
       "      <td>1.08000</td>\n",
       "      <td>7.899215e+04</td>\n",
       "      <td>1132.000000</td>\n",
       "      <td>71976.410000</td>\n",
       "      <td>72.580000</td>\n",
       "      <td>5811.160000</td>\n",
       "      <td>5677.400000</td>\n",
       "      <td>133.760000</td>\n",
       "      <td>0.000000</td>\n",
       "      <td>0</td>\n",
       "      <td>2015.000000</td>\n",
       "      <td>0</td>\n",
       "    </tr>\n",
       "    <tr>\n",
       "      <th>4</th>\n",
       "      <td>4.000000</td>\n",
       "      <td>1.28000</td>\n",
       "      <td>5.103960e+04</td>\n",
       "      <td>941.480000</td>\n",
       "      <td>43838.390000</td>\n",
       "      <td>75.780000</td>\n",
       "      <td>6183.950000</td>\n",
       "      <td>5986.260000</td>\n",
       "      <td>197.690000</td>\n",
       "      <td>0.000000</td>\n",
       "      <td>0</td>\n",
       "      <td>2015.000000</td>\n",
       "      <td>0</td>\n",
       "    </tr>\n",
       "    <tr>\n",
       "      <th>...</th>\n",
       "      <td>...</td>\n",
       "      <td>...</td>\n",
       "      <td>...</td>\n",
       "      <td>...</td>\n",
       "      <td>...</td>\n",
       "      <td>...</td>\n",
       "      <td>...</td>\n",
       "      <td>...</td>\n",
       "      <td>...</td>\n",
       "      <td>...</td>\n",
       "      <td>...</td>\n",
       "      <td>...</td>\n",
       "      <td>...</td>\n",
       "    </tr>\n",
       "    <tr>\n",
       "      <th>16463</th>\n",
       "      <td>26.995386</td>\n",
       "      <td>1.07499</td>\n",
       "      <td>1.601879e+06</td>\n",
       "      <td>646438.654113</td>\n",
       "      <td>611437.502591</td>\n",
       "      <td>50405.495399</td>\n",
       "      <td>293597.415735</td>\n",
       "      <td>248773.595287</td>\n",
       "      <td>42642.049374</td>\n",
       "      <td>2181.771074</td>\n",
       "      <td>1</td>\n",
       "      <td>2015.162821</td>\n",
       "      <td>51</td>\n",
       "    </tr>\n",
       "    <tr>\n",
       "      <th>16464</th>\n",
       "      <td>26.995386</td>\n",
       "      <td>1.07499</td>\n",
       "      <td>1.601879e+06</td>\n",
       "      <td>646438.654113</td>\n",
       "      <td>611437.502591</td>\n",
       "      <td>50405.495399</td>\n",
       "      <td>293597.415735</td>\n",
       "      <td>248773.595287</td>\n",
       "      <td>42642.049374</td>\n",
       "      <td>2181.771074</td>\n",
       "      <td>1</td>\n",
       "      <td>2015.162821</td>\n",
       "      <td>51</td>\n",
       "    </tr>\n",
       "    <tr>\n",
       "      <th>16465</th>\n",
       "      <td>26.995386</td>\n",
       "      <td>1.07499</td>\n",
       "      <td>1.601879e+06</td>\n",
       "      <td>646438.654113</td>\n",
       "      <td>611437.502591</td>\n",
       "      <td>50405.495399</td>\n",
       "      <td>293597.415735</td>\n",
       "      <td>248773.595287</td>\n",
       "      <td>42642.049374</td>\n",
       "      <td>2181.771074</td>\n",
       "      <td>1</td>\n",
       "      <td>2015.162821</td>\n",
       "      <td>51</td>\n",
       "    </tr>\n",
       "    <tr>\n",
       "      <th>16466</th>\n",
       "      <td>26.995386</td>\n",
       "      <td>1.07499</td>\n",
       "      <td>1.601879e+06</td>\n",
       "      <td>646438.654113</td>\n",
       "      <td>611437.502591</td>\n",
       "      <td>50405.495399</td>\n",
       "      <td>293597.415735</td>\n",
       "      <td>248773.595287</td>\n",
       "      <td>42642.049374</td>\n",
       "      <td>2181.771074</td>\n",
       "      <td>1</td>\n",
       "      <td>2015.162821</td>\n",
       "      <td>51</td>\n",
       "    </tr>\n",
       "    <tr>\n",
       "      <th>16467</th>\n",
       "      <td>26.995386</td>\n",
       "      <td>1.07499</td>\n",
       "      <td>1.601879e+06</td>\n",
       "      <td>646438.654113</td>\n",
       "      <td>611437.502591</td>\n",
       "      <td>50405.495399</td>\n",
       "      <td>293597.415735</td>\n",
       "      <td>248773.595287</td>\n",
       "      <td>42642.049374</td>\n",
       "      <td>2181.771074</td>\n",
       "      <td>1</td>\n",
       "      <td>2015.162821</td>\n",
       "      <td>51</td>\n",
       "    </tr>\n",
       "  </tbody>\n",
       "</table>\n",
       "<p>16468 rows × 13 columns</p>\n",
       "</div>"
      ],
      "text/plain": [
       "       Unnamed: 0  AveragePrice  Total Volume           4046           4225  \\\n",
       "0        0.000000       1.33000  6.423662e+04    1036.740000   54454.850000   \n",
       "1        1.000000       1.35000  5.487698e+04     674.280000   44638.810000   \n",
       "2        2.000000       0.93000  1.182202e+05     794.700000  109149.670000   \n",
       "3        3.000000       1.08000  7.899215e+04    1132.000000   71976.410000   \n",
       "4        4.000000       1.28000  5.103960e+04     941.480000   43838.390000   \n",
       "...           ...           ...           ...            ...            ...   \n",
       "16463   26.995386       1.07499  1.601879e+06  646438.654113  611437.502591   \n",
       "16464   26.995386       1.07499  1.601879e+06  646438.654113  611437.502591   \n",
       "16465   26.995386       1.07499  1.601879e+06  646438.654113  611437.502591   \n",
       "16466   26.995386       1.07499  1.601879e+06  646438.654113  611437.502591   \n",
       "16467   26.995386       1.07499  1.601879e+06  646438.654113  611437.502591   \n",
       "\n",
       "               4770     Total Bags     Small Bags    Large Bags  XLarge Bags  \\\n",
       "0         48.160000    8696.870000    8603.620000     93.250000     0.000000   \n",
       "1         58.330000    9505.560000    9408.070000     97.490000     0.000000   \n",
       "2        130.500000    8145.350000    8042.210000    103.140000     0.000000   \n",
       "3         72.580000    5811.160000    5677.400000    133.760000     0.000000   \n",
       "4         75.780000    6183.950000    5986.260000    197.690000     0.000000   \n",
       "...             ...            ...            ...           ...          ...   \n",
       "16463  50405.495399  293597.415735  248773.595287  42642.049374  2181.771074   \n",
       "16464  50405.495399  293597.415735  248773.595287  42642.049374  2181.771074   \n",
       "16465  50405.495399  293597.415735  248773.595287  42642.049374  2181.771074   \n",
       "16466  50405.495399  293597.415735  248773.595287  42642.049374  2181.771074   \n",
       "16467  50405.495399  293597.415735  248773.595287  42642.049374  2181.771074   \n",
       "\n",
       "       type         year  region  \n",
       "0         0  2015.000000       0  \n",
       "1         0  2015.000000       0  \n",
       "2         0  2015.000000       0  \n",
       "3         0  2015.000000       0  \n",
       "4         0  2015.000000       0  \n",
       "...     ...          ...     ...  \n",
       "16463     1  2015.162821      51  \n",
       "16464     1  2015.162821      51  \n",
       "16465     1  2015.162821      51  \n",
       "16466     1  2015.162821      51  \n",
       "16467     1  2015.162821      51  \n",
       "\n",
       "[16468 rows x 13 columns]"
      ]
     },
     "execution_count": 237,
     "metadata": {},
     "output_type": "execute_result"
    }
   ],
   "source": [
    "df.iloc[:,0:13]"
   ]
  },
  {
   "cell_type": "code",
   "execution_count": 238,
   "metadata": {},
   "outputs": [],
   "source": [
    "from sklearn.impute import SimpleImputer\n",
    "imputer = SimpleImputer(missing_values = np.nan , strategy = 'mean')\n",
    "imputer = imputer.fit(df.iloc[:, 0:13])\n",
    "df.iloc[0:13] = imputer.transform(df.iloc[0:13])"
   ]
  },
  {
   "cell_type": "code",
   "execution_count": 239,
   "metadata": {},
   "outputs": [
    {
     "data": {
      "text/plain": [
       "Unnamed: 0      0\n",
       "AveragePrice    0\n",
       "Total Volume    0\n",
       "4046            0\n",
       "4225            0\n",
       "4770            0\n",
       "Total Bags      0\n",
       "Small Bags      0\n",
       "Large Bags      0\n",
       "XLarge Bags     0\n",
       "type            0\n",
       "year            0\n",
       "region          0\n",
       "dtype: int64"
      ]
     },
     "execution_count": 239,
     "metadata": {},
     "output_type": "execute_result"
    }
   ],
   "source": [
    "df.isnull().sum()"
   ]
  },
  {
   "cell_type": "markdown",
   "metadata": {},
   "source": [
    "We have replaced all null values with mean using imputer"
   ]
  },
  {
   "cell_type": "code",
   "execution_count": 240,
   "metadata": {},
   "outputs": [
    {
     "data": {
      "text/plain": [
       "<seaborn.axisgrid.PairGrid at 0x229b2e02040>"
      ]
     },
     "execution_count": 240,
     "metadata": {},
     "output_type": "execute_result"
    },
    {
     "data": {
      "image/png": "[encoded data removed]",
      "text/plain": [
       "<Figure size 1080x360 with 3 Axes>"
      ]
     },
     "metadata": {
      "needs_background": "light"
     },
     "output_type": "display_data"
    }
   ],
   "source": [
    "sns.pairplot(df, x_vars=['Small Bags', 'Large Bags', 'XLarge Bags'], y_vars='Total Volume', size=5, aspect=1, kind='reg')"
   ]
  },
  {
   "cell_type": "markdown",
   "metadata": {},
   "source": [
    "In this plot we can see the graph of total volume vs small bags,large bags and Xlarge bags"
   ]
  },
  {
   "cell_type": "code",
   "execution_count": 241,
   "metadata": {},
   "outputs": [
    {
     "data": {
      "text/plain": [
       "<matplotlib.axes._subplots.AxesSubplot at 0x229b33e7160>"
      ]
     },
     "execution_count": 241,
     "metadata": {},
     "output_type": "execute_result"
    },
    {
     "data": {
      "image/png": "[encoded data removed]",
      "text/plain": [
       "<Figure size 432x288 with 2 Axes>"
      ]
     },
     "metadata": {
      "needs_background": "light"
     },
     "output_type": "display_data"
    }
   ],
   "source": [
    "sns.heatmap(df.isnull())"
   ]
  },
  {
   "cell_type": "markdown",
   "metadata": {},
   "source": [
    "There are no missing data or null values "
   ]
  },
  {
   "cell_type": "code",
   "execution_count": 242,
   "metadata": {},
   "outputs": [
    {
     "data": {
      "text/html": [
       "<div>\n",
       "<style scoped>\n",
       "    .dataframe tbody tr th:only-of-type {\n",
       "        vertical-align: middle;\n",
       "    }\n",
       "\n",
       "    .dataframe tbody tr th {\n",
       "        vertical-align: top;\n",
       "    }\n",
       "\n",
       "    .dataframe thead th {\n",
       "        text-align: right;\n",
       "    }\n",
       "</style>\n",
       "<table border=\"1\" class=\"dataframe\">\n",
       "  <thead>\n",
       "    <tr style=\"text-align: right;\">\n",
       "      <th></th>\n",
       "      <th>Unnamed: 0</th>\n",
       "      <th>AveragePrice</th>\n",
       "      <th>Total Volume</th>\n",
       "      <th>4046</th>\n",
       "      <th>4225</th>\n",
       "      <th>4770</th>\n",
       "      <th>Total Bags</th>\n",
       "      <th>Small Bags</th>\n",
       "      <th>Large Bags</th>\n",
       "      <th>XLarge Bags</th>\n",
       "      <th>type</th>\n",
       "      <th>year</th>\n",
       "      <th>region</th>\n",
       "    </tr>\n",
       "  </thead>\n",
       "  <tbody>\n",
       "    <tr>\n",
       "      <th>Unnamed: 0</th>\n",
       "      <td>1.000000e+00</td>\n",
       "      <td>-7.553138e-02</td>\n",
       "      <td>9.193428e-02</td>\n",
       "      <td>9.201312e-02</td>\n",
       "      <td>9.356639e-02</td>\n",
       "      <td>7.564678e-02</td>\n",
       "      <td>8.100683e-02</td>\n",
       "      <td>8.348484e-02</td>\n",
       "      <td>6.536353e-02</td>\n",
       "      <td>-5.099340e-02</td>\n",
       "      <td>-6.188783e-17</td>\n",
       "      <td>-1.285383e-02</td>\n",
       "      <td>0.005987</td>\n",
       "    </tr>\n",
       "    <tr>\n",
       "      <th>AveragePrice</th>\n",
       "      <td>-7.553138e-02</td>\n",
       "      <td>1.000000e+00</td>\n",
       "      <td>-1.404703e-01</td>\n",
       "      <td>-1.900958e-01</td>\n",
       "      <td>-9.208409e-02</td>\n",
       "      <td>-1.005665e-01</td>\n",
       "      <td>-1.115968e-01</td>\n",
       "      <td>-9.768201e-02</td>\n",
       "      <td>-1.774802e-01</td>\n",
       "      <td>-4.828395e-02</td>\n",
       "      <td>-1.176882e-15</td>\n",
       "      <td>1.786833e-01</td>\n",
       "      <td>-0.113287</td>\n",
       "    </tr>\n",
       "    <tr>\n",
       "      <th>Total Volume</th>\n",
       "      <td>9.193428e-02</td>\n",
       "      <td>-1.404703e-01</td>\n",
       "      <td>1.000000e+00</td>\n",
       "      <td>9.855681e-01</td>\n",
       "      <td>9.871539e-01</td>\n",
       "      <td>9.343468e-01</td>\n",
       "      <td>9.676892e-01</td>\n",
       "      <td>9.606418e-01</td>\n",
       "      <td>9.102257e-01</td>\n",
       "      <td>5.217167e-01</td>\n",
       "      <td>2.950134e-16</td>\n",
       "      <td>-4.188663e-03</td>\n",
       "      <td>0.116829</td>\n",
       "    </tr>\n",
       "    <tr>\n",
       "      <th>4046</th>\n",
       "      <td>9.201312e-02</td>\n",
       "      <td>-1.900958e-01</td>\n",
       "      <td>9.855681e-01</td>\n",
       "      <td>1.000000e+00</td>\n",
       "      <td>9.519521e-01</td>\n",
       "      <td>8.985705e-01</td>\n",
       "      <td>9.303953e-01</td>\n",
       "      <td>9.222784e-01</td>\n",
       "      <td>8.842287e-01</td>\n",
       "      <td>4.740631e-01</td>\n",
       "      <td>-9.541918e-17</td>\n",
       "      <td>-4.043896e-02</td>\n",
       "      <td>0.133076</td>\n",
       "    </tr>\n",
       "    <tr>\n",
       "      <th>4225</th>\n",
       "      <td>9.356639e-02</td>\n",
       "      <td>-9.208409e-02</td>\n",
       "      <td>9.871539e-01</td>\n",
       "      <td>9.519521e-01</td>\n",
       "      <td>1.000000e+00</td>\n",
       "      <td>9.277567e-01</td>\n",
       "      <td>9.517787e-01</td>\n",
       "      <td>9.439881e-01</td>\n",
       "      <td>9.004960e-01</td>\n",
       "      <td>5.047183e-01</td>\n",
       "      <td>-3.045811e-16</td>\n",
       "      <td>-7.254036e-03</td>\n",
       "      <td>0.106535</td>\n",
       "    </tr>\n",
       "    <tr>\n",
       "      <th>4770</th>\n",
       "      <td>7.564678e-02</td>\n",
       "      <td>-1.005665e-01</td>\n",
       "      <td>9.343468e-01</td>\n",
       "      <td>8.985705e-01</td>\n",
       "      <td>9.277567e-01</td>\n",
       "      <td>1.000000e+00</td>\n",
       "      <td>9.264054e-01</td>\n",
       "      <td>9.236070e-01</td>\n",
       "      <td>8.405225e-01</td>\n",
       "      <td>6.460527e-01</td>\n",
       "      <td>1.611544e-16</td>\n",
       "      <td>2.922175e-02</td>\n",
       "      <td>0.068193</td>\n",
       "    </tr>\n",
       "    <tr>\n",
       "      <th>Total Bags</th>\n",
       "      <td>8.100683e-02</td>\n",
       "      <td>-1.115968e-01</td>\n",
       "      <td>9.676892e-01</td>\n",
       "      <td>9.303953e-01</td>\n",
       "      <td>9.517787e-01</td>\n",
       "      <td>9.264054e-01</td>\n",
       "      <td>1.000000e+00</td>\n",
       "      <td>9.973413e-01</td>\n",
       "      <td>9.113358e-01</td>\n",
       "      <td>6.018562e-01</td>\n",
       "      <td>5.415337e-16</td>\n",
       "      <td>9.010785e-02</td>\n",
       "      <td>0.093827</td>\n",
       "    </tr>\n",
       "    <tr>\n",
       "      <th>Small Bags</th>\n",
       "      <td>8.348484e-02</td>\n",
       "      <td>-9.768201e-02</td>\n",
       "      <td>9.606418e-01</td>\n",
       "      <td>9.222784e-01</td>\n",
       "      <td>9.439881e-01</td>\n",
       "      <td>9.236070e-01</td>\n",
       "      <td>9.973413e-01</td>\n",
       "      <td>1.000000e+00</td>\n",
       "      <td>8.791314e-01</td>\n",
       "      <td>6.113004e-01</td>\n",
       "      <td>-3.295303e-16</td>\n",
       "      <td>1.063820e-01</td>\n",
       "      <td>0.083284</td>\n",
       "    </tr>\n",
       "    <tr>\n",
       "      <th>Large Bags</th>\n",
       "      <td>6.536353e-02</td>\n",
       "      <td>-1.774802e-01</td>\n",
       "      <td>9.102257e-01</td>\n",
       "      <td>8.842287e-01</td>\n",
       "      <td>9.004960e-01</td>\n",
       "      <td>8.405225e-01</td>\n",
       "      <td>9.113358e-01</td>\n",
       "      <td>8.791314e-01</td>\n",
       "      <td>1.000000e+00</td>\n",
       "      <td>4.477790e-01</td>\n",
       "      <td>4.423608e-16</td>\n",
       "      <td>-1.867835e-02</td>\n",
       "      <td>0.146889</td>\n",
       "    </tr>\n",
       "    <tr>\n",
       "      <th>XLarge Bags</th>\n",
       "      <td>-5.099340e-02</td>\n",
       "      <td>-4.828395e-02</td>\n",
       "      <td>5.217167e-01</td>\n",
       "      <td>4.740631e-01</td>\n",
       "      <td>5.047183e-01</td>\n",
       "      <td>6.460527e-01</td>\n",
       "      <td>6.018562e-01</td>\n",
       "      <td>6.113004e-01</td>\n",
       "      <td>4.477790e-01</td>\n",
       "      <td>1.000000e+00</td>\n",
       "      <td>1.272376e-15</td>\n",
       "      <td>2.183418e-01</td>\n",
       "      <td>-0.022787</td>\n",
       "    </tr>\n",
       "    <tr>\n",
       "      <th>type</th>\n",
       "      <td>-6.188783e-17</td>\n",
       "      <td>-1.176882e-15</td>\n",
       "      <td>2.950134e-16</td>\n",
       "      <td>-9.541918e-17</td>\n",
       "      <td>-3.045811e-16</td>\n",
       "      <td>1.611544e-16</td>\n",
       "      <td>5.415337e-16</td>\n",
       "      <td>-3.295303e-16</td>\n",
       "      <td>4.423608e-16</td>\n",
       "      <td>1.272376e-15</td>\n",
       "      <td>1.000000e+00</td>\n",
       "      <td>1.364522e-13</td>\n",
       "      <td>0.869561</td>\n",
       "    </tr>\n",
       "    <tr>\n",
       "      <th>year</th>\n",
       "      <td>-1.285383e-02</td>\n",
       "      <td>1.786833e-01</td>\n",
       "      <td>-4.188663e-03</td>\n",
       "      <td>-4.043896e-02</td>\n",
       "      <td>-7.254036e-03</td>\n",
       "      <td>2.922175e-02</td>\n",
       "      <td>9.010785e-02</td>\n",
       "      <td>1.063820e-01</td>\n",
       "      <td>-1.867835e-02</td>\n",
       "      <td>2.183418e-01</td>\n",
       "      <td>1.364522e-13</td>\n",
       "      <td>1.000000e+00</td>\n",
       "      <td>-0.232331</td>\n",
       "    </tr>\n",
       "    <tr>\n",
       "      <th>region</th>\n",
       "      <td>5.986675e-03</td>\n",
       "      <td>-1.132874e-01</td>\n",
       "      <td>1.168287e-01</td>\n",
       "      <td>1.330763e-01</td>\n",
       "      <td>1.065346e-01</td>\n",
       "      <td>6.819349e-02</td>\n",
       "      <td>9.382737e-02</td>\n",
       "      <td>8.328364e-02</td>\n",
       "      <td>1.468895e-01</td>\n",
       "      <td>-2.278726e-02</td>\n",
       "      <td>8.695613e-01</td>\n",
       "      <td>-2.323309e-01</td>\n",
       "      <td>1.000000</td>\n",
       "    </tr>\n",
       "  </tbody>\n",
       "</table>\n",
       "</div>"
      ],
      "text/plain": [
       "                Unnamed: 0  AveragePrice  Total Volume          4046  \\\n",
       "Unnamed: 0    1.000000e+00 -7.553138e-02  9.193428e-02  9.201312e-02   \n",
       "AveragePrice -7.553138e-02  1.000000e+00 -1.404703e-01 -1.900958e-01   \n",
       "Total Volume  9.193428e-02 -1.404703e-01  1.000000e+00  9.855681e-01   \n",
       "4046          9.201312e-02 -1.900958e-01  9.855681e-01  1.000000e+00   \n",
       "4225          9.356639e-02 -9.208409e-02  9.871539e-01  9.519521e-01   \n",
       "4770          7.564678e-02 -1.005665e-01  9.343468e-01  8.985705e-01   \n",
       "Total Bags    8.100683e-02 -1.115968e-01  9.676892e-01  9.303953e-01   \n",
       "Small Bags    8.348484e-02 -9.768201e-02  9.606418e-01  9.222784e-01   \n",
       "Large Bags    6.536353e-02 -1.774802e-01  9.102257e-01  8.842287e-01   \n",
       "XLarge Bags  -5.099340e-02 -4.828395e-02  5.217167e-01  4.740631e-01   \n",
       "type         -6.188783e-17 -1.176882e-15  2.950134e-16 -9.541918e-17   \n",
       "year         -1.285383e-02  1.786833e-01 -4.188663e-03 -4.043896e-02   \n",
       "region        5.986675e-03 -1.132874e-01  1.168287e-01  1.330763e-01   \n",
       "\n",
       "                      4225          4770    Total Bags    Small Bags  \\\n",
       "Unnamed: 0    9.356639e-02  7.564678e-02  8.100683e-02  8.348484e-02   \n",
       "AveragePrice -9.208409e-02 -1.005665e-01 -1.115968e-01 -9.768201e-02   \n",
       "Total Volume  9.871539e-01  9.343468e-01  9.676892e-01  9.606418e-01   \n",
       "4046          9.519521e-01  8.985705e-01  9.303953e-01  9.222784e-01   \n",
       "4225          1.000000e+00  9.277567e-01  9.517787e-01  9.439881e-01   \n",
       "4770          9.277567e-01  1.000000e+00  9.264054e-01  9.236070e-01   \n",
       "Total Bags    9.517787e-01  9.264054e-01  1.000000e+00  9.973413e-01   \n",
       "Small Bags    9.439881e-01  9.236070e-01  9.973413e-01  1.000000e+00   \n",
       "Large Bags    9.004960e-01  8.405225e-01  9.113358e-01  8.791314e-01   \n",
       "XLarge Bags   5.047183e-01  6.460527e-01  6.018562e-01  6.113004e-01   \n",
       "type         -3.045811e-16  1.611544e-16  5.415337e-16 -3.295303e-16   \n",
       "year         -7.254036e-03  2.922175e-02  9.010785e-02  1.063820e-01   \n",
       "region        1.065346e-01  6.819349e-02  9.382737e-02  8.328364e-02   \n",
       "\n",
       "                Large Bags   XLarge Bags          type          year    region  \n",
       "Unnamed: 0    6.536353e-02 -5.099340e-02 -6.188783e-17 -1.285383e-02  0.005987  \n",
       "AveragePrice -1.774802e-01 -4.828395e-02 -1.176882e-15  1.786833e-01 -0.113287  \n",
       "Total Volume  9.102257e-01  5.217167e-01  2.950134e-16 -4.188663e-03  0.116829  \n",
       "4046          8.842287e-01  4.740631e-01 -9.541918e-17 -4.043896e-02  0.133076  \n",
       "4225          9.004960e-01  5.047183e-01 -3.045811e-16 -7.254036e-03  0.106535  \n",
       "4770          8.405225e-01  6.460527e-01  1.611544e-16  2.922175e-02  0.068193  \n",
       "Total Bags    9.113358e-01  6.018562e-01  5.415337e-16  9.010785e-02  0.093827  \n",
       "Small Bags    8.791314e-01  6.113004e-01 -3.295303e-16  1.063820e-01  0.083284  \n",
       "Large Bags    1.000000e+00  4.477790e-01  4.423608e-16 -1.867835e-02  0.146889  \n",
       "XLarge Bags   4.477790e-01  1.000000e+00  1.272376e-15  2.183418e-01 -0.022787  \n",
       "type          4.423608e-16  1.272376e-15  1.000000e+00  1.364522e-13  0.869561  \n",
       "year         -1.867835e-02  2.183418e-01  1.364522e-13  1.000000e+00 -0.232331  \n",
       "region        1.468895e-01 -2.278726e-02  8.695613e-01 -2.323309e-01  1.000000  "
      ]
     },
     "execution_count": 242,
     "metadata": {},
     "output_type": "execute_result"
    }
   ],
   "source": [
    "dfcor=df.corr()\n",
    "dfcor"
   ]
  },
  {
   "cell_type": "code",
   "execution_count": 243,
   "metadata": {},
   "outputs": [
    {
     "data": {
      "text/plain": [
       "<matplotlib.axes._subplots.AxesSubplot at 0x229b3dd6d90>"
      ]
     },
     "execution_count": 243,
     "metadata": {},
     "output_type": "execute_result"
    },
    {
     "data": {
      "image/png": "[encoded data removed]",
      "text/plain": [
       "<Figure size 432x288 with 2 Axes>"
      ]
     },
     "metadata": {
      "needs_background": "light"
     },
     "output_type": "display_data"
    }
   ],
   "source": [
    "sns.heatmap(dfcor)"
   ]
  },
  {
   "cell_type": "markdown",
   "metadata": {},
   "source": [
    "There are negative correaltion between year and region\n",
    "\n",
    "Average price is highly correlated with type and year.\n",
    "\n",
    "Small Bags and Large Bags are positively correlated with each other.\n",
    "\n",
    "The black colour represent the negative correlation and the lighter shades represent the positive correlation as shown in the  number ranges present in side of the graph"
   ]
  },
  {
   "cell_type": "code",
   "execution_count": 244,
   "metadata": {},
   "outputs": [
    {
     "data": {
      "text/plain": [
       "(16468, 13)"
      ]
     },
     "execution_count": 244,
     "metadata": {},
     "output_type": "execute_result"
    }
   ],
   "source": [
    "df.shape"
   ]
  },
  {
   "cell_type": "code",
   "execution_count": 245,
   "metadata": {},
   "outputs": [
    {
     "data": {
      "text/plain": [
       "<matplotlib.collections.PathCollection at 0x229b00d5e80>"
      ]
     },
     "execution_count": 245,
     "metadata": {},
     "output_type": "execute_result"
    },
    {
     "data": {
      "image/png": "[encoded data removed]",
      "text/plain": [
       "<Figure size 432x288 with 1 Axes>"
      ]
     },
     "metadata": {
      "needs_background": "light"
     },
     "output_type": "display_data"
    }
   ],
   "source": [
    "plt.scatter(df['year'],df['region'])"
   ]
  },
  {
   "cell_type": "markdown",
   "metadata": {},
   "source": [
    "The scatter plot stating the relation of year and region"
   ]
  },
  {
   "cell_type": "code",
   "execution_count": 246,
   "metadata": {},
   "outputs": [
    {
     "data": {
      "text/plain": [
       "Unnamed: 0         AxesSubplot(0.125,0.536818;0.0945122x0.343182)\n",
       "AveragePrice    AxesSubplot(0.238415,0.536818;0.0945122x0.343182)\n",
       "Total Volume    AxesSubplot(0.351829,0.536818;0.0945122x0.343182)\n",
       "4046            AxesSubplot(0.465244,0.536818;0.0945122x0.343182)\n",
       "4225            AxesSubplot(0.578659,0.536818;0.0945122x0.343182)\n",
       "4770            AxesSubplot(0.692073,0.536818;0.0945122x0.343182)\n",
       "Total Bags      AxesSubplot(0.805488,0.536818;0.0945122x0.343182)\n",
       "Small Bags            AxesSubplot(0.125,0.125;0.0945122x0.343182)\n",
       "Large Bags         AxesSubplot(0.238415,0.125;0.0945122x0.343182)\n",
       "XLarge Bags        AxesSubplot(0.351829,0.125;0.0945122x0.343182)\n",
       "type               AxesSubplot(0.465244,0.125;0.0945122x0.343182)\n",
       "year               AxesSubplot(0.578659,0.125;0.0945122x0.343182)\n",
       "region             AxesSubplot(0.692073,0.125;0.0945122x0.343182)\n",
       "dtype: object"
      ]
     },
     "execution_count": 246,
     "metadata": {},
     "output_type": "execute_result"
    },
    {
     "data": {
      "image/png": "[encoded data removed]",
      "text/plain": [
       "<Figure size 432x288 with 14 Axes>"
      ]
     },
     "metadata": {
      "needs_background": "light"
     },
     "output_type": "display_data"
    }
   ],
   "source": [
    "df.plot(kind='box',subplots=True, layout=(2,7))"
   ]
  },
  {
   "cell_type": "code",
   "execution_count": 247,
   "metadata": {},
   "outputs": [
    {
     "data": {
      "image/png": "[encoded data removed]",
      "text/plain": [
       "<Figure size 1440x576 with 1 Axes>"
      ]
     },
     "metadata": {
      "needs_background": "light"
     },
     "output_type": "display_data"
    }
   ],
   "source": [
    "x.iloc[:,0:14].boxplot(figsize=[20,8])\n",
    "plt.subplots_adjust(bottom=0.25)\n",
    "plt.show()"
   ]
  },
  {
   "cell_type": "markdown",
   "metadata": {},
   "source": [
    "There are outliers present in 4770,4225,4046,TotalVolume,type,LargeBags,SmallBags, XlargeBags"
   ]
  },
  {
   "cell_type": "markdown",
   "metadata": {},
   "source": [
    "## Removing Outliers"
   ]
  },
  {
   "cell_type": "code",
   "execution_count": 248,
   "metadata": {},
   "outputs": [
    {
     "data": {
      "text/plain": [
       "array([[5.99216858e+00, 4.44954957e+00, 1.14317960e+00, ...,\n",
       "        3.13936875e+00, 1.45302891e+00, 4.86836706e+00],\n",
       "       [5.77019847e+00, 4.79852031e+00, 1.15013814e+00, ...,\n",
       "        3.13936875e+00, 1.45302891e+00, 4.86836706e+00],\n",
       "       [5.54822837e+00, 2.52986539e+00, 1.10304481e+00, ...,\n",
       "        3.13936875e+00, 1.45302891e+00, 4.86836706e+00],\n",
       "       ...,\n",
       "       [2.36578868e-15, 3.87435359e-15, 1.73100867e-16, ...,\n",
       "        3.18535375e-01, 4.05819639e-12, 2.76986031e-01],\n",
       "       [2.36578868e-15, 3.87435359e-15, 1.73100867e-16, ...,\n",
       "        3.18535375e-01, 4.05819639e-12, 2.76986031e-01],\n",
       "       [2.36578868e-15, 3.87435359e-15, 1.73100867e-16, ...,\n",
       "        3.18535375e-01, 4.05819639e-12, 2.76986031e-01]])"
      ]
     },
     "execution_count": 248,
     "metadata": {},
     "output_type": "execute_result"
    }
   ],
   "source": [
    "from scipy.stats import zscore\n",
    "z=np.abs(zscore(df))\n",
    "z"
   ]
  },
  {
   "cell_type": "code",
   "execution_count": 249,
   "metadata": {},
   "outputs": [
    {
     "name": "stdout",
     "output_type": "stream",
     "text": [
      "(array([   0,    0,    0, ..., 1516, 1516, 1516], dtype=int64), array([ 0,  1, 10, ..., 10, 11, 12], dtype=int64))\n"
     ]
    }
   ],
   "source": [
    "threshold=3\n",
    "print(np.where(z>3))"
   ]
  },
  {
   "cell_type": "code",
   "execution_count": 250,
   "metadata": {},
   "outputs": [
    {
     "data": {
      "text/plain": [
       "4.449549565294475"
      ]
     },
     "execution_count": 250,
     "metadata": {},
     "output_type": "execute_result"
    }
   ],
   "source": [
    "z[0][1]"
   ]
  },
  {
   "cell_type": "code",
   "execution_count": 251,
   "metadata": {},
   "outputs": [
    {
     "data": {
      "text/plain": [
       "7.471039328865382"
      ]
     },
     "execution_count": 251,
     "metadata": {},
     "output_type": "execute_result"
    }
   ],
   "source": [
    "z[1516][11]"
   ]
  },
  {
   "cell_type": "code",
   "execution_count": 252,
   "metadata": {},
   "outputs": [],
   "source": [
    "df_av=df[(z<3).all(axis=1)]"
   ]
  },
  {
   "cell_type": "code",
   "execution_count": 253,
   "metadata": {},
   "outputs": [
    {
     "data": {
      "text/plain": [
       "(16468, 13)"
      ]
     },
     "execution_count": 253,
     "metadata": {},
     "output_type": "execute_result"
    }
   ],
   "source": [
    "df.shape"
   ]
  },
  {
   "cell_type": "code",
   "execution_count": 254,
   "metadata": {},
   "outputs": [
    {
     "data": {
      "text/plain": [
       "(14951, 13)"
      ]
     },
     "execution_count": 254,
     "metadata": {},
     "output_type": "execute_result"
    }
   ],
   "source": [
    "df_av.shape"
   ]
  },
  {
   "cell_type": "markdown",
   "metadata": {},
   "source": [
    "All the outliers are removed"
   ]
  },
  {
   "cell_type": "code",
   "execution_count": 255,
   "metadata": {},
   "outputs": [
    {
     "data": {
      "text/plain": [
       "Unnamed: 0      0.0\n",
       "AveragePrice    0.0\n",
       "Total Volume    0.0\n",
       "4046            0.0\n",
       "4225            0.0\n",
       "4770            0.0\n",
       "Total Bags      0.0\n",
       "Small Bags      0.0\n",
       "Large Bags      0.0\n",
       "XLarge Bags     0.0\n",
       "type            0.0\n",
       "year            0.0\n",
       "region          0.0\n",
       "dtype: float64"
      ]
     },
     "execution_count": 255,
     "metadata": {},
     "output_type": "execute_result"
    }
   ],
   "source": [
    "df_av.skew()"
   ]
  },
  {
   "cell_type": "markdown",
   "metadata": {},
   "source": [
    "There is no sknewness in data "
   ]
  },
  {
   "cell_type": "code",
   "execution_count": 190,
   "metadata": {},
   "outputs": [
    {
     "data": {
      "text/html": [
       "<div>\n",
       "<style scoped>\n",
       "    .dataframe tbody tr th:only-of-type {\n",
       "        vertical-align: middle;\n",
       "    }\n",
       "\n",
       "    .dataframe tbody tr th {\n",
       "        vertical-align: top;\n",
       "    }\n",
       "\n",
       "    .dataframe thead th {\n",
       "        text-align: right;\n",
       "    }\n",
       "</style>\n",
       "<table border=\"1\" class=\"dataframe\">\n",
       "  <thead>\n",
       "    <tr style=\"text-align: right;\">\n",
       "      <th></th>\n",
       "      <th>Unnamed</th>\n",
       "      <th>AveragePrice</th>\n",
       "      <th>XLarge Bags</th>\n",
       "      <th>Small Bags</th>\n",
       "      <th>Large Bags</th>\n",
       "      <th>type</th>\n",
       "      <th>Total Volume</th>\n",
       "      <th>4046</th>\n",
       "      <th>4225</th>\n",
       "      <th>4770</th>\n",
       "      <th>Total Bags</th>\n",
       "      <th>year</th>\n",
       "      <th>region</th>\n",
       "    </tr>\n",
       "  </thead>\n",
       "  <tbody>\n",
       "    <tr>\n",
       "      <th>0</th>\n",
       "      <td>-1.0</td>\n",
       "      <td>0.0</td>\n",
       "      <td>-1.0</td>\n",
       "      <td>-1.0</td>\n",
       "      <td>0.0</td>\n",
       "      <td>1.0</td>\n",
       "      <td>0.0</td>\n",
       "      <td>-1.0</td>\n",
       "      <td>-1.0</td>\n",
       "      <td>0.0</td>\n",
       "      <td>0.0</td>\n",
       "      <td>1.0</td>\n",
       "      <td>0.0</td>\n",
       "    </tr>\n",
       "    <tr>\n",
       "      <th>1</th>\n",
       "      <td>-1.0</td>\n",
       "      <td>0.0</td>\n",
       "      <td>-1.0</td>\n",
       "      <td>-1.0</td>\n",
       "      <td>0.0</td>\n",
       "      <td>1.0</td>\n",
       "      <td>0.0</td>\n",
       "      <td>-1.0</td>\n",
       "      <td>-1.0</td>\n",
       "      <td>0.0</td>\n",
       "      <td>0.0</td>\n",
       "      <td>1.0</td>\n",
       "      <td>0.0</td>\n",
       "    </tr>\n",
       "    <tr>\n",
       "      <th>2</th>\n",
       "      <td>-1.0</td>\n",
       "      <td>0.0</td>\n",
       "      <td>-1.0</td>\n",
       "      <td>-1.0</td>\n",
       "      <td>0.0</td>\n",
       "      <td>1.0</td>\n",
       "      <td>0.0</td>\n",
       "      <td>-1.0</td>\n",
       "      <td>-1.0</td>\n",
       "      <td>0.0</td>\n",
       "      <td>0.0</td>\n",
       "      <td>1.0</td>\n",
       "      <td>0.0</td>\n",
       "    </tr>\n",
       "    <tr>\n",
       "      <th>3</th>\n",
       "      <td>-1.0</td>\n",
       "      <td>0.0</td>\n",
       "      <td>-1.0</td>\n",
       "      <td>-1.0</td>\n",
       "      <td>0.0</td>\n",
       "      <td>1.0</td>\n",
       "      <td>0.0</td>\n",
       "      <td>-1.0</td>\n",
       "      <td>-1.0</td>\n",
       "      <td>0.0</td>\n",
       "      <td>0.0</td>\n",
       "      <td>1.0</td>\n",
       "      <td>0.0</td>\n",
       "    </tr>\n",
       "    <tr>\n",
       "      <th>4</th>\n",
       "      <td>-1.0</td>\n",
       "      <td>0.0</td>\n",
       "      <td>-1.0</td>\n",
       "      <td>-1.0</td>\n",
       "      <td>0.0</td>\n",
       "      <td>1.0</td>\n",
       "      <td>0.0</td>\n",
       "      <td>-1.0</td>\n",
       "      <td>-1.0</td>\n",
       "      <td>0.0</td>\n",
       "      <td>0.0</td>\n",
       "      <td>1.0</td>\n",
       "      <td>0.0</td>\n",
       "    </tr>\n",
       "  </tbody>\n",
       "</table>\n",
       "</div>"
      ],
      "text/plain": [
       "   Unnamed  AveragePrice  XLarge Bags  Small Bags  Large Bags  type  \\\n",
       "0     -1.0           0.0         -1.0        -1.0         0.0   1.0   \n",
       "1     -1.0           0.0         -1.0        -1.0         0.0   1.0   \n",
       "2     -1.0           0.0         -1.0        -1.0         0.0   1.0   \n",
       "3     -1.0           0.0         -1.0        -1.0         0.0   1.0   \n",
       "4     -1.0           0.0         -1.0        -1.0         0.0   1.0   \n",
       "\n",
       "   Total Volume  4046  4225  4770  Total Bags  year  region  \n",
       "0           0.0  -1.0  -1.0   0.0         0.0   1.0     0.0  \n",
       "1           0.0  -1.0  -1.0   0.0         0.0   1.0     0.0  \n",
       "2           0.0  -1.0  -1.0   0.0         0.0   1.0     0.0  \n",
       "3           0.0  -1.0  -1.0   0.0         0.0   1.0     0.0  \n",
       "4           0.0  -1.0  -1.0   0.0         0.0   1.0     0.0  "
      ]
     },
     "execution_count": 190,
     "metadata": {},
     "output_type": "execute_result"
    }
   ],
   "source": [
    "from sklearn.preprocessing import StandardScaler\n",
    "scaler = StandardScaler().fit(df_av)\n",
    "df_avocado_scaler = scaler.transform(df_av)\n",
    "df_avocado = pd.DataFrame(df_avocado_scaler)\n",
    "df_avocado.columns = ['Unnamed','AveragePrice', 'XLarge Bags', 'Small Bags', 'Large Bags','type','Total Volume', '4046','4225','4770','Total Bags','year','region']\n",
    "df_avocado.head()"
   ]
  },
  {
   "cell_type": "code",
   "execution_count": 279,
   "metadata": {},
   "outputs": [],
   "source": [
    "x=df_av.drop(\"AveragePrice\",axis=1)"
   ]
  },
  {
   "cell_type": "code",
   "execution_count": 276,
   "metadata": {},
   "outputs": [
    {
     "data": {
      "text/html": [
       "<div>\n",
       "<style scoped>\n",
       "    .dataframe tbody tr th:only-of-type {\n",
       "        vertical-align: middle;\n",
       "    }\n",
       "\n",
       "    .dataframe tbody tr th {\n",
       "        vertical-align: top;\n",
       "    }\n",
       "\n",
       "    .dataframe thead th {\n",
       "        text-align: right;\n",
       "    }\n",
       "</style>\n",
       "<table border=\"1\" class=\"dataframe\">\n",
       "  <thead>\n",
       "    <tr style=\"text-align: right;\">\n",
       "      <th></th>\n",
       "      <th>Unnamed: 0</th>\n",
       "      <th>Total Volume</th>\n",
       "      <th>4046</th>\n",
       "      <th>4225</th>\n",
       "      <th>4770</th>\n",
       "      <th>Total Bags</th>\n",
       "      <th>Small Bags</th>\n",
       "      <th>Large Bags</th>\n",
       "      <th>XLarge Bags</th>\n",
       "      <th>type</th>\n",
       "      <th>year</th>\n",
       "      <th>region</th>\n",
       "    </tr>\n",
       "  </thead>\n",
       "  <tbody>\n",
       "    <tr>\n",
       "      <th>1517</th>\n",
       "      <td>26.995386</td>\n",
       "      <td>1.601879e+06</td>\n",
       "      <td>646438.654113</td>\n",
       "      <td>611437.502591</td>\n",
       "      <td>50405.495399</td>\n",
       "      <td>293597.415735</td>\n",
       "      <td>248773.595287</td>\n",
       "      <td>42642.049374</td>\n",
       "      <td>2181.771074</td>\n",
       "      <td>1.0</td>\n",
       "      <td>2015.162821</td>\n",
       "      <td>51.0</td>\n",
       "    </tr>\n",
       "    <tr>\n",
       "      <th>1518</th>\n",
       "      <td>26.995386</td>\n",
       "      <td>1.601879e+06</td>\n",
       "      <td>646438.654113</td>\n",
       "      <td>611437.502591</td>\n",
       "      <td>50405.495399</td>\n",
       "      <td>293597.415735</td>\n",
       "      <td>248773.595287</td>\n",
       "      <td>42642.049374</td>\n",
       "      <td>2181.771074</td>\n",
       "      <td>1.0</td>\n",
       "      <td>2015.162821</td>\n",
       "      <td>51.0</td>\n",
       "    </tr>\n",
       "    <tr>\n",
       "      <th>1519</th>\n",
       "      <td>26.995386</td>\n",
       "      <td>1.601879e+06</td>\n",
       "      <td>646438.654113</td>\n",
       "      <td>611437.502591</td>\n",
       "      <td>50405.495399</td>\n",
       "      <td>293597.415735</td>\n",
       "      <td>248773.595287</td>\n",
       "      <td>42642.049374</td>\n",
       "      <td>2181.771074</td>\n",
       "      <td>1.0</td>\n",
       "      <td>2015.162821</td>\n",
       "      <td>51.0</td>\n",
       "    </tr>\n",
       "    <tr>\n",
       "      <th>1520</th>\n",
       "      <td>26.995386</td>\n",
       "      <td>1.601879e+06</td>\n",
       "      <td>646438.654113</td>\n",
       "      <td>611437.502591</td>\n",
       "      <td>50405.495399</td>\n",
       "      <td>293597.415735</td>\n",
       "      <td>248773.595287</td>\n",
       "      <td>42642.049374</td>\n",
       "      <td>2181.771074</td>\n",
       "      <td>1.0</td>\n",
       "      <td>2015.162821</td>\n",
       "      <td>51.0</td>\n",
       "    </tr>\n",
       "    <tr>\n",
       "      <th>1521</th>\n",
       "      <td>26.995386</td>\n",
       "      <td>1.601879e+06</td>\n",
       "      <td>646438.654113</td>\n",
       "      <td>611437.502591</td>\n",
       "      <td>50405.495399</td>\n",
       "      <td>293597.415735</td>\n",
       "      <td>248773.595287</td>\n",
       "      <td>42642.049374</td>\n",
       "      <td>2181.771074</td>\n",
       "      <td>1.0</td>\n",
       "      <td>2015.162821</td>\n",
       "      <td>51.0</td>\n",
       "    </tr>\n",
       "  </tbody>\n",
       "</table>\n",
       "</div>"
      ],
      "text/plain": [
       "      Unnamed: 0  Total Volume           4046           4225          4770  \\\n",
       "1517   26.995386  1.601879e+06  646438.654113  611437.502591  50405.495399   \n",
       "1518   26.995386  1.601879e+06  646438.654113  611437.502591  50405.495399   \n",
       "1519   26.995386  1.601879e+06  646438.654113  611437.502591  50405.495399   \n",
       "1520   26.995386  1.601879e+06  646438.654113  611437.502591  50405.495399   \n",
       "1521   26.995386  1.601879e+06  646438.654113  611437.502591  50405.495399   \n",
       "\n",
       "         Total Bags     Small Bags    Large Bags  XLarge Bags  type  \\\n",
       "1517  293597.415735  248773.595287  42642.049374  2181.771074   1.0   \n",
       "1518  293597.415735  248773.595287  42642.049374  2181.771074   1.0   \n",
       "1519  293597.415735  248773.595287  42642.049374  2181.771074   1.0   \n",
       "1520  293597.415735  248773.595287  42642.049374  2181.771074   1.0   \n",
       "1521  293597.415735  248773.595287  42642.049374  2181.771074   1.0   \n",
       "\n",
       "             year  region  \n",
       "1517  2015.162821    51.0  \n",
       "1518  2015.162821    51.0  \n",
       "1519  2015.162821    51.0  \n",
       "1520  2015.162821    51.0  \n",
       "1521  2015.162821    51.0  "
      ]
     },
     "execution_count": 276,
     "metadata": {},
     "output_type": "execute_result"
    }
   ],
   "source": [
    "x.head()"
   ]
  },
  {
   "cell_type": "code",
   "execution_count": 280,
   "metadata": {},
   "outputs": [],
   "source": [
    "y=df_av[\"AveragePrice\"]"
   ]
  },
  {
   "cell_type": "code",
   "execution_count": 278,
   "metadata": {},
   "outputs": [
    {
     "data": {
      "text/plain": [
       "1517    1.07499\n",
       "1518    1.07499\n",
       "1519    1.07499\n",
       "1520    1.07499\n",
       "1521    1.07499\n",
       "Name: AveragePrice, dtype: float64"
      ]
     },
     "execution_count": 278,
     "metadata": {},
     "output_type": "execute_result"
    }
   ],
   "source": [
    "y.head()"
   ]
  },
  {
   "cell_type": "code",
   "execution_count": 193,
   "metadata": {},
   "outputs": [],
   "source": [
    "x=df_avocado.drop(\"AveragePrice\",axis=1)"
   ]
  },
  {
   "cell_type": "code",
   "execution_count": 208,
   "metadata": {},
   "outputs": [
    {
     "data": {
      "text/html": [
       "<div>\n",
       "<style scoped>\n",
       "    .dataframe tbody tr th:only-of-type {\n",
       "        vertical-align: middle;\n",
       "    }\n",
       "\n",
       "    .dataframe tbody tr th {\n",
       "        vertical-align: top;\n",
       "    }\n",
       "\n",
       "    .dataframe thead th {\n",
       "        text-align: right;\n",
       "    }\n",
       "</style>\n",
       "<table border=\"1\" class=\"dataframe\">\n",
       "  <thead>\n",
       "    <tr style=\"text-align: right;\">\n",
       "      <th></th>\n",
       "      <th>Unnamed</th>\n",
       "      <th>XLarge Bags</th>\n",
       "      <th>Small Bags</th>\n",
       "      <th>Large Bags</th>\n",
       "      <th>type</th>\n",
       "      <th>Total Volume</th>\n",
       "      <th>4046</th>\n",
       "      <th>4225</th>\n",
       "      <th>4770</th>\n",
       "      <th>Total Bags</th>\n",
       "      <th>year</th>\n",
       "      <th>region</th>\n",
       "    </tr>\n",
       "  </thead>\n",
       "  <tbody>\n",
       "    <tr>\n",
       "      <th>0</th>\n",
       "      <td>-1.0</td>\n",
       "      <td>-1.0</td>\n",
       "      <td>-1.0</td>\n",
       "      <td>0.0</td>\n",
       "      <td>1.0</td>\n",
       "      <td>0.0</td>\n",
       "      <td>-1.0</td>\n",
       "      <td>-1.0</td>\n",
       "      <td>0.0</td>\n",
       "      <td>0.0</td>\n",
       "      <td>1.0</td>\n",
       "      <td>0.0</td>\n",
       "    </tr>\n",
       "    <tr>\n",
       "      <th>1</th>\n",
       "      <td>-1.0</td>\n",
       "      <td>-1.0</td>\n",
       "      <td>-1.0</td>\n",
       "      <td>0.0</td>\n",
       "      <td>1.0</td>\n",
       "      <td>0.0</td>\n",
       "      <td>-1.0</td>\n",
       "      <td>-1.0</td>\n",
       "      <td>0.0</td>\n",
       "      <td>0.0</td>\n",
       "      <td>1.0</td>\n",
       "      <td>0.0</td>\n",
       "    </tr>\n",
       "    <tr>\n",
       "      <th>2</th>\n",
       "      <td>-1.0</td>\n",
       "      <td>-1.0</td>\n",
       "      <td>-1.0</td>\n",
       "      <td>0.0</td>\n",
       "      <td>1.0</td>\n",
       "      <td>0.0</td>\n",
       "      <td>-1.0</td>\n",
       "      <td>-1.0</td>\n",
       "      <td>0.0</td>\n",
       "      <td>0.0</td>\n",
       "      <td>1.0</td>\n",
       "      <td>0.0</td>\n",
       "    </tr>\n",
       "    <tr>\n",
       "      <th>3</th>\n",
       "      <td>-1.0</td>\n",
       "      <td>-1.0</td>\n",
       "      <td>-1.0</td>\n",
       "      <td>0.0</td>\n",
       "      <td>1.0</td>\n",
       "      <td>0.0</td>\n",
       "      <td>-1.0</td>\n",
       "      <td>-1.0</td>\n",
       "      <td>0.0</td>\n",
       "      <td>0.0</td>\n",
       "      <td>1.0</td>\n",
       "      <td>0.0</td>\n",
       "    </tr>\n",
       "    <tr>\n",
       "      <th>4</th>\n",
       "      <td>-1.0</td>\n",
       "      <td>-1.0</td>\n",
       "      <td>-1.0</td>\n",
       "      <td>0.0</td>\n",
       "      <td>1.0</td>\n",
       "      <td>0.0</td>\n",
       "      <td>-1.0</td>\n",
       "      <td>-1.0</td>\n",
       "      <td>0.0</td>\n",
       "      <td>0.0</td>\n",
       "      <td>1.0</td>\n",
       "      <td>0.0</td>\n",
       "    </tr>\n",
       "  </tbody>\n",
       "</table>\n",
       "</div>"
      ],
      "text/plain": [
       "   Unnamed  XLarge Bags  Small Bags  Large Bags  type  Total Volume  4046  \\\n",
       "0     -1.0         -1.0        -1.0         0.0   1.0           0.0  -1.0   \n",
       "1     -1.0         -1.0        -1.0         0.0   1.0           0.0  -1.0   \n",
       "2     -1.0         -1.0        -1.0         0.0   1.0           0.0  -1.0   \n",
       "3     -1.0         -1.0        -1.0         0.0   1.0           0.0  -1.0   \n",
       "4     -1.0         -1.0        -1.0         0.0   1.0           0.0  -1.0   \n",
       "\n",
       "   4225  4770  Total Bags  year  region  \n",
       "0  -1.0   0.0         0.0   1.0     0.0  \n",
       "1  -1.0   0.0         0.0   1.0     0.0  \n",
       "2  -1.0   0.0         0.0   1.0     0.0  \n",
       "3  -1.0   0.0         0.0   1.0     0.0  \n",
       "4  -1.0   0.0         0.0   1.0     0.0  "
      ]
     },
     "execution_count": 208,
     "metadata": {},
     "output_type": "execute_result"
    }
   ],
   "source": [
    "x.head()"
   ]
  },
  {
   "cell_type": "code",
   "execution_count": 194,
   "metadata": {},
   "outputs": [],
   "source": [
    "y=df_avocado[\"AveragePrice\"]"
   ]
  },
  {
   "cell_type": "code",
   "execution_count": 196,
   "metadata": {},
   "outputs": [
    {
     "data": {
      "text/plain": [
       "14946    0.0\n",
       "14947    0.0\n",
       "14948    0.0\n",
       "14949    0.0\n",
       "14950    0.0\n",
       "Name: AveragePrice, dtype: float64"
      ]
     },
     "execution_count": 196,
     "metadata": {},
     "output_type": "execute_result"
    }
   ],
   "source": [
    "y.tail()"
   ]
  },
  {
   "cell_type": "markdown",
   "metadata": {},
   "source": [
    "## Finding the best Random_State"
   ]
  },
  {
   "cell_type": "code",
   "execution_count": 281,
   "metadata": {},
   "outputs": [
    {
     "name": "stdout",
     "output_type": "stream",
     "text": [
      "Best Score is 1.0  on Random_state 1\n"
     ]
    }
   ],
   "source": [
    "from sklearn.linear_model import LinearRegression\n",
    "maxAccu=0\n",
    "maxRS=0\n",
    "for i in range(1,200):\n",
    "    x_train,x_test,y_train,y_test=train_test_split(x,y,test_size=.30,random_state=i)\n",
    "    LR=LinearRegression()\n",
    "    LR.fit(x_train,y_train)\n",
    "    predrf=LR.predict(x_test)\n",
    "    acc=r2_score(y_test,predrf)\n",
    "    if acc>maxAccu:\n",
    "        maxAccu=acc\n",
    "        maxRS=i\n",
    "print(\"Best Score is\",maxAccu,\" on Random_state\",maxRS)"
   ]
  },
  {
   "cell_type": "markdown",
   "metadata": {},
   "source": [
    "## Creating train-test split"
   ]
  },
  {
   "cell_type": "code",
   "execution_count": 282,
   "metadata": {},
   "outputs": [],
   "source": [
    "x_train,x_test,y_train,y_test=train_test_split(x,y,test_size=.30,random_state=1)"
   ]
  },
  {
   "cell_type": "code",
   "execution_count": 283,
   "metadata": {},
   "outputs": [],
   "source": [
    "model=[LinearRegression(),DecisionTreeRegressor(),RandomForestRegressor(),SVR()]"
   ]
  },
  {
   "cell_type": "code",
   "execution_count": 284,
   "metadata": {},
   "outputs": [
    {
     "name": "stdout",
     "output_type": "stream",
     "text": [
      "Mean squared error 0.0\n",
      "Square root of Mean squared error 0.0\n",
      "Mean absolute error 0.0\n",
      "Print R2 score 1.0\n",
      "\n",
      "\n",
      "Mean squared error 1.9320978505899326e-26\n",
      "Square root of Mean squared error 1.389999226830696e-13\n",
      "Mean absolute error 1.389999226830696e-13\n",
      "Print R2 score 0.0\n",
      "\n",
      "\n",
      "Mean squared error 8.491348087605547e-27\n",
      "Square root of Mean squared error 9.214851104388799e-14\n",
      "Mean absolute error 9.214851104388799e-14\n",
      "Print R2 score 0.0\n",
      "\n",
      "\n",
      "Mean squared error 0.0\n",
      "Square root of Mean squared error 0.0\n",
      "Mean absolute error 0.0\n",
      "Print R2 score 1.0\n",
      "\n",
      "\n"
     ]
    }
   ],
   "source": [
    "for m in model:\n",
    "    m.fit(x_train,y_train)\n",
    "    m.score(x_train,y_train)\n",
    "    predm=m.predict(x_test)\n",
    "    print('Mean squared error',mean_squared_error(y_test,predm))\n",
    "    print('Square root of Mean squared error',np.sqrt(mean_squared_error(y_test,predm)))\n",
    "    print('Mean absolute error',mean_absolute_error(y_test,predm))\n",
    "    print('Print R2 score',r2_score(y_test,predm)) \n",
    "    print('\\n')"
   ]
  },
  {
   "cell_type": "markdown",
   "metadata": {},
   "source": [
    "## Cross validation"
   ]
  },
  {
   "cell_type": "code",
   "execution_count": 285,
   "metadata": {},
   "outputs": [],
   "source": [
    "svr=SVR()"
   ]
  },
  {
   "cell_type": "code",
   "execution_count": 286,
   "metadata": {},
   "outputs": [],
   "source": [
    "lr=LinearRegression()\n",
    "dt=DecisionTreeRegressor()\n",
    "rf=RandomForestRegressor()"
   ]
  },
  {
   "cell_type": "code",
   "execution_count": 287,
   "metadata": {},
   "outputs": [],
   "source": [
    "from sklearn.model_selection import cross_val_score"
   ]
  },
  {
   "cell_type": "code",
   "execution_count": 288,
   "metadata": {},
   "outputs": [
    {
     "name": "stdout",
     "output_type": "stream",
     "text": [
      "1.0\n"
     ]
    }
   ],
   "source": [
    "svrscores = cross_val_score(svr,x,y,cv=5)\n",
    "print(svrscores.mean())"
   ]
  },
  {
   "cell_type": "code",
   "execution_count": 289,
   "metadata": {},
   "outputs": [
    {
     "name": "stdout",
     "output_type": "stream",
     "text": [
      "0.0\n"
     ]
    }
   ],
   "source": [
    "dtscores = cross_val_score(dt,x,y,cv=5)\n",
    "print(dtscores.mean())"
   ]
  },
  {
   "cell_type": "code",
   "execution_count": 290,
   "metadata": {},
   "outputs": [
    {
     "name": "stdout",
     "output_type": "stream",
     "text": [
      "0.0\n"
     ]
    }
   ],
   "source": [
    "rfscores = cross_val_score(rf,x,y,cv=5)\n",
    "print(rfscores.mean())"
   ]
  },
  {
   "cell_type": "code",
   "execution_count": 291,
   "metadata": {},
   "outputs": [
    {
     "name": "stdout",
     "output_type": "stream",
     "text": [
      "1.0\n"
     ]
    }
   ],
   "source": [
    "lrscores = cross_val_score(lr,x,y,cv=5)\n",
    "print(lrscores.mean())"
   ]
  },
  {
   "cell_type": "markdown",
   "metadata": {},
   "source": [
    "Linear Regression is the best model"
   ]
  },
  {
   "cell_type": "markdown",
   "metadata": {},
   "source": [
    "## Hyper parameter Tunning"
   ]
  },
  {
   "cell_type": "code",
   "execution_count": 292,
   "metadata": {},
   "outputs": [],
   "source": [
    "from sklearn.model_selection import GridSearchCV"
   ]
  },
  {
   "cell_type": "code",
   "execution_count": 293,
   "metadata": {},
   "outputs": [
    {
     "data": {
      "text/plain": [
       "dict_keys(['copy_X', 'fit_intercept', 'n_jobs', 'normalize'])"
      ]
     },
     "execution_count": 293,
     "metadata": {},
     "output_type": "execute_result"
    }
   ],
   "source": [
    "LinearRegression().get_params().keys()"
   ]
  },
  {
   "cell_type": "code",
   "execution_count": 294,
   "metadata": {},
   "outputs": [],
   "source": [
    "parameters= {'n_jobs':np.arange(2,15),\n",
    "            'copy_X':['intercept_','coef_']}"
   ]
  },
  {
   "cell_type": "code",
   "execution_count": 295,
   "metadata": {},
   "outputs": [],
   "source": [
    "GCV=GridSearchCV(LinearRegression(),parameters,cv=5)"
   ]
  },
  {
   "cell_type": "code",
   "execution_count": 297,
   "metadata": {},
   "outputs": [
    {
     "data": {
      "text/plain": [
       "['Avocado.pkl']"
      ]
     },
     "execution_count": 297,
     "metadata": {},
     "output_type": "execute_result"
    }
   ],
   "source": [
    "import joblib\n",
    "joblib.dump(LinearRegression(),\"Avocado.pkl\")"
   ]
  },
  {
   "cell_type": "code",
   "execution_count": null,
   "metadata": {},
   "outputs": [],
   "source": []
  }
 ],
 "metadata": {
  "kernelspec": {
   "display_name": "Python 3",
   "language": "python",
   "name": "python3"
  },
  "language_info": {
   "codemirror_mode": {
    "name": "ipython",
    "version": 3
   },
   "file_extension": ".py",
   "mimetype": "text/x-python",
   "name": "python",
   "nbconvert_exporter": "python",
   "pygments_lexer": "ipython3",
   "version": "3.8.3"
  }
 },
 "nbformat": 4,
 "nbformat_minor": 4
}
