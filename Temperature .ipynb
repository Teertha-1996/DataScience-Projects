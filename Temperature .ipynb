{
 "cells": [
  {
   "cell_type": "markdown",
   "metadata": {},
   "source": [
    "# Temperature Prediction Project"
   ]
  },
  {
   "cell_type": "markdown",
   "metadata": {},
   "source": [
    "## Data Description\n",
    "This data is for the purpose of bias correction of next-day maximum and minimum air temperatures forecast of the LDAPS model operated by the Korea Meteorological Administration over Seoul, South Korea. To predict the Temperature using the dataset."
   ]
  },
  {
   "cell_type": "markdown",
   "metadata": {},
   "source": [
    "Import required libraries"
   ]
  },
  {
   "cell_type": "code",
   "execution_count": 1,
   "metadata": {},
   "outputs": [],
   "source": [
    "import pandas as pd\n",
    "import numpy as np\n",
    "import sklearn\n",
    "import seaborn as sns\n",
    "import matplotlib.pyplot as plt\n",
    "import warnings \n",
    "warnings.filterwarnings('ignore')\n",
    "from sklearn.model_selection import train_test_split\n",
    "from sklearn.metrics import r2_score,mean_squared_error,mean_absolute_error\n",
    "from sklearn.linear_model import LinearRegression\n",
    "from sklearn.ensemble import RandomForestRegressor\n",
    "from sklearn.tree import DecisionTreeRegressor\n",
    "from sklearn.svm import SVR\n",
    "from sklearn.model_selection import GridSearchCV"
   ]
  },
  {
   "cell_type": "markdown",
   "metadata": {},
   "source": [
    "## Loading the dataset"
   ]
  },
  {
   "cell_type": "code",
   "execution_count": 2,
   "metadata": {},
   "outputs": [
    {
     "data": {
      "text/html": [
       "<div>\n",
       "<style scoped>\n",
       "    .dataframe tbody tr th:only-of-type {\n",
       "        vertical-align: middle;\n",
       "    }\n",
       "\n",
       "    .dataframe tbody tr th {\n",
       "        vertical-align: top;\n",
       "    }\n",
       "\n",
       "    .dataframe thead th {\n",
       "        text-align: right;\n",
       "    }\n",
       "</style>\n",
       "<table border=\"1\" class=\"dataframe\">\n",
       "  <thead>\n",
       "    <tr style=\"text-align: right;\">\n",
       "      <th></th>\n",
       "      <th>station</th>\n",
       "      <th>Date</th>\n",
       "      <th>Present_Tmax</th>\n",
       "      <th>Present_Tmin</th>\n",
       "      <th>LDAPS_RHmin</th>\n",
       "      <th>LDAPS_RHmax</th>\n",
       "      <th>LDAPS_Tmax_lapse</th>\n",
       "      <th>LDAPS_Tmin_lapse</th>\n",
       "      <th>LDAPS_WS</th>\n",
       "      <th>LDAPS_LH</th>\n",
       "      <th>...</th>\n",
       "      <th>LDAPS_PPT2</th>\n",
       "      <th>LDAPS_PPT3</th>\n",
       "      <th>LDAPS_PPT4</th>\n",
       "      <th>lat</th>\n",
       "      <th>lon</th>\n",
       "      <th>DEM</th>\n",
       "      <th>Slope</th>\n",
       "      <th>Solar radiation</th>\n",
       "      <th>Next_Tmax</th>\n",
       "      <th>Next_Tmin</th>\n",
       "    </tr>\n",
       "  </thead>\n",
       "  <tbody>\n",
       "    <tr>\n",
       "      <th>0</th>\n",
       "      <td>1.0</td>\n",
       "      <td>30-06-2013</td>\n",
       "      <td>28.7</td>\n",
       "      <td>21.4</td>\n",
       "      <td>58.255688</td>\n",
       "      <td>91.116364</td>\n",
       "      <td>28.074101</td>\n",
       "      <td>23.006936</td>\n",
       "      <td>6.818887</td>\n",
       "      <td>69.451805</td>\n",
       "      <td>...</td>\n",
       "      <td>0.0</td>\n",
       "      <td>0.0</td>\n",
       "      <td>0.0</td>\n",
       "      <td>37.6046</td>\n",
       "      <td>126.991</td>\n",
       "      <td>212.3350</td>\n",
       "      <td>2.7850</td>\n",
       "      <td>5992.895996</td>\n",
       "      <td>29.1</td>\n",
       "      <td>21.2</td>\n",
       "    </tr>\n",
       "    <tr>\n",
       "      <th>1</th>\n",
       "      <td>2.0</td>\n",
       "      <td>30-06-2013</td>\n",
       "      <td>31.9</td>\n",
       "      <td>21.6</td>\n",
       "      <td>52.263397</td>\n",
       "      <td>90.604721</td>\n",
       "      <td>29.850689</td>\n",
       "      <td>24.035009</td>\n",
       "      <td>5.691890</td>\n",
       "      <td>51.937448</td>\n",
       "      <td>...</td>\n",
       "      <td>0.0</td>\n",
       "      <td>0.0</td>\n",
       "      <td>0.0</td>\n",
       "      <td>37.6046</td>\n",
       "      <td>127.032</td>\n",
       "      <td>44.7624</td>\n",
       "      <td>0.5141</td>\n",
       "      <td>5869.312500</td>\n",
       "      <td>30.5</td>\n",
       "      <td>22.5</td>\n",
       "    </tr>\n",
       "    <tr>\n",
       "      <th>2</th>\n",
       "      <td>3.0</td>\n",
       "      <td>30-06-2013</td>\n",
       "      <td>31.6</td>\n",
       "      <td>23.3</td>\n",
       "      <td>48.690479</td>\n",
       "      <td>83.973587</td>\n",
       "      <td>30.091292</td>\n",
       "      <td>24.565633</td>\n",
       "      <td>6.138224</td>\n",
       "      <td>20.573050</td>\n",
       "      <td>...</td>\n",
       "      <td>0.0</td>\n",
       "      <td>0.0</td>\n",
       "      <td>0.0</td>\n",
       "      <td>37.5776</td>\n",
       "      <td>127.058</td>\n",
       "      <td>33.3068</td>\n",
       "      <td>0.2661</td>\n",
       "      <td>5863.555664</td>\n",
       "      <td>31.1</td>\n",
       "      <td>23.9</td>\n",
       "    </tr>\n",
       "    <tr>\n",
       "      <th>3</th>\n",
       "      <td>4.0</td>\n",
       "      <td>30-06-2013</td>\n",
       "      <td>32.0</td>\n",
       "      <td>23.4</td>\n",
       "      <td>58.239788</td>\n",
       "      <td>96.483688</td>\n",
       "      <td>29.704629</td>\n",
       "      <td>23.326177</td>\n",
       "      <td>5.650050</td>\n",
       "      <td>65.727144</td>\n",
       "      <td>...</td>\n",
       "      <td>0.0</td>\n",
       "      <td>0.0</td>\n",
       "      <td>0.0</td>\n",
       "      <td>37.6450</td>\n",
       "      <td>127.022</td>\n",
       "      <td>45.7160</td>\n",
       "      <td>2.5348</td>\n",
       "      <td>5856.964844</td>\n",
       "      <td>31.7</td>\n",
       "      <td>24.3</td>\n",
       "    </tr>\n",
       "    <tr>\n",
       "      <th>4</th>\n",
       "      <td>5.0</td>\n",
       "      <td>30-06-2013</td>\n",
       "      <td>31.4</td>\n",
       "      <td>21.9</td>\n",
       "      <td>56.174095</td>\n",
       "      <td>90.155128</td>\n",
       "      <td>29.113934</td>\n",
       "      <td>23.486480</td>\n",
       "      <td>5.735004</td>\n",
       "      <td>107.965535</td>\n",
       "      <td>...</td>\n",
       "      <td>0.0</td>\n",
       "      <td>0.0</td>\n",
       "      <td>0.0</td>\n",
       "      <td>37.5507</td>\n",
       "      <td>127.135</td>\n",
       "      <td>35.0380</td>\n",
       "      <td>0.5055</td>\n",
       "      <td>5859.552246</td>\n",
       "      <td>31.2</td>\n",
       "      <td>22.5</td>\n",
       "    </tr>\n",
       "  </tbody>\n",
       "</table>\n",
       "<p>5 rows × 25 columns</p>\n",
       "</div>"
      ],
      "text/plain": [
       "   station        Date  Present_Tmax  Present_Tmin  LDAPS_RHmin  LDAPS_RHmax  \\\n",
       "0      1.0  30-06-2013          28.7          21.4    58.255688    91.116364   \n",
       "1      2.0  30-06-2013          31.9          21.6    52.263397    90.604721   \n",
       "2      3.0  30-06-2013          31.6          23.3    48.690479    83.973587   \n",
       "3      4.0  30-06-2013          32.0          23.4    58.239788    96.483688   \n",
       "4      5.0  30-06-2013          31.4          21.9    56.174095    90.155128   \n",
       "\n",
       "   LDAPS_Tmax_lapse  LDAPS_Tmin_lapse  LDAPS_WS    LDAPS_LH  ...  LDAPS_PPT2  \\\n",
       "0         28.074101         23.006936  6.818887   69.451805  ...         0.0   \n",
       "1         29.850689         24.035009  5.691890   51.937448  ...         0.0   \n",
       "2         30.091292         24.565633  6.138224   20.573050  ...         0.0   \n",
       "3         29.704629         23.326177  5.650050   65.727144  ...         0.0   \n",
       "4         29.113934         23.486480  5.735004  107.965535  ...         0.0   \n",
       "\n",
       "   LDAPS_PPT3  LDAPS_PPT4      lat      lon       DEM   Slope  \\\n",
       "0         0.0         0.0  37.6046  126.991  212.3350  2.7850   \n",
       "1         0.0         0.0  37.6046  127.032   44.7624  0.5141   \n",
       "2         0.0         0.0  37.5776  127.058   33.3068  0.2661   \n",
       "3         0.0         0.0  37.6450  127.022   45.7160  2.5348   \n",
       "4         0.0         0.0  37.5507  127.135   35.0380  0.5055   \n",
       "\n",
       "   Solar radiation  Next_Tmax  Next_Tmin  \n",
       "0      5992.895996       29.1       21.2  \n",
       "1      5869.312500       30.5       22.5  \n",
       "2      5863.555664       31.1       23.9  \n",
       "3      5856.964844       31.7       24.3  \n",
       "4      5859.552246       31.2       22.5  \n",
       "\n",
       "[5 rows x 25 columns]"
      ]
     },
     "execution_count": 2,
     "metadata": {},
     "output_type": "execute_result"
    }
   ],
   "source": [
    "df=pd.read_csv('Temperature.csv')\n",
    "\n",
    "df.head()"
   ]
  },
  {
   "cell_type": "markdown",
   "metadata": {},
   "source": [
    "Data has been imported and we can see the first 5 rows of the data using df.head() function"
   ]
  },
  {
   "cell_type": "markdown",
   "metadata": {},
   "source": [
    "## Exploratory Data Analysis"
   ]
  },
  {
   "cell_type": "code",
   "execution_count": 3,
   "metadata": {},
   "outputs": [
    {
     "data": {
      "text/plain": [
       "(7752, 25)"
      ]
     },
     "execution_count": 3,
     "metadata": {},
     "output_type": "execute_result"
    }
   ],
   "source": [
    "df.shape"
   ]
  },
  {
   "cell_type": "markdown",
   "metadata": {},
   "source": [
    "This is the shape of data"
   ]
  },
  {
   "cell_type": "code",
   "execution_count": 4,
   "metadata": {},
   "outputs": [
    {
     "data": {
      "text/plain": [
       "station             float64\n",
       "Date                 object\n",
       "Present_Tmax        float64\n",
       "Present_Tmin        float64\n",
       "LDAPS_RHmin         float64\n",
       "LDAPS_RHmax         float64\n",
       "LDAPS_Tmax_lapse    float64\n",
       "LDAPS_Tmin_lapse    float64\n",
       "LDAPS_WS            float64\n",
       "LDAPS_LH            float64\n",
       "LDAPS_CC1           float64\n",
       "LDAPS_CC2           float64\n",
       "LDAPS_CC3           float64\n",
       "LDAPS_CC4           float64\n",
       "LDAPS_PPT1          float64\n",
       "LDAPS_PPT2          float64\n",
       "LDAPS_PPT3          float64\n",
       "LDAPS_PPT4          float64\n",
       "lat                 float64\n",
       "lon                 float64\n",
       "DEM                 float64\n",
       "Slope               float64\n",
       "Solar radiation     float64\n",
       "Next_Tmax           float64\n",
       "Next_Tmin           float64\n",
       "dtype: object"
      ]
     },
     "execution_count": 4,
     "metadata": {},
     "output_type": "execute_result"
    }
   ],
   "source": [
    "df.dtypes"
   ]
  },
  {
   "cell_type": "markdown",
   "metadata": {},
   "source": [
    "These are the datatypes of each columns which includes float and object values "
   ]
  },
  {
   "cell_type": "code",
   "execution_count": 5,
   "metadata": {},
   "outputs": [
    {
     "data": {
      "text/plain": [
       "Index(['station', 'Date', 'Present_Tmax', 'Present_Tmin', 'LDAPS_RHmin',\n",
       "       'LDAPS_RHmax', 'LDAPS_Tmax_lapse', 'LDAPS_Tmin_lapse', 'LDAPS_WS',\n",
       "       'LDAPS_LH', 'LDAPS_CC1', 'LDAPS_CC2', 'LDAPS_CC3', 'LDAPS_CC4',\n",
       "       'LDAPS_PPT1', 'LDAPS_PPT2', 'LDAPS_PPT3', 'LDAPS_PPT4', 'lat', 'lon',\n",
       "       'DEM', 'Slope', 'Solar radiation', 'Next_Tmax', 'Next_Tmin'],\n",
       "      dtype='object')"
      ]
     },
     "execution_count": 5,
     "metadata": {},
     "output_type": "execute_result"
    }
   ],
   "source": [
    "df.columns"
   ]
  },
  {
   "cell_type": "markdown",
   "metadata": {},
   "source": [
    "These are the columns of data"
   ]
  },
  {
   "cell_type": "code",
   "execution_count": 6,
   "metadata": {},
   "outputs": [
    {
     "name": "stdout",
     "output_type": "stream",
     "text": [
      "<class 'pandas.core.frame.DataFrame'>\n",
      "RangeIndex: 7752 entries, 0 to 7751\n",
      "Data columns (total 25 columns):\n",
      " #   Column            Non-Null Count  Dtype  \n",
      "---  ------            --------------  -----  \n",
      " 0   station           7750 non-null   float64\n",
      " 1   Date              7750 non-null   object \n",
      " 2   Present_Tmax      7682 non-null   float64\n",
      " 3   Present_Tmin      7682 non-null   float64\n",
      " 4   LDAPS_RHmin       7677 non-null   float64\n",
      " 5   LDAPS_RHmax       7677 non-null   float64\n",
      " 6   LDAPS_Tmax_lapse  7677 non-null   float64\n",
      " 7   LDAPS_Tmin_lapse  7677 non-null   float64\n",
      " 8   LDAPS_WS          7677 non-null   float64\n",
      " 9   LDAPS_LH          7677 non-null   float64\n",
      " 10  LDAPS_CC1         7677 non-null   float64\n",
      " 11  LDAPS_CC2         7677 non-null   float64\n",
      " 12  LDAPS_CC3         7677 non-null   float64\n",
      " 13  LDAPS_CC4         7677 non-null   float64\n",
      " 14  LDAPS_PPT1        7677 non-null   float64\n",
      " 15  LDAPS_PPT2        7677 non-null   float64\n",
      " 16  LDAPS_PPT3        7677 non-null   float64\n",
      " 17  LDAPS_PPT4        7677 non-null   float64\n",
      " 18  lat               7752 non-null   float64\n",
      " 19  lon               7752 non-null   float64\n",
      " 20  DEM               7752 non-null   float64\n",
      " 21  Slope             7752 non-null   float64\n",
      " 22  Solar radiation   7752 non-null   float64\n",
      " 23  Next_Tmax         7725 non-null   float64\n",
      " 24  Next_Tmin         7725 non-null   float64\n",
      "dtypes: float64(24), object(1)\n",
      "memory usage: 1.5+ MB\n"
     ]
    }
   ],
   "source": [
    "df.info()"
   ]
  },
  {
   "cell_type": "code",
   "execution_count": 7,
   "metadata": {},
   "outputs": [
    {
     "data": {
      "text/plain": [
       "station              2\n",
       "Date                 2\n",
       "Present_Tmax        70\n",
       "Present_Tmin        70\n",
       "LDAPS_RHmin         75\n",
       "LDAPS_RHmax         75\n",
       "LDAPS_Tmax_lapse    75\n",
       "LDAPS_Tmin_lapse    75\n",
       "LDAPS_WS            75\n",
       "LDAPS_LH            75\n",
       "LDAPS_CC1           75\n",
       "LDAPS_CC2           75\n",
       "LDAPS_CC3           75\n",
       "LDAPS_CC4           75\n",
       "LDAPS_PPT1          75\n",
       "LDAPS_PPT2          75\n",
       "LDAPS_PPT3          75\n",
       "LDAPS_PPT4          75\n",
       "lat                  0\n",
       "lon                  0\n",
       "DEM                  0\n",
       "Slope                0\n",
       "Solar radiation      0\n",
       "Next_Tmax           27\n",
       "Next_Tmin           27\n",
       "dtype: int64"
      ]
     },
     "execution_count": 7,
     "metadata": {},
     "output_type": "execute_result"
    }
   ],
   "source": [
    "df.isnull().sum()"
   ]
  },
  {
   "cell_type": "markdown",
   "metadata": {},
   "source": [
    "The data does has null values"
   ]
  },
  {
   "cell_type": "code",
   "execution_count": 8,
   "metadata": {},
   "outputs": [
    {
     "data": {
      "text/html": [
       "<div>\n",
       "<style scoped>\n",
       "    .dataframe tbody tr th:only-of-type {\n",
       "        vertical-align: middle;\n",
       "    }\n",
       "\n",
       "    .dataframe tbody tr th {\n",
       "        vertical-align: top;\n",
       "    }\n",
       "\n",
       "    .dataframe thead th {\n",
       "        text-align: right;\n",
       "    }\n",
       "</style>\n",
       "<table border=\"1\" class=\"dataframe\">\n",
       "  <thead>\n",
       "    <tr style=\"text-align: right;\">\n",
       "      <th></th>\n",
       "      <th>station</th>\n",
       "      <th>Date</th>\n",
       "      <th>Present_Tmax</th>\n",
       "      <th>Present_Tmin</th>\n",
       "      <th>LDAPS_RHmin</th>\n",
       "      <th>LDAPS_RHmax</th>\n",
       "      <th>LDAPS_Tmax_lapse</th>\n",
       "      <th>LDAPS_Tmin_lapse</th>\n",
       "      <th>LDAPS_WS</th>\n",
       "      <th>LDAPS_LH</th>\n",
       "      <th>...</th>\n",
       "      <th>LDAPS_PPT2</th>\n",
       "      <th>LDAPS_PPT3</th>\n",
       "      <th>LDAPS_PPT4</th>\n",
       "      <th>lat</th>\n",
       "      <th>lon</th>\n",
       "      <th>DEM</th>\n",
       "      <th>Slope</th>\n",
       "      <th>Solar radiation</th>\n",
       "      <th>Next_Tmax</th>\n",
       "      <th>Next_Tmin</th>\n",
       "    </tr>\n",
       "  </thead>\n",
       "  <tbody>\n",
       "    <tr>\n",
       "      <th>count</th>\n",
       "      <td>7750.000000</td>\n",
       "      <td>7750</td>\n",
       "      <td>7682.000000</td>\n",
       "      <td>7682.000000</td>\n",
       "      <td>7677.000000</td>\n",
       "      <td>7677.000000</td>\n",
       "      <td>7677.000000</td>\n",
       "      <td>7677.000000</td>\n",
       "      <td>7677.000000</td>\n",
       "      <td>7677.000000</td>\n",
       "      <td>...</td>\n",
       "      <td>7677.000000</td>\n",
       "      <td>7677.000000</td>\n",
       "      <td>7677.000000</td>\n",
       "      <td>7752.000000</td>\n",
       "      <td>7752.000000</td>\n",
       "      <td>7752.000000</td>\n",
       "      <td>7752.000000</td>\n",
       "      <td>7752.000000</td>\n",
       "      <td>7725.000000</td>\n",
       "      <td>7725.000000</td>\n",
       "    </tr>\n",
       "    <tr>\n",
       "      <th>unique</th>\n",
       "      <td>NaN</td>\n",
       "      <td>310</td>\n",
       "      <td>NaN</td>\n",
       "      <td>NaN</td>\n",
       "      <td>NaN</td>\n",
       "      <td>NaN</td>\n",
       "      <td>NaN</td>\n",
       "      <td>NaN</td>\n",
       "      <td>NaN</td>\n",
       "      <td>NaN</td>\n",
       "      <td>...</td>\n",
       "      <td>NaN</td>\n",
       "      <td>NaN</td>\n",
       "      <td>NaN</td>\n",
       "      <td>NaN</td>\n",
       "      <td>NaN</td>\n",
       "      <td>NaN</td>\n",
       "      <td>NaN</td>\n",
       "      <td>NaN</td>\n",
       "      <td>NaN</td>\n",
       "      <td>NaN</td>\n",
       "    </tr>\n",
       "    <tr>\n",
       "      <th>top</th>\n",
       "      <td>NaN</td>\n",
       "      <td>30-07-2017</td>\n",
       "      <td>NaN</td>\n",
       "      <td>NaN</td>\n",
       "      <td>NaN</td>\n",
       "      <td>NaN</td>\n",
       "      <td>NaN</td>\n",
       "      <td>NaN</td>\n",
       "      <td>NaN</td>\n",
       "      <td>NaN</td>\n",
       "      <td>...</td>\n",
       "      <td>NaN</td>\n",
       "      <td>NaN</td>\n",
       "      <td>NaN</td>\n",
       "      <td>NaN</td>\n",
       "      <td>NaN</td>\n",
       "      <td>NaN</td>\n",
       "      <td>NaN</td>\n",
       "      <td>NaN</td>\n",
       "      <td>NaN</td>\n",
       "      <td>NaN</td>\n",
       "    </tr>\n",
       "    <tr>\n",
       "      <th>freq</th>\n",
       "      <td>NaN</td>\n",
       "      <td>25</td>\n",
       "      <td>NaN</td>\n",
       "      <td>NaN</td>\n",
       "      <td>NaN</td>\n",
       "      <td>NaN</td>\n",
       "      <td>NaN</td>\n",
       "      <td>NaN</td>\n",
       "      <td>NaN</td>\n",
       "      <td>NaN</td>\n",
       "      <td>...</td>\n",
       "      <td>NaN</td>\n",
       "      <td>NaN</td>\n",
       "      <td>NaN</td>\n",
       "      <td>NaN</td>\n",
       "      <td>NaN</td>\n",
       "      <td>NaN</td>\n",
       "      <td>NaN</td>\n",
       "      <td>NaN</td>\n",
       "      <td>NaN</td>\n",
       "      <td>NaN</td>\n",
       "    </tr>\n",
       "    <tr>\n",
       "      <th>mean</th>\n",
       "      <td>13.000000</td>\n",
       "      <td>NaN</td>\n",
       "      <td>29.768211</td>\n",
       "      <td>23.225059</td>\n",
       "      <td>56.759372</td>\n",
       "      <td>88.374804</td>\n",
       "      <td>29.613447</td>\n",
       "      <td>23.512589</td>\n",
       "      <td>7.097875</td>\n",
       "      <td>62.505019</td>\n",
       "      <td>...</td>\n",
       "      <td>0.485003</td>\n",
       "      <td>0.278200</td>\n",
       "      <td>0.269407</td>\n",
       "      <td>37.544722</td>\n",
       "      <td>126.991397</td>\n",
       "      <td>61.867972</td>\n",
       "      <td>1.257048</td>\n",
       "      <td>5341.502803</td>\n",
       "      <td>30.274887</td>\n",
       "      <td>22.932220</td>\n",
       "    </tr>\n",
       "    <tr>\n",
       "      <th>std</th>\n",
       "      <td>7.211568</td>\n",
       "      <td>NaN</td>\n",
       "      <td>2.969999</td>\n",
       "      <td>2.413961</td>\n",
       "      <td>14.668111</td>\n",
       "      <td>7.192004</td>\n",
       "      <td>2.947191</td>\n",
       "      <td>2.345347</td>\n",
       "      <td>2.183836</td>\n",
       "      <td>33.730589</td>\n",
       "      <td>...</td>\n",
       "      <td>1.762807</td>\n",
       "      <td>1.161809</td>\n",
       "      <td>1.206214</td>\n",
       "      <td>0.050352</td>\n",
       "      <td>0.079435</td>\n",
       "      <td>54.279780</td>\n",
       "      <td>1.370444</td>\n",
       "      <td>429.158867</td>\n",
       "      <td>3.128010</td>\n",
       "      <td>2.487613</td>\n",
       "    </tr>\n",
       "    <tr>\n",
       "      <th>min</th>\n",
       "      <td>1.000000</td>\n",
       "      <td>NaN</td>\n",
       "      <td>20.000000</td>\n",
       "      <td>11.300000</td>\n",
       "      <td>19.794666</td>\n",
       "      <td>58.936283</td>\n",
       "      <td>17.624954</td>\n",
       "      <td>14.272646</td>\n",
       "      <td>2.882580</td>\n",
       "      <td>-13.603212</td>\n",
       "      <td>...</td>\n",
       "      <td>0.000000</td>\n",
       "      <td>0.000000</td>\n",
       "      <td>0.000000</td>\n",
       "      <td>37.456200</td>\n",
       "      <td>126.826000</td>\n",
       "      <td>12.370000</td>\n",
       "      <td>0.098475</td>\n",
       "      <td>4329.520508</td>\n",
       "      <td>17.400000</td>\n",
       "      <td>11.300000</td>\n",
       "    </tr>\n",
       "    <tr>\n",
       "      <th>25%</th>\n",
       "      <td>7.000000</td>\n",
       "      <td>NaN</td>\n",
       "      <td>27.800000</td>\n",
       "      <td>21.700000</td>\n",
       "      <td>45.963543</td>\n",
       "      <td>84.222862</td>\n",
       "      <td>27.673499</td>\n",
       "      <td>22.089739</td>\n",
       "      <td>5.678705</td>\n",
       "      <td>37.266753</td>\n",
       "      <td>...</td>\n",
       "      <td>0.000000</td>\n",
       "      <td>0.000000</td>\n",
       "      <td>0.000000</td>\n",
       "      <td>37.510200</td>\n",
       "      <td>126.937000</td>\n",
       "      <td>28.700000</td>\n",
       "      <td>0.271300</td>\n",
       "      <td>4999.018555</td>\n",
       "      <td>28.200000</td>\n",
       "      <td>21.300000</td>\n",
       "    </tr>\n",
       "    <tr>\n",
       "      <th>50%</th>\n",
       "      <td>13.000000</td>\n",
       "      <td>NaN</td>\n",
       "      <td>29.900000</td>\n",
       "      <td>23.400000</td>\n",
       "      <td>55.039024</td>\n",
       "      <td>89.793480</td>\n",
       "      <td>29.703426</td>\n",
       "      <td>23.760199</td>\n",
       "      <td>6.547470</td>\n",
       "      <td>56.865482</td>\n",
       "      <td>...</td>\n",
       "      <td>0.000000</td>\n",
       "      <td>0.000000</td>\n",
       "      <td>0.000000</td>\n",
       "      <td>37.550700</td>\n",
       "      <td>126.995000</td>\n",
       "      <td>45.716000</td>\n",
       "      <td>0.618000</td>\n",
       "      <td>5436.345215</td>\n",
       "      <td>30.500000</td>\n",
       "      <td>23.100000</td>\n",
       "    </tr>\n",
       "    <tr>\n",
       "      <th>75%</th>\n",
       "      <td>19.000000</td>\n",
       "      <td>NaN</td>\n",
       "      <td>32.000000</td>\n",
       "      <td>24.900000</td>\n",
       "      <td>67.190056</td>\n",
       "      <td>93.743629</td>\n",
       "      <td>31.710450</td>\n",
       "      <td>25.152909</td>\n",
       "      <td>8.032276</td>\n",
       "      <td>84.223616</td>\n",
       "      <td>...</td>\n",
       "      <td>0.018364</td>\n",
       "      <td>0.007896</td>\n",
       "      <td>0.000041</td>\n",
       "      <td>37.577600</td>\n",
       "      <td>127.042000</td>\n",
       "      <td>59.832400</td>\n",
       "      <td>1.767800</td>\n",
       "      <td>5728.316406</td>\n",
       "      <td>32.600000</td>\n",
       "      <td>24.600000</td>\n",
       "    </tr>\n",
       "    <tr>\n",
       "      <th>max</th>\n",
       "      <td>25.000000</td>\n",
       "      <td>NaN</td>\n",
       "      <td>37.600000</td>\n",
       "      <td>29.900000</td>\n",
       "      <td>98.524734</td>\n",
       "      <td>100.000153</td>\n",
       "      <td>38.542255</td>\n",
       "      <td>29.619342</td>\n",
       "      <td>21.857621</td>\n",
       "      <td>213.414006</td>\n",
       "      <td>...</td>\n",
       "      <td>21.621661</td>\n",
       "      <td>15.841235</td>\n",
       "      <td>16.655469</td>\n",
       "      <td>37.645000</td>\n",
       "      <td>127.135000</td>\n",
       "      <td>212.335000</td>\n",
       "      <td>5.178230</td>\n",
       "      <td>5992.895996</td>\n",
       "      <td>38.900000</td>\n",
       "      <td>29.800000</td>\n",
       "    </tr>\n",
       "  </tbody>\n",
       "</table>\n",
       "<p>11 rows × 25 columns</p>\n",
       "</div>"
      ],
      "text/plain": [
       "            station        Date  Present_Tmax  Present_Tmin  LDAPS_RHmin  \\\n",
       "count   7750.000000        7750   7682.000000   7682.000000  7677.000000   \n",
       "unique          NaN         310           NaN           NaN          NaN   \n",
       "top             NaN  30-07-2017           NaN           NaN          NaN   \n",
       "freq            NaN          25           NaN           NaN          NaN   \n",
       "mean      13.000000         NaN     29.768211     23.225059    56.759372   \n",
       "std        7.211568         NaN      2.969999      2.413961    14.668111   \n",
       "min        1.000000         NaN     20.000000     11.300000    19.794666   \n",
       "25%        7.000000         NaN     27.800000     21.700000    45.963543   \n",
       "50%       13.000000         NaN     29.900000     23.400000    55.039024   \n",
       "75%       19.000000         NaN     32.000000     24.900000    67.190056   \n",
       "max       25.000000         NaN     37.600000     29.900000    98.524734   \n",
       "\n",
       "        LDAPS_RHmax  LDAPS_Tmax_lapse  LDAPS_Tmin_lapse     LDAPS_WS  \\\n",
       "count   7677.000000       7677.000000       7677.000000  7677.000000   \n",
       "unique          NaN               NaN               NaN          NaN   \n",
       "top             NaN               NaN               NaN          NaN   \n",
       "freq            NaN               NaN               NaN          NaN   \n",
       "mean      88.374804         29.613447         23.512589     7.097875   \n",
       "std        7.192004          2.947191          2.345347     2.183836   \n",
       "min       58.936283         17.624954         14.272646     2.882580   \n",
       "25%       84.222862         27.673499         22.089739     5.678705   \n",
       "50%       89.793480         29.703426         23.760199     6.547470   \n",
       "75%       93.743629         31.710450         25.152909     8.032276   \n",
       "max      100.000153         38.542255         29.619342    21.857621   \n",
       "\n",
       "           LDAPS_LH  ...   LDAPS_PPT2   LDAPS_PPT3   LDAPS_PPT4          lat  \\\n",
       "count   7677.000000  ...  7677.000000  7677.000000  7677.000000  7752.000000   \n",
       "unique          NaN  ...          NaN          NaN          NaN          NaN   \n",
       "top             NaN  ...          NaN          NaN          NaN          NaN   \n",
       "freq            NaN  ...          NaN          NaN          NaN          NaN   \n",
       "mean      62.505019  ...     0.485003     0.278200     0.269407    37.544722   \n",
       "std       33.730589  ...     1.762807     1.161809     1.206214     0.050352   \n",
       "min      -13.603212  ...     0.000000     0.000000     0.000000    37.456200   \n",
       "25%       37.266753  ...     0.000000     0.000000     0.000000    37.510200   \n",
       "50%       56.865482  ...     0.000000     0.000000     0.000000    37.550700   \n",
       "75%       84.223616  ...     0.018364     0.007896     0.000041    37.577600   \n",
       "max      213.414006  ...    21.621661    15.841235    16.655469    37.645000   \n",
       "\n",
       "                lon          DEM        Slope  Solar radiation    Next_Tmax  \\\n",
       "count   7752.000000  7752.000000  7752.000000      7752.000000  7725.000000   \n",
       "unique          NaN          NaN          NaN              NaN          NaN   \n",
       "top             NaN          NaN          NaN              NaN          NaN   \n",
       "freq            NaN          NaN          NaN              NaN          NaN   \n",
       "mean     126.991397    61.867972     1.257048      5341.502803    30.274887   \n",
       "std        0.079435    54.279780     1.370444       429.158867     3.128010   \n",
       "min      126.826000    12.370000     0.098475      4329.520508    17.400000   \n",
       "25%      126.937000    28.700000     0.271300      4999.018555    28.200000   \n",
       "50%      126.995000    45.716000     0.618000      5436.345215    30.500000   \n",
       "75%      127.042000    59.832400     1.767800      5728.316406    32.600000   \n",
       "max      127.135000   212.335000     5.178230      5992.895996    38.900000   \n",
       "\n",
       "          Next_Tmin  \n",
       "count   7725.000000  \n",
       "unique          NaN  \n",
       "top             NaN  \n",
       "freq            NaN  \n",
       "mean      22.932220  \n",
       "std        2.487613  \n",
       "min       11.300000  \n",
       "25%       21.300000  \n",
       "50%       23.100000  \n",
       "75%       24.600000  \n",
       "max       29.800000  \n",
       "\n",
       "[11 rows x 25 columns]"
      ]
     },
     "execution_count": 8,
     "metadata": {},
     "output_type": "execute_result"
    }
   ],
   "source": [
    "df.describe(include='all')"
   ]
  },
  {
   "cell_type": "markdown",
   "metadata": {},
   "source": [
    "The mean is higher than the median in LDAPS_LH, DEM.\n",
    "\n",
    "There is a huge difference between 75th percentile and Mx column in LDAPS_WS,LDAPS_LH,LDAPS_PPT2,LDAPS_PPT3,LDAPS_PPT4,DEM.\n",
    "\n",
    "Standard deviation is higher in DEM,Solar Radiation,Next_Tmax,Next_Tmin columns."
   ]
  },
  {
   "cell_type": "code",
   "execution_count": 9,
   "metadata": {},
   "outputs": [
    {
     "data": {
      "text/plain": [
       "array([29.1, 30.5, 31.1, 31.7, 31.2, 31.5, 30.9, 31.3, 32.6, 31.4, 30.8,\n",
       "       33.1, 31.8, 30.6, 32. , 24.8, 27.3, 28.1, 27.9, 28.2, 28.9, 27.6,\n",
       "       27.1, 27.5, 26.8, 28.7, 27.8, 29.2, 28.8, 30. , 30.1, 29.4, 31.6,\n",
       "       30.2, 30.4, 32.5, 31. , 25.2, 28.4, 28.3, 27.4, 26.2, 28. , 26.7,\n",
       "       28.6, 27.7, 28.5, 30.7, 29.6, 29.9, 29.3, 32.2, 33.6, 30.3, 32.3,\n",
       "       29.8, 29.7, 29.5, 29. , 23.4, 26.4, 26.6, 26.1, 25.4, 27.2, 27. ,\n",
       "       26.3, 25.5, 25.6, 25.9, 23. , 26.5, 26. , 25.7, 22.4, 25.8, 25.1,\n",
       "       24.9, 24.3, 24.5, 25.3, 21.8, 24.7, 25. , 24.6, 23.6, 24.1, 23.2,\n",
       "       23.7, 24.2, 23.8, 23.9, 31.9, 23.1, 33. , 32.7, 26.9, 32.1, 33.3,\n",
       "       32.4, 33.4, 33.5, 34.8, 34. , 34.3, 34.5,  nan, 32.8, 33.7, 33.2,\n",
       "       32.9, 34.1, 34.9, 35.3, 34.6, 35. , 33.9, 34.7, 36.6, 34.4, 35.8,\n",
       "       35.2, 33.8, 35.6, 35.1, 34.2, 36. , 35.5, 35.4, 21.6, 23.5, 24.4,\n",
       "       24. , 35.9, 36.1, 22.5, 22.8, 36.2, 21.1, 23.3, 22. , 22.7, 20.9,\n",
       "       22.2, 22.1, 37. , 36.9, 22.9, 35.7, 37.1, 22.3, 22.6, 37.8, 20.7,\n",
       "       21.5, 36.5, 38.3, 36.8, 36.4, 36.7, 37.4, 38.7, 37.5, 37.2, 37.6,\n",
       "       36.3, 38.9, 37.9, 37.3, 20.8, 17.4, 20.1, 20.3, 20.6, 21.2, 21. ,\n",
       "       18.6, 20.5, 20.4, 19.7, 18.9, 19.5, 21.4, 21.9])"
      ]
     },
     "execution_count": 9,
     "metadata": {},
     "output_type": "execute_result"
    }
   ],
   "source": [
    "df.Next_Tmax.unique()"
   ]
  },
  {
   "cell_type": "markdown",
   "metadata": {},
   "source": [
    "Target variable is a continuous variable"
   ]
  },
  {
   "cell_type": "code",
   "execution_count": 10,
   "metadata": {},
   "outputs": [
    {
     "data": {
      "text/plain": [
       "array([2.785    , 0.5141   , 0.2661   , 2.5348   , 0.5055   , 0.1457   ,\n",
       "       0.0985   , 1.5629   , 0.4125   , 5.1782   , 0.6233   , 0.5931   ,\n",
       "       2.6865   , 0.618    , 0.8552   , 2.2579   , 0.697    , 1.2313   ,\n",
       "       1.7678   , 4.7296   , 0.5721   , 0.1332   , 0.1554   , 0.2223   ,\n",
       "       0.2713   , 0.0984746, 5.17823  ])"
      ]
     },
     "execution_count": 10,
     "metadata": {},
     "output_type": "execute_result"
    }
   ],
   "source": [
    "df.Slope.unique()"
   ]
  },
  {
   "cell_type": "markdown",
   "metadata": {},
   "source": [
    "##  Extracting  year column from Date"
   ]
  },
  {
   "cell_type": "code",
   "execution_count": 11,
   "metadata": {},
   "outputs": [
    {
     "data": {
      "text/plain": [
       "0      2013-06-30\n",
       "1      2013-06-30\n",
       "2      2013-06-30\n",
       "3      2013-06-30\n",
       "4      2013-06-30\n",
       "          ...    \n",
       "7747   2017-08-30\n",
       "7748   2017-08-30\n",
       "7749   2017-08-30\n",
       "7750          NaT\n",
       "7751          NaT\n",
       "Name: Date, Length: 7752, dtype: datetime64[ns]"
      ]
     },
     "execution_count": 11,
     "metadata": {},
     "output_type": "execute_result"
    }
   ],
   "source": [
    "df[\"Date\"]=pd.to_datetime(df[\"Date\"])\n",
    "df[\"Date\"]"
   ]
  },
  {
   "cell_type": "code",
   "execution_count": 12,
   "metadata": {},
   "outputs": [],
   "source": [
    "df[\"Date\"]=df[\"Date\"].dt.year"
   ]
  },
  {
   "cell_type": "code",
   "execution_count": 13,
   "metadata": {},
   "outputs": [
    {
     "data": {
      "text/plain": [
       "0       2013.0\n",
       "1       2013.0\n",
       "2       2013.0\n",
       "3       2013.0\n",
       "4       2013.0\n",
       "         ...  \n",
       "7747    2017.0\n",
       "7748    2017.0\n",
       "7749    2017.0\n",
       "7750       NaN\n",
       "7751       NaN\n",
       "Name: Date, Length: 7752, dtype: float64"
      ]
     },
     "execution_count": 13,
     "metadata": {},
     "output_type": "execute_result"
    }
   ],
   "source": [
    "df[\"Date\"]"
   ]
  },
  {
   "cell_type": "code",
   "execution_count": 14,
   "metadata": {},
   "outputs": [
    {
     "data": {
      "text/html": [
       "<div>\n",
       "<style scoped>\n",
       "    .dataframe tbody tr th:only-of-type {\n",
       "        vertical-align: middle;\n",
       "    }\n",
       "\n",
       "    .dataframe tbody tr th {\n",
       "        vertical-align: top;\n",
       "    }\n",
       "\n",
       "    .dataframe thead th {\n",
       "        text-align: right;\n",
       "    }\n",
       "</style>\n",
       "<table border=\"1\" class=\"dataframe\">\n",
       "  <thead>\n",
       "    <tr style=\"text-align: right;\">\n",
       "      <th></th>\n",
       "      <th>station</th>\n",
       "      <th>Date</th>\n",
       "      <th>Present_Tmax</th>\n",
       "      <th>Present_Tmin</th>\n",
       "      <th>LDAPS_RHmin</th>\n",
       "      <th>LDAPS_RHmax</th>\n",
       "      <th>LDAPS_Tmax_lapse</th>\n",
       "      <th>LDAPS_Tmin_lapse</th>\n",
       "      <th>LDAPS_WS</th>\n",
       "      <th>LDAPS_LH</th>\n",
       "      <th>...</th>\n",
       "      <th>LDAPS_PPT2</th>\n",
       "      <th>LDAPS_PPT3</th>\n",
       "      <th>LDAPS_PPT4</th>\n",
       "      <th>lat</th>\n",
       "      <th>lon</th>\n",
       "      <th>DEM</th>\n",
       "      <th>Slope</th>\n",
       "      <th>Solar radiation</th>\n",
       "      <th>Next_Tmax</th>\n",
       "      <th>Next_Tmin</th>\n",
       "    </tr>\n",
       "  </thead>\n",
       "  <tbody>\n",
       "    <tr>\n",
       "      <th>0</th>\n",
       "      <td>1.0</td>\n",
       "      <td>2013.0</td>\n",
       "      <td>28.7</td>\n",
       "      <td>21.4</td>\n",
       "      <td>58.255688</td>\n",
       "      <td>91.116364</td>\n",
       "      <td>28.074101</td>\n",
       "      <td>23.006936</td>\n",
       "      <td>6.818887</td>\n",
       "      <td>69.451805</td>\n",
       "      <td>...</td>\n",
       "      <td>0.0</td>\n",
       "      <td>0.0</td>\n",
       "      <td>0.0</td>\n",
       "      <td>37.6046</td>\n",
       "      <td>126.991</td>\n",
       "      <td>212.3350</td>\n",
       "      <td>2.7850</td>\n",
       "      <td>5992.895996</td>\n",
       "      <td>29.1</td>\n",
       "      <td>21.2</td>\n",
       "    </tr>\n",
       "    <tr>\n",
       "      <th>1</th>\n",
       "      <td>2.0</td>\n",
       "      <td>2013.0</td>\n",
       "      <td>31.9</td>\n",
       "      <td>21.6</td>\n",
       "      <td>52.263397</td>\n",
       "      <td>90.604721</td>\n",
       "      <td>29.850689</td>\n",
       "      <td>24.035009</td>\n",
       "      <td>5.691890</td>\n",
       "      <td>51.937448</td>\n",
       "      <td>...</td>\n",
       "      <td>0.0</td>\n",
       "      <td>0.0</td>\n",
       "      <td>0.0</td>\n",
       "      <td>37.6046</td>\n",
       "      <td>127.032</td>\n",
       "      <td>44.7624</td>\n",
       "      <td>0.5141</td>\n",
       "      <td>5869.312500</td>\n",
       "      <td>30.5</td>\n",
       "      <td>22.5</td>\n",
       "    </tr>\n",
       "    <tr>\n",
       "      <th>2</th>\n",
       "      <td>3.0</td>\n",
       "      <td>2013.0</td>\n",
       "      <td>31.6</td>\n",
       "      <td>23.3</td>\n",
       "      <td>48.690479</td>\n",
       "      <td>83.973587</td>\n",
       "      <td>30.091292</td>\n",
       "      <td>24.565633</td>\n",
       "      <td>6.138224</td>\n",
       "      <td>20.573050</td>\n",
       "      <td>...</td>\n",
       "      <td>0.0</td>\n",
       "      <td>0.0</td>\n",
       "      <td>0.0</td>\n",
       "      <td>37.5776</td>\n",
       "      <td>127.058</td>\n",
       "      <td>33.3068</td>\n",
       "      <td>0.2661</td>\n",
       "      <td>5863.555664</td>\n",
       "      <td>31.1</td>\n",
       "      <td>23.9</td>\n",
       "    </tr>\n",
       "    <tr>\n",
       "      <th>3</th>\n",
       "      <td>4.0</td>\n",
       "      <td>2013.0</td>\n",
       "      <td>32.0</td>\n",
       "      <td>23.4</td>\n",
       "      <td>58.239788</td>\n",
       "      <td>96.483688</td>\n",
       "      <td>29.704629</td>\n",
       "      <td>23.326177</td>\n",
       "      <td>5.650050</td>\n",
       "      <td>65.727144</td>\n",
       "      <td>...</td>\n",
       "      <td>0.0</td>\n",
       "      <td>0.0</td>\n",
       "      <td>0.0</td>\n",
       "      <td>37.6450</td>\n",
       "      <td>127.022</td>\n",
       "      <td>45.7160</td>\n",
       "      <td>2.5348</td>\n",
       "      <td>5856.964844</td>\n",
       "      <td>31.7</td>\n",
       "      <td>24.3</td>\n",
       "    </tr>\n",
       "    <tr>\n",
       "      <th>4</th>\n",
       "      <td>5.0</td>\n",
       "      <td>2013.0</td>\n",
       "      <td>31.4</td>\n",
       "      <td>21.9</td>\n",
       "      <td>56.174095</td>\n",
       "      <td>90.155128</td>\n",
       "      <td>29.113934</td>\n",
       "      <td>23.486480</td>\n",
       "      <td>5.735004</td>\n",
       "      <td>107.965535</td>\n",
       "      <td>...</td>\n",
       "      <td>0.0</td>\n",
       "      <td>0.0</td>\n",
       "      <td>0.0</td>\n",
       "      <td>37.5507</td>\n",
       "      <td>127.135</td>\n",
       "      <td>35.0380</td>\n",
       "      <td>0.5055</td>\n",
       "      <td>5859.552246</td>\n",
       "      <td>31.2</td>\n",
       "      <td>22.5</td>\n",
       "    </tr>\n",
       "  </tbody>\n",
       "</table>\n",
       "<p>5 rows × 25 columns</p>\n",
       "</div>"
      ],
      "text/plain": [
       "   station    Date  Present_Tmax  Present_Tmin  LDAPS_RHmin  LDAPS_RHmax  \\\n",
       "0      1.0  2013.0          28.7          21.4    58.255688    91.116364   \n",
       "1      2.0  2013.0          31.9          21.6    52.263397    90.604721   \n",
       "2      3.0  2013.0          31.6          23.3    48.690479    83.973587   \n",
       "3      4.0  2013.0          32.0          23.4    58.239788    96.483688   \n",
       "4      5.0  2013.0          31.4          21.9    56.174095    90.155128   \n",
       "\n",
       "   LDAPS_Tmax_lapse  LDAPS_Tmin_lapse  LDAPS_WS    LDAPS_LH  ...  LDAPS_PPT2  \\\n",
       "0         28.074101         23.006936  6.818887   69.451805  ...         0.0   \n",
       "1         29.850689         24.035009  5.691890   51.937448  ...         0.0   \n",
       "2         30.091292         24.565633  6.138224   20.573050  ...         0.0   \n",
       "3         29.704629         23.326177  5.650050   65.727144  ...         0.0   \n",
       "4         29.113934         23.486480  5.735004  107.965535  ...         0.0   \n",
       "\n",
       "   LDAPS_PPT3  LDAPS_PPT4      lat      lon       DEM   Slope  \\\n",
       "0         0.0         0.0  37.6046  126.991  212.3350  2.7850   \n",
       "1         0.0         0.0  37.6046  127.032   44.7624  0.5141   \n",
       "2         0.0         0.0  37.5776  127.058   33.3068  0.2661   \n",
       "3         0.0         0.0  37.6450  127.022   45.7160  2.5348   \n",
       "4         0.0         0.0  37.5507  127.135   35.0380  0.5055   \n",
       "\n",
       "   Solar radiation  Next_Tmax  Next_Tmin  \n",
       "0      5992.895996       29.1       21.2  \n",
       "1      5869.312500       30.5       22.5  \n",
       "2      5863.555664       31.1       23.9  \n",
       "3      5856.964844       31.7       24.3  \n",
       "4      5859.552246       31.2       22.5  \n",
       "\n",
       "[5 rows x 25 columns]"
      ]
     },
     "execution_count": 14,
     "metadata": {},
     "output_type": "execute_result"
    }
   ],
   "source": [
    "df.head()"
   ]
  },
  {
   "cell_type": "code",
   "execution_count": 15,
   "metadata": {},
   "outputs": [
    {
     "data": {
      "text/plain": [
       "station             float64\n",
       "Date                float64\n",
       "Present_Tmax        float64\n",
       "Present_Tmin        float64\n",
       "LDAPS_RHmin         float64\n",
       "LDAPS_RHmax         float64\n",
       "LDAPS_Tmax_lapse    float64\n",
       "LDAPS_Tmin_lapse    float64\n",
       "LDAPS_WS            float64\n",
       "LDAPS_LH            float64\n",
       "LDAPS_CC1           float64\n",
       "LDAPS_CC2           float64\n",
       "LDAPS_CC3           float64\n",
       "LDAPS_CC4           float64\n",
       "LDAPS_PPT1          float64\n",
       "LDAPS_PPT2          float64\n",
       "LDAPS_PPT3          float64\n",
       "LDAPS_PPT4          float64\n",
       "lat                 float64\n",
       "lon                 float64\n",
       "DEM                 float64\n",
       "Slope               float64\n",
       "Solar radiation     float64\n",
       "Next_Tmax           float64\n",
       "Next_Tmin           float64\n",
       "dtype: object"
      ]
     },
     "execution_count": 15,
     "metadata": {},
     "output_type": "execute_result"
    }
   ],
   "source": [
    "df.dtypes"
   ]
  },
  {
   "cell_type": "markdown",
   "metadata": {},
   "source": [
    "All the data converted to same format"
   ]
  },
  {
   "cell_type": "markdown",
   "metadata": {},
   "source": [
    "## Replacing Nan Values"
   ]
  },
  {
   "cell_type": "code",
   "execution_count": 16,
   "metadata": {},
   "outputs": [],
   "source": [
    "df=df.replace(np.nan,df.mean())"
   ]
  },
  {
   "cell_type": "code",
   "execution_count": 17,
   "metadata": {},
   "outputs": [
    {
     "data": {
      "text/plain": [
       "station             0\n",
       "Date                0\n",
       "Present_Tmax        0\n",
       "Present_Tmin        0\n",
       "LDAPS_RHmin         0\n",
       "LDAPS_RHmax         0\n",
       "LDAPS_Tmax_lapse    0\n",
       "LDAPS_Tmin_lapse    0\n",
       "LDAPS_WS            0\n",
       "LDAPS_LH            0\n",
       "LDAPS_CC1           0\n",
       "LDAPS_CC2           0\n",
       "LDAPS_CC3           0\n",
       "LDAPS_CC4           0\n",
       "LDAPS_PPT1          0\n",
       "LDAPS_PPT2          0\n",
       "LDAPS_PPT3          0\n",
       "LDAPS_PPT4          0\n",
       "lat                 0\n",
       "lon                 0\n",
       "DEM                 0\n",
       "Slope               0\n",
       "Solar radiation     0\n",
       "Next_Tmax           0\n",
       "Next_Tmin           0\n",
       "dtype: int64"
      ]
     },
     "execution_count": 17,
     "metadata": {},
     "output_type": "execute_result"
    }
   ],
   "source": [
    "df.isnull().sum()"
   ]
  },
  {
   "cell_type": "code",
   "execution_count": 18,
   "metadata": {},
   "outputs": [
    {
     "data": {
      "text/plain": [
       "<matplotlib.axes._subplots.AxesSubplot at 0x25844de63a0>"
      ]
     },
     "execution_count": 18,
     "metadata": {},
     "output_type": "execute_result"
    },
    {
     "data": {
      "image/png": "[encoded data removed]",
      "text/plain": [
       "<Figure size 432x288 with 2 Axes>"
      ]
     },
     "metadata": {
      "needs_background": "light"
     },
     "output_type": "display_data"
    }
   ],
   "source": [
    "sns.heatmap(df.isnull())"
   ]
  },
  {
   "cell_type": "markdown",
   "metadata": {},
   "source": [
    "There are no missing data or null values "
   ]
  },
  {
   "cell_type": "code",
   "execution_count": 19,
   "metadata": {},
   "outputs": [
    {
     "data": {
      "text/html": [
       "<div>\n",
       "<style scoped>\n",
       "    .dataframe tbody tr th:only-of-type {\n",
       "        vertical-align: middle;\n",
       "    }\n",
       "\n",
       "    .dataframe tbody tr th {\n",
       "        vertical-align: top;\n",
       "    }\n",
       "\n",
       "    .dataframe thead th {\n",
       "        text-align: right;\n",
       "    }\n",
       "</style>\n",
       "<table border=\"1\" class=\"dataframe\">\n",
       "  <thead>\n",
       "    <tr style=\"text-align: right;\">\n",
       "      <th></th>\n",
       "      <th>station</th>\n",
       "      <th>Date</th>\n",
       "      <th>Present_Tmax</th>\n",
       "      <th>Present_Tmin</th>\n",
       "      <th>LDAPS_RHmin</th>\n",
       "      <th>LDAPS_RHmax</th>\n",
       "      <th>LDAPS_Tmax_lapse</th>\n",
       "      <th>LDAPS_Tmin_lapse</th>\n",
       "      <th>LDAPS_WS</th>\n",
       "      <th>LDAPS_LH</th>\n",
       "      <th>...</th>\n",
       "      <th>LDAPS_PPT2</th>\n",
       "      <th>LDAPS_PPT3</th>\n",
       "      <th>LDAPS_PPT4</th>\n",
       "      <th>lat</th>\n",
       "      <th>lon</th>\n",
       "      <th>DEM</th>\n",
       "      <th>Slope</th>\n",
       "      <th>Solar radiation</th>\n",
       "      <th>Next_Tmax</th>\n",
       "      <th>Next_Tmin</th>\n",
       "    </tr>\n",
       "  </thead>\n",
       "  <tbody>\n",
       "    <tr>\n",
       "      <th>station</th>\n",
       "      <td>1.000000</td>\n",
       "      <td>0.000000e+00</td>\n",
       "      <td>0.112655</td>\n",
       "      <td>0.131646</td>\n",
       "      <td>-0.066733</td>\n",
       "      <td>-0.166984</td>\n",
       "      <td>0.069107</td>\n",
       "      <td>0.104758</td>\n",
       "      <td>0.005277</td>\n",
       "      <td>-0.133357</td>\n",
       "      <td>...</td>\n",
       "      <td>-0.008250</td>\n",
       "      <td>-0.012461</td>\n",
       "      <td>-0.010401</td>\n",
       "      <td>-0.237502</td>\n",
       "      <td>-0.118704</td>\n",
       "      <td>-2.558297e-01</td>\n",
       "      <td>-9.006090e-02</td>\n",
       "      <td>-0.019001</td>\n",
       "      <td>0.107983</td>\n",
       "      <td>0.128293</td>\n",
       "    </tr>\n",
       "    <tr>\n",
       "      <th>Date</th>\n",
       "      <td>0.000000</td>\n",
       "      <td>1.000000e+00</td>\n",
       "      <td>0.059800</td>\n",
       "      <td>0.037396</td>\n",
       "      <td>-0.002045</td>\n",
       "      <td>-0.141832</td>\n",
       "      <td>0.016172</td>\n",
       "      <td>-0.004693</td>\n",
       "      <td>-0.111358</td>\n",
       "      <td>0.057077</td>\n",
       "      <td>...</td>\n",
       "      <td>-0.042873</td>\n",
       "      <td>0.047173</td>\n",
       "      <td>0.037973</td>\n",
       "      <td>0.000000</td>\n",
       "      <td>0.000000</td>\n",
       "      <td>4.801019e-18</td>\n",
       "      <td>-1.404294e-18</td>\n",
       "      <td>-0.007729</td>\n",
       "      <td>0.059995</td>\n",
       "      <td>0.023136</td>\n",
       "    </tr>\n",
       "    <tr>\n",
       "      <th>Present_Tmax</th>\n",
       "      <td>0.112655</td>\n",
       "      <td>5.980007e-02</td>\n",
       "      <td>1.000000</td>\n",
       "      <td>0.618760</td>\n",
       "      <td>-0.204571</td>\n",
       "      <td>-0.301787</td>\n",
       "      <td>0.570129</td>\n",
       "      <td>0.623496</td>\n",
       "      <td>-0.121820</td>\n",
       "      <td>0.135463</td>\n",
       "      <td>...</td>\n",
       "      <td>-0.099449</td>\n",
       "      <td>-0.120367</td>\n",
       "      <td>-0.099607</td>\n",
       "      <td>-0.052615</td>\n",
       "      <td>0.009020</td>\n",
       "      <td>-1.871206e-01</td>\n",
       "      <td>-1.058092e-01</td>\n",
       "      <td>-0.025439</td>\n",
       "      <td>0.610348</td>\n",
       "      <td>0.622741</td>\n",
       "    </tr>\n",
       "    <tr>\n",
       "      <th>Present_Tmin</th>\n",
       "      <td>0.131646</td>\n",
       "      <td>3.739568e-02</td>\n",
       "      <td>0.618760</td>\n",
       "      <td>1.000000</td>\n",
       "      <td>0.123143</td>\n",
       "      <td>-0.015140</td>\n",
       "      <td>0.464151</td>\n",
       "      <td>0.762993</td>\n",
       "      <td>-0.034675</td>\n",
       "      <td>-0.009258</td>\n",
       "      <td>...</td>\n",
       "      <td>0.068176</td>\n",
       "      <td>-0.046126</td>\n",
       "      <td>-0.062965</td>\n",
       "      <td>-0.078475</td>\n",
       "      <td>-0.043461</td>\n",
       "      <td>-2.502747e-01</td>\n",
       "      <td>-1.463390e-01</td>\n",
       "      <td>0.053578</td>\n",
       "      <td>0.471806</td>\n",
       "      <td>0.796670</td>\n",
       "    </tr>\n",
       "    <tr>\n",
       "      <th>LDAPS_RHmin</th>\n",
       "      <td>-0.066733</td>\n",
       "      <td>-2.044507e-03</td>\n",
       "      <td>-0.204571</td>\n",
       "      <td>0.123143</td>\n",
       "      <td>1.000000</td>\n",
       "      <td>0.579141</td>\n",
       "      <td>-0.564580</td>\n",
       "      <td>0.089476</td>\n",
       "      <td>0.294361</td>\n",
       "      <td>-0.070858</td>\n",
       "      <td>...</td>\n",
       "      <td>0.390967</td>\n",
       "      <td>0.240642</td>\n",
       "      <td>0.168595</td>\n",
       "      <td>0.087099</td>\n",
       "      <td>-0.076237</td>\n",
       "      <td>1.021149e-01</td>\n",
       "      <td>1.237439e-01</td>\n",
       "      <td>0.244080</td>\n",
       "      <td>-0.437898</td>\n",
       "      <td>0.095019</td>\n",
       "    </tr>\n",
       "    <tr>\n",
       "      <th>LDAPS_RHmax</th>\n",
       "      <td>-0.166984</td>\n",
       "      <td>-1.418320e-01</td>\n",
       "      <td>-0.301787</td>\n",
       "      <td>-0.015140</td>\n",
       "      <td>0.579141</td>\n",
       "      <td>1.000000</td>\n",
       "      <td>-0.373404</td>\n",
       "      <td>-0.114143</td>\n",
       "      <td>0.135333</td>\n",
       "      <td>0.238579</td>\n",
       "      <td>...</td>\n",
       "      <td>0.229050</td>\n",
       "      <td>0.134607</td>\n",
       "      <td>0.117853</td>\n",
       "      <td>0.195798</td>\n",
       "      <td>0.025667</td>\n",
       "      <td>1.771681e-01</td>\n",
       "      <td>2.195989e-01</td>\n",
       "      <td>0.149261</td>\n",
       "      <td>-0.283738</td>\n",
       "      <td>-0.071997</td>\n",
       "    </tr>\n",
       "    <tr>\n",
       "      <th>LDAPS_Tmax_lapse</th>\n",
       "      <td>0.069107</td>\n",
       "      <td>1.617217e-02</td>\n",
       "      <td>0.570129</td>\n",
       "      <td>0.464151</td>\n",
       "      <td>-0.564580</td>\n",
       "      <td>-0.373404</td>\n",
       "      <td>1.000000</td>\n",
       "      <td>0.654021</td>\n",
       "      <td>-0.311996</td>\n",
       "      <td>0.048010</td>\n",
       "      <td>...</td>\n",
       "      <td>-0.242122</td>\n",
       "      <td>-0.188115</td>\n",
       "      <td>-0.160273</td>\n",
       "      <td>-0.042093</td>\n",
       "      <td>0.090666</td>\n",
       "      <td>-1.788954e-01</td>\n",
       "      <td>-1.623324e-01</td>\n",
       "      <td>0.047971</td>\n",
       "      <td>0.827189</td>\n",
       "      <td>0.586868</td>\n",
       "    </tr>\n",
       "    <tr>\n",
       "      <th>LDAPS_Tmin_lapse</th>\n",
       "      <td>0.104758</td>\n",
       "      <td>-4.693413e-03</td>\n",
       "      <td>0.623496</td>\n",
       "      <td>0.762993</td>\n",
       "      <td>0.089476</td>\n",
       "      <td>-0.114143</td>\n",
       "      <td>0.654021</td>\n",
       "      <td>1.000000</td>\n",
       "      <td>-0.130035</td>\n",
       "      <td>-0.134761</td>\n",
       "      <td>...</td>\n",
       "      <td>0.000870</td>\n",
       "      <td>-0.088575</td>\n",
       "      <td>-0.094655</td>\n",
       "      <td>-0.096257</td>\n",
       "      <td>-0.026701</td>\n",
       "      <td>-1.954553e-01</td>\n",
       "      <td>-1.858487e-01</td>\n",
       "      <td>0.159975</td>\n",
       "      <td>0.586983</td>\n",
       "      <td>0.880176</td>\n",
       "    </tr>\n",
       "    <tr>\n",
       "      <th>LDAPS_WS</th>\n",
       "      <td>0.005277</td>\n",
       "      <td>-1.113577e-01</td>\n",
       "      <td>-0.121820</td>\n",
       "      <td>-0.034675</td>\n",
       "      <td>0.294361</td>\n",
       "      <td>0.135333</td>\n",
       "      <td>-0.311996</td>\n",
       "      <td>-0.130035</td>\n",
       "      <td>1.000000</td>\n",
       "      <td>0.006711</td>\n",
       "      <td>...</td>\n",
       "      <td>0.191886</td>\n",
       "      <td>0.161684</td>\n",
       "      <td>0.144085</td>\n",
       "      <td>0.036657</td>\n",
       "      <td>-0.059466</td>\n",
       "      <td>1.910530e-01</td>\n",
       "      <td>1.716286e-01</td>\n",
       "      <td>0.121759</td>\n",
       "      <td>-0.342729</td>\n",
       "      <td>-0.096576</td>\n",
       "    </tr>\n",
       "    <tr>\n",
       "      <th>LDAPS_LH</th>\n",
       "      <td>-0.133357</td>\n",
       "      <td>5.707733e-02</td>\n",
       "      <td>0.135463</td>\n",
       "      <td>-0.009258</td>\n",
       "      <td>-0.070858</td>\n",
       "      <td>0.238579</td>\n",
       "      <td>0.048010</td>\n",
       "      <td>-0.134761</td>\n",
       "      <td>0.006711</td>\n",
       "      <td>1.000000</td>\n",
       "      <td>...</td>\n",
       "      <td>-0.077545</td>\n",
       "      <td>0.016102</td>\n",
       "      <td>0.019979</td>\n",
       "      <td>0.133221</td>\n",
       "      <td>0.025822</td>\n",
       "      <td>5.513344e-02</td>\n",
       "      <td>8.678088e-02</td>\n",
       "      <td>-0.047384</td>\n",
       "      <td>0.157616</td>\n",
       "      <td>-0.055440</td>\n",
       "    </tr>\n",
       "    <tr>\n",
       "      <th>LDAPS_CC1</th>\n",
       "      <td>0.006919</td>\n",
       "      <td>-6.647797e-02</td>\n",
       "      <td>-0.311805</td>\n",
       "      <td>0.084447</td>\n",
       "      <td>0.613818</td>\n",
       "      <td>0.436652</td>\n",
       "      <td>-0.438439</td>\n",
       "      <td>0.010901</td>\n",
       "      <td>0.289445</td>\n",
       "      <td>-0.147296</td>\n",
       "      <td>...</td>\n",
       "      <td>0.389453</td>\n",
       "      <td>0.168742</td>\n",
       "      <td>0.091722</td>\n",
       "      <td>-0.008131</td>\n",
       "      <td>-0.006843</td>\n",
       "      <td>-1.409033e-02</td>\n",
       "      <td>-2.075199e-02</td>\n",
       "      <td>0.218309</td>\n",
       "      <td>-0.452541</td>\n",
       "      <td>-0.011028</td>\n",
       "    </tr>\n",
       "    <tr>\n",
       "      <th>LDAPS_CC2</th>\n",
       "      <td>0.003396</td>\n",
       "      <td>-4.325621e-02</td>\n",
       "      <td>-0.213791</td>\n",
       "      <td>0.090263</td>\n",
       "      <td>0.745443</td>\n",
       "      <td>0.391330</td>\n",
       "      <td>-0.523619</td>\n",
       "      <td>0.047727</td>\n",
       "      <td>0.261090</td>\n",
       "      <td>-0.264280</td>\n",
       "      <td>...</td>\n",
       "      <td>0.478472</td>\n",
       "      <td>0.240134</td>\n",
       "      <td>0.159548</td>\n",
       "      <td>-0.001497</td>\n",
       "      <td>-0.003581</td>\n",
       "      <td>-1.282325e-02</td>\n",
       "      <td>-1.807299e-02</td>\n",
       "      <td>0.170403</td>\n",
       "      <td>-0.490756</td>\n",
       "      <td>0.031250</td>\n",
       "    </tr>\n",
       "    <tr>\n",
       "      <th>LDAPS_CC3</th>\n",
       "      <td>0.000694</td>\n",
       "      <td>1.104803e-01</td>\n",
       "      <td>-0.144018</td>\n",
       "      <td>-0.002772</td>\n",
       "      <td>0.689679</td>\n",
       "      <td>0.226957</td>\n",
       "      <td>-0.541327</td>\n",
       "      <td>-0.044018</td>\n",
       "      <td>0.242991</td>\n",
       "      <td>-0.245583</td>\n",
       "      <td>...</td>\n",
       "      <td>0.337569</td>\n",
       "      <td>0.339800</td>\n",
       "      <td>0.302357</td>\n",
       "      <td>0.004108</td>\n",
       "      <td>0.016041</td>\n",
       "      <td>6.971530e-04</td>\n",
       "      <td>-3.338257e-03</td>\n",
       "      <td>0.119292</td>\n",
       "      <td>-0.514680</td>\n",
       "      <td>-0.054726</td>\n",
       "    </tr>\n",
       "    <tr>\n",
       "      <th>LDAPS_CC4</th>\n",
       "      <td>0.006126</td>\n",
       "      <td>1.042110e-01</td>\n",
       "      <td>-0.140729</td>\n",
       "      <td>-0.044335</td>\n",
       "      <td>0.514075</td>\n",
       "      <td>0.130619</td>\n",
       "      <td>-0.429539</td>\n",
       "      <td>-0.080335</td>\n",
       "      <td>0.220533</td>\n",
       "      <td>-0.172766</td>\n",
       "      <td>...</td>\n",
       "      <td>0.288195</td>\n",
       "      <td>0.267494</td>\n",
       "      <td>0.376049</td>\n",
       "      <td>-0.009107</td>\n",
       "      <td>-0.002477</td>\n",
       "      <td>-7.334196e-03</td>\n",
       "      <td>-1.445929e-02</td>\n",
       "      <td>0.119983</td>\n",
       "      <td>-0.446319</td>\n",
       "      <td>-0.085093</td>\n",
       "    </tr>\n",
       "    <tr>\n",
       "      <th>LDAPS_PPT1</th>\n",
       "      <td>-0.002709</td>\n",
       "      <td>-8.897835e-02</td>\n",
       "      <td>-0.109006</td>\n",
       "      <td>0.112845</td>\n",
       "      <td>0.262665</td>\n",
       "      <td>0.268449</td>\n",
       "      <td>-0.111065</td>\n",
       "      <td>0.038056</td>\n",
       "      <td>0.152587</td>\n",
       "      <td>-0.012542</td>\n",
       "      <td>...</td>\n",
       "      <td>0.383831</td>\n",
       "      <td>0.033004</td>\n",
       "      <td>0.024626</td>\n",
       "      <td>0.000565</td>\n",
       "      <td>-0.001225</td>\n",
       "      <td>1.129036e-02</td>\n",
       "      <td>1.630992e-02</td>\n",
       "      <td>0.088015</td>\n",
       "      <td>-0.118817</td>\n",
       "      <td>0.021323</td>\n",
       "    </tr>\n",
       "    <tr>\n",
       "      <th>LDAPS_PPT2</th>\n",
       "      <td>-0.008250</td>\n",
       "      <td>-4.287282e-02</td>\n",
       "      <td>-0.099449</td>\n",
       "      <td>0.068176</td>\n",
       "      <td>0.390967</td>\n",
       "      <td>0.229050</td>\n",
       "      <td>-0.242122</td>\n",
       "      <td>0.000870</td>\n",
       "      <td>0.191886</td>\n",
       "      <td>-0.077545</td>\n",
       "      <td>...</td>\n",
       "      <td>1.000000</td>\n",
       "      <td>0.221172</td>\n",
       "      <td>0.139555</td>\n",
       "      <td>0.019564</td>\n",
       "      <td>0.018600</td>\n",
       "      <td>8.356574e-03</td>\n",
       "      <td>1.021438e-02</td>\n",
       "      <td>0.110182</td>\n",
       "      <td>-0.178383</td>\n",
       "      <td>-0.008058</td>\n",
       "    </tr>\n",
       "    <tr>\n",
       "      <th>LDAPS_PPT3</th>\n",
       "      <td>-0.012461</td>\n",
       "      <td>4.717314e-02</td>\n",
       "      <td>-0.120367</td>\n",
       "      <td>-0.046126</td>\n",
       "      <td>0.240642</td>\n",
       "      <td>0.134607</td>\n",
       "      <td>-0.188115</td>\n",
       "      <td>-0.088575</td>\n",
       "      <td>0.161684</td>\n",
       "      <td>0.016102</td>\n",
       "      <td>...</td>\n",
       "      <td>0.221172</td>\n",
       "      <td>1.000000</td>\n",
       "      <td>0.309076</td>\n",
       "      <td>0.035110</td>\n",
       "      <td>0.021662</td>\n",
       "      <td>1.718606e-02</td>\n",
       "      <td>2.533310e-02</td>\n",
       "      <td>-0.054071</td>\n",
       "      <td>-0.194143</td>\n",
       "      <td>-0.062622</td>\n",
       "    </tr>\n",
       "    <tr>\n",
       "      <th>LDAPS_PPT4</th>\n",
       "      <td>-0.010401</td>\n",
       "      <td>3.797336e-02</td>\n",
       "      <td>-0.099607</td>\n",
       "      <td>-0.062965</td>\n",
       "      <td>0.168595</td>\n",
       "      <td>0.117853</td>\n",
       "      <td>-0.160273</td>\n",
       "      <td>-0.094655</td>\n",
       "      <td>0.144085</td>\n",
       "      <td>0.019979</td>\n",
       "      <td>...</td>\n",
       "      <td>0.139555</td>\n",
       "      <td>0.309076</td>\n",
       "      <td>1.000000</td>\n",
       "      <td>0.013210</td>\n",
       "      <td>0.044746</td>\n",
       "      <td>-3.622237e-03</td>\n",
       "      <td>1.173861e-04</td>\n",
       "      <td>0.034958</td>\n",
       "      <td>-0.178718</td>\n",
       "      <td>-0.103682</td>\n",
       "    </tr>\n",
       "    <tr>\n",
       "      <th>lat</th>\n",
       "      <td>-0.237502</td>\n",
       "      <td>0.000000e+00</td>\n",
       "      <td>-0.052615</td>\n",
       "      <td>-0.078475</td>\n",
       "      <td>0.087099</td>\n",
       "      <td>0.195798</td>\n",
       "      <td>-0.042093</td>\n",
       "      <td>-0.096257</td>\n",
       "      <td>0.036657</td>\n",
       "      <td>0.133221</td>\n",
       "      <td>...</td>\n",
       "      <td>0.019564</td>\n",
       "      <td>0.035110</td>\n",
       "      <td>0.013210</td>\n",
       "      <td>1.000000</td>\n",
       "      <td>0.289029</td>\n",
       "      <td>3.316548e-02</td>\n",
       "      <td>7.476266e-02</td>\n",
       "      <td>0.038513</td>\n",
       "      <td>-0.053510</td>\n",
       "      <td>-0.083533</td>\n",
       "    </tr>\n",
       "    <tr>\n",
       "      <th>lon</th>\n",
       "      <td>-0.118704</td>\n",
       "      <td>0.000000e+00</td>\n",
       "      <td>0.009020</td>\n",
       "      <td>-0.043461</td>\n",
       "      <td>-0.076237</td>\n",
       "      <td>0.025667</td>\n",
       "      <td>0.090666</td>\n",
       "      <td>-0.026701</td>\n",
       "      <td>-0.059466</td>\n",
       "      <td>0.025822</td>\n",
       "      <td>...</td>\n",
       "      <td>0.018600</td>\n",
       "      <td>0.021662</td>\n",
       "      <td>0.044746</td>\n",
       "      <td>0.289029</td>\n",
       "      <td>1.000000</td>\n",
       "      <td>7.586860e-03</td>\n",
       "      <td>3.806989e-02</td>\n",
       "      <td>0.002182</td>\n",
       "      <td>0.003052</td>\n",
       "      <td>-0.046603</td>\n",
       "    </tr>\n",
       "    <tr>\n",
       "      <th>DEM</th>\n",
       "      <td>-0.255830</td>\n",
       "      <td>4.801019e-18</td>\n",
       "      <td>-0.187121</td>\n",
       "      <td>-0.250275</td>\n",
       "      <td>0.102115</td>\n",
       "      <td>0.177168</td>\n",
       "      <td>-0.178895</td>\n",
       "      <td>-0.195455</td>\n",
       "      <td>0.191053</td>\n",
       "      <td>0.055133</td>\n",
       "      <td>...</td>\n",
       "      <td>0.008357</td>\n",
       "      <td>0.017186</td>\n",
       "      <td>-0.003622</td>\n",
       "      <td>0.033165</td>\n",
       "      <td>0.007587</td>\n",
       "      <td>1.000000e+00</td>\n",
       "      <td>7.835760e-01</td>\n",
       "      <td>0.056224</td>\n",
       "      <td>-0.172538</td>\n",
       "      <td>-0.246906</td>\n",
       "    </tr>\n",
       "    <tr>\n",
       "      <th>Slope</th>\n",
       "      <td>-0.090061</td>\n",
       "      <td>-1.404294e-18</td>\n",
       "      <td>-0.105809</td>\n",
       "      <td>-0.146339</td>\n",
       "      <td>0.123744</td>\n",
       "      <td>0.219599</td>\n",
       "      <td>-0.162332</td>\n",
       "      <td>-0.185849</td>\n",
       "      <td>0.171629</td>\n",
       "      <td>0.086781</td>\n",
       "      <td>...</td>\n",
       "      <td>0.010214</td>\n",
       "      <td>0.025333</td>\n",
       "      <td>0.000117</td>\n",
       "      <td>0.074763</td>\n",
       "      <td>0.038070</td>\n",
       "      <td>7.835760e-01</td>\n",
       "      <td>1.000000e+00</td>\n",
       "      <td>0.028199</td>\n",
       "      <td>-0.102725</td>\n",
       "      <td>-0.146882</td>\n",
       "    </tr>\n",
       "    <tr>\n",
       "      <th>Solar radiation</th>\n",
       "      <td>-0.019001</td>\n",
       "      <td>-7.728597e-03</td>\n",
       "      <td>-0.025439</td>\n",
       "      <td>0.053578</td>\n",
       "      <td>0.244080</td>\n",
       "      <td>0.149261</td>\n",
       "      <td>0.047971</td>\n",
       "      <td>0.159975</td>\n",
       "      <td>0.121759</td>\n",
       "      <td>-0.047384</td>\n",
       "      <td>...</td>\n",
       "      <td>0.110182</td>\n",
       "      <td>-0.054071</td>\n",
       "      <td>0.034958</td>\n",
       "      <td>0.038513</td>\n",
       "      <td>0.002182</td>\n",
       "      <td>5.622354e-02</td>\n",
       "      <td>2.819894e-02</td>\n",
       "      <td>1.000000</td>\n",
       "      <td>0.008795</td>\n",
       "      <td>0.120212</td>\n",
       "    </tr>\n",
       "    <tr>\n",
       "      <th>Next_Tmax</th>\n",
       "      <td>0.107983</td>\n",
       "      <td>5.999540e-02</td>\n",
       "      <td>0.610348</td>\n",
       "      <td>0.471806</td>\n",
       "      <td>-0.437898</td>\n",
       "      <td>-0.283738</td>\n",
       "      <td>0.827189</td>\n",
       "      <td>0.586983</td>\n",
       "      <td>-0.342729</td>\n",
       "      <td>0.157616</td>\n",
       "      <td>...</td>\n",
       "      <td>-0.178383</td>\n",
       "      <td>-0.194143</td>\n",
       "      <td>-0.178718</td>\n",
       "      <td>-0.053510</td>\n",
       "      <td>0.003052</td>\n",
       "      <td>-1.725377e-01</td>\n",
       "      <td>-1.027252e-01</td>\n",
       "      <td>0.008795</td>\n",
       "      <td>1.000000</td>\n",
       "      <td>0.621427</td>\n",
       "    </tr>\n",
       "    <tr>\n",
       "      <th>Next_Tmin</th>\n",
       "      <td>0.128293</td>\n",
       "      <td>2.313633e-02</td>\n",
       "      <td>0.622741</td>\n",
       "      <td>0.796670</td>\n",
       "      <td>0.095019</td>\n",
       "      <td>-0.071997</td>\n",
       "      <td>0.586868</td>\n",
       "      <td>0.880176</td>\n",
       "      <td>-0.096576</td>\n",
       "      <td>-0.055440</td>\n",
       "      <td>...</td>\n",
       "      <td>-0.008058</td>\n",
       "      <td>-0.062622</td>\n",
       "      <td>-0.103682</td>\n",
       "      <td>-0.083533</td>\n",
       "      <td>-0.046603</td>\n",
       "      <td>-2.469056e-01</td>\n",
       "      <td>-1.468820e-01</td>\n",
       "      <td>0.120212</td>\n",
       "      <td>0.621427</td>\n",
       "      <td>1.000000</td>\n",
       "    </tr>\n",
       "  </tbody>\n",
       "</table>\n",
       "<p>25 rows × 25 columns</p>\n",
       "</div>"
      ],
      "text/plain": [
       "                   station          Date  Present_Tmax  Present_Tmin  \\\n",
       "station           1.000000  0.000000e+00      0.112655      0.131646   \n",
       "Date              0.000000  1.000000e+00      0.059800      0.037396   \n",
       "Present_Tmax      0.112655  5.980007e-02      1.000000      0.618760   \n",
       "Present_Tmin      0.131646  3.739568e-02      0.618760      1.000000   \n",
       "LDAPS_RHmin      -0.066733 -2.044507e-03     -0.204571      0.123143   \n",
       "LDAPS_RHmax      -0.166984 -1.418320e-01     -0.301787     -0.015140   \n",
       "LDAPS_Tmax_lapse  0.069107  1.617217e-02      0.570129      0.464151   \n",
       "LDAPS_Tmin_lapse  0.104758 -4.693413e-03      0.623496      0.762993   \n",
       "LDAPS_WS          0.005277 -1.113577e-01     -0.121820     -0.034675   \n",
       "LDAPS_LH         -0.133357  5.707733e-02      0.135463     -0.009258   \n",
       "LDAPS_CC1         0.006919 -6.647797e-02     -0.311805      0.084447   \n",
       "LDAPS_CC2         0.003396 -4.325621e-02     -0.213791      0.090263   \n",
       "LDAPS_CC3         0.000694  1.104803e-01     -0.144018     -0.002772   \n",
       "LDAPS_CC4         0.006126  1.042110e-01     -0.140729     -0.044335   \n",
       "LDAPS_PPT1       -0.002709 -8.897835e-02     -0.109006      0.112845   \n",
       "LDAPS_PPT2       -0.008250 -4.287282e-02     -0.099449      0.068176   \n",
       "LDAPS_PPT3       -0.012461  4.717314e-02     -0.120367     -0.046126   \n",
       "LDAPS_PPT4       -0.010401  3.797336e-02     -0.099607     -0.062965   \n",
       "lat              -0.237502  0.000000e+00     -0.052615     -0.078475   \n",
       "lon              -0.118704  0.000000e+00      0.009020     -0.043461   \n",
       "DEM              -0.255830  4.801019e-18     -0.187121     -0.250275   \n",
       "Slope            -0.090061 -1.404294e-18     -0.105809     -0.146339   \n",
       "Solar radiation  -0.019001 -7.728597e-03     -0.025439      0.053578   \n",
       "Next_Tmax         0.107983  5.999540e-02      0.610348      0.471806   \n",
       "Next_Tmin         0.128293  2.313633e-02      0.622741      0.796670   \n",
       "\n",
       "                  LDAPS_RHmin  LDAPS_RHmax  LDAPS_Tmax_lapse  \\\n",
       "station             -0.066733    -0.166984          0.069107   \n",
       "Date                -0.002045    -0.141832          0.016172   \n",
       "Present_Tmax        -0.204571    -0.301787          0.570129   \n",
       "Present_Tmin         0.123143    -0.015140          0.464151   \n",
       "LDAPS_RHmin          1.000000     0.579141         -0.564580   \n",
       "LDAPS_RHmax          0.579141     1.000000         -0.373404   \n",
       "LDAPS_Tmax_lapse    -0.564580    -0.373404          1.000000   \n",
       "LDAPS_Tmin_lapse     0.089476    -0.114143          0.654021   \n",
       "LDAPS_WS             0.294361     0.135333         -0.311996   \n",
       "LDAPS_LH            -0.070858     0.238579          0.048010   \n",
       "LDAPS_CC1            0.613818     0.436652         -0.438439   \n",
       "LDAPS_CC2            0.745443     0.391330         -0.523619   \n",
       "LDAPS_CC3            0.689679     0.226957         -0.541327   \n",
       "LDAPS_CC4            0.514075     0.130619         -0.429539   \n",
       "LDAPS_PPT1           0.262665     0.268449         -0.111065   \n",
       "LDAPS_PPT2           0.390967     0.229050         -0.242122   \n",
       "LDAPS_PPT3           0.240642     0.134607         -0.188115   \n",
       "LDAPS_PPT4           0.168595     0.117853         -0.160273   \n",
       "lat                  0.087099     0.195798         -0.042093   \n",
       "lon                 -0.076237     0.025667          0.090666   \n",
       "DEM                  0.102115     0.177168         -0.178895   \n",
       "Slope                0.123744     0.219599         -0.162332   \n",
       "Solar radiation      0.244080     0.149261          0.047971   \n",
       "Next_Tmax           -0.437898    -0.283738          0.827189   \n",
       "Next_Tmin            0.095019    -0.071997          0.586868   \n",
       "\n",
       "                  LDAPS_Tmin_lapse  LDAPS_WS  LDAPS_LH  ...  LDAPS_PPT2  \\\n",
       "station                   0.104758  0.005277 -0.133357  ...   -0.008250   \n",
       "Date                     -0.004693 -0.111358  0.057077  ...   -0.042873   \n",
       "Present_Tmax              0.623496 -0.121820  0.135463  ...   -0.099449   \n",
       "Present_Tmin              0.762993 -0.034675 -0.009258  ...    0.068176   \n",
       "LDAPS_RHmin               0.089476  0.294361 -0.070858  ...    0.390967   \n",
       "LDAPS_RHmax              -0.114143  0.135333  0.238579  ...    0.229050   \n",
       "LDAPS_Tmax_lapse          0.654021 -0.311996  0.048010  ...   -0.242122   \n",
       "LDAPS_Tmin_lapse          1.000000 -0.130035 -0.134761  ...    0.000870   \n",
       "LDAPS_WS                 -0.130035  1.000000  0.006711  ...    0.191886   \n",
       "LDAPS_LH                 -0.134761  0.006711  1.000000  ...   -0.077545   \n",
       "LDAPS_CC1                 0.010901  0.289445 -0.147296  ...    0.389453   \n",
       "LDAPS_CC2                 0.047727  0.261090 -0.264280  ...    0.478472   \n",
       "LDAPS_CC3                -0.044018  0.242991 -0.245583  ...    0.337569   \n",
       "LDAPS_CC4                -0.080335  0.220533 -0.172766  ...    0.288195   \n",
       "LDAPS_PPT1                0.038056  0.152587 -0.012542  ...    0.383831   \n",
       "LDAPS_PPT2                0.000870  0.191886 -0.077545  ...    1.000000   \n",
       "LDAPS_PPT3               -0.088575  0.161684  0.016102  ...    0.221172   \n",
       "LDAPS_PPT4               -0.094655  0.144085  0.019979  ...    0.139555   \n",
       "lat                      -0.096257  0.036657  0.133221  ...    0.019564   \n",
       "lon                      -0.026701 -0.059466  0.025822  ...    0.018600   \n",
       "DEM                      -0.195455  0.191053  0.055133  ...    0.008357   \n",
       "Slope                    -0.185849  0.171629  0.086781  ...    0.010214   \n",
       "Solar radiation           0.159975  0.121759 -0.047384  ...    0.110182   \n",
       "Next_Tmax                 0.586983 -0.342729  0.157616  ...   -0.178383   \n",
       "Next_Tmin                 0.880176 -0.096576 -0.055440  ...   -0.008058   \n",
       "\n",
       "                  LDAPS_PPT3  LDAPS_PPT4       lat       lon           DEM  \\\n",
       "station            -0.012461   -0.010401 -0.237502 -0.118704 -2.558297e-01   \n",
       "Date                0.047173    0.037973  0.000000  0.000000  4.801019e-18   \n",
       "Present_Tmax       -0.120367   -0.099607 -0.052615  0.009020 -1.871206e-01   \n",
       "Present_Tmin       -0.046126   -0.062965 -0.078475 -0.043461 -2.502747e-01   \n",
       "LDAPS_RHmin         0.240642    0.168595  0.087099 -0.076237  1.021149e-01   \n",
       "LDAPS_RHmax         0.134607    0.117853  0.195798  0.025667  1.771681e-01   \n",
       "LDAPS_Tmax_lapse   -0.188115   -0.160273 -0.042093  0.090666 -1.788954e-01   \n",
       "LDAPS_Tmin_lapse   -0.088575   -0.094655 -0.096257 -0.026701 -1.954553e-01   \n",
       "LDAPS_WS            0.161684    0.144085  0.036657 -0.059466  1.910530e-01   \n",
       "LDAPS_LH            0.016102    0.019979  0.133221  0.025822  5.513344e-02   \n",
       "LDAPS_CC1           0.168742    0.091722 -0.008131 -0.006843 -1.409033e-02   \n",
       "LDAPS_CC2           0.240134    0.159548 -0.001497 -0.003581 -1.282325e-02   \n",
       "LDAPS_CC3           0.339800    0.302357  0.004108  0.016041  6.971530e-04   \n",
       "LDAPS_CC4           0.267494    0.376049 -0.009107 -0.002477 -7.334196e-03   \n",
       "LDAPS_PPT1          0.033004    0.024626  0.000565 -0.001225  1.129036e-02   \n",
       "LDAPS_PPT2          0.221172    0.139555  0.019564  0.018600  8.356574e-03   \n",
       "LDAPS_PPT3          1.000000    0.309076  0.035110  0.021662  1.718606e-02   \n",
       "LDAPS_PPT4          0.309076    1.000000  0.013210  0.044746 -3.622237e-03   \n",
       "lat                 0.035110    0.013210  1.000000  0.289029  3.316548e-02   \n",
       "lon                 0.021662    0.044746  0.289029  1.000000  7.586860e-03   \n",
       "DEM                 0.017186   -0.003622  0.033165  0.007587  1.000000e+00   \n",
       "Slope               0.025333    0.000117  0.074763  0.038070  7.835760e-01   \n",
       "Solar radiation    -0.054071    0.034958  0.038513  0.002182  5.622354e-02   \n",
       "Next_Tmax          -0.194143   -0.178718 -0.053510  0.003052 -1.725377e-01   \n",
       "Next_Tmin          -0.062622   -0.103682 -0.083533 -0.046603 -2.469056e-01   \n",
       "\n",
       "                         Slope  Solar radiation  Next_Tmax  Next_Tmin  \n",
       "station          -9.006090e-02        -0.019001   0.107983   0.128293  \n",
       "Date             -1.404294e-18        -0.007729   0.059995   0.023136  \n",
       "Present_Tmax     -1.058092e-01        -0.025439   0.610348   0.622741  \n",
       "Present_Tmin     -1.463390e-01         0.053578   0.471806   0.796670  \n",
       "LDAPS_RHmin       1.237439e-01         0.244080  -0.437898   0.095019  \n",
       "LDAPS_RHmax       2.195989e-01         0.149261  -0.283738  -0.071997  \n",
       "LDAPS_Tmax_lapse -1.623324e-01         0.047971   0.827189   0.586868  \n",
       "LDAPS_Tmin_lapse -1.858487e-01         0.159975   0.586983   0.880176  \n",
       "LDAPS_WS          1.716286e-01         0.121759  -0.342729  -0.096576  \n",
       "LDAPS_LH          8.678088e-02        -0.047384   0.157616  -0.055440  \n",
       "LDAPS_CC1        -2.075199e-02         0.218309  -0.452541  -0.011028  \n",
       "LDAPS_CC2        -1.807299e-02         0.170403  -0.490756   0.031250  \n",
       "LDAPS_CC3        -3.338257e-03         0.119292  -0.514680  -0.054726  \n",
       "LDAPS_CC4        -1.445929e-02         0.119983  -0.446319  -0.085093  \n",
       "LDAPS_PPT1        1.630992e-02         0.088015  -0.118817   0.021323  \n",
       "LDAPS_PPT2        1.021438e-02         0.110182  -0.178383  -0.008058  \n",
       "LDAPS_PPT3        2.533310e-02        -0.054071  -0.194143  -0.062622  \n",
       "LDAPS_PPT4        1.173861e-04         0.034958  -0.178718  -0.103682  \n",
       "lat               7.476266e-02         0.038513  -0.053510  -0.083533  \n",
       "lon               3.806989e-02         0.002182   0.003052  -0.046603  \n",
       "DEM               7.835760e-01         0.056224  -0.172538  -0.246906  \n",
       "Slope             1.000000e+00         0.028199  -0.102725  -0.146882  \n",
       "Solar radiation   2.819894e-02         1.000000   0.008795   0.120212  \n",
       "Next_Tmax        -1.027252e-01         0.008795   1.000000   0.621427  \n",
       "Next_Tmin        -1.468820e-01         0.120212   0.621427   1.000000  \n",
       "\n",
       "[25 rows x 25 columns]"
      ]
     },
     "execution_count": 19,
     "metadata": {},
     "output_type": "execute_result"
    }
   ],
   "source": [
    "dfcor=df.corr()\n",
    "dfcor"
   ]
  },
  {
   "cell_type": "code",
   "execution_count": 20,
   "metadata": {},
   "outputs": [
    {
     "data": {
      "image/png": "[encoded data removed]",
      "text/plain": [
       "<Figure size 1584x864 with 2 Axes>"
      ]
     },
     "metadata": {
      "needs_background": "light"
     },
     "output_type": "display_data"
    }
   ],
   "source": [
    "plt.figure(figsize=[22,12])\n",
    "sns.heatmap(dfcor,annot=True)\n",
    "plt.title(\"Correlation Matrix\")\n",
    "plt.show()"
   ]
  },
  {
   "cell_type": "markdown",
   "metadata": {},
   "source": [
    "Next_Tmax is negatively correlated with LDAPS_RHmin,LDAPS_CC1,LDAPS_C2,LDAPS_CC3,LDAPS_CC4.\n",
    "\n",
    "Dem and slope is positively correlated to each other.\n",
    "\n",
    "Next_Tmin is negatively correlated with LDAPS_RHmin and LDAPS_RHmax.\n",
    "\n",
    "Next_Tmin and Present_Tmax,Present_Tmin  are positively correlated with each other."
   ]
  },
  {
   "cell_type": "code",
   "execution_count": 22,
   "metadata": {},
   "outputs": [
    {
     "data": {
      "text/plain": [
       "<matplotlib.axes._subplots.AxesSubplot at 0x25847175250>"
      ]
     },
     "execution_count": 22,
     "metadata": {},
     "output_type": "execute_result"
    },
    {
     "data": {
      "image/png": "[encoded data removed]",
      "text/plain": [
       "<Figure size 432x288 with 1 Axes>"
      ]
     },
     "metadata": {
      "needs_background": "light"
     },
     "output_type": "display_data"
    }
   ],
   "source": [
    "df['Next_Tmax'].plot.hist()"
   ]
  },
  {
   "cell_type": "markdown",
   "metadata": {},
   "source": [
    "Group 30 has highest frequency"
   ]
  },
  {
   "cell_type": "code",
   "execution_count": 24,
   "metadata": {},
   "outputs": [
    {
     "data": {
      "image/png": "[encoded data removed]",
      "text/plain": [
       "<Figure size 432x288 with 1 Axes>"
      ]
     },
     "metadata": {
      "needs_background": "light"
     },
     "output_type": "display_data"
    }
   ],
   "source": [
    "plt.scatter(df['Next_Tmin'],df['LDAPS_RHmin'])\n",
    "plt.show()"
   ]
  },
  {
   "cell_type": "markdown",
   "metadata": {},
   "source": [
    "This shows the relation between LDAPS_RHmin and Next_Tmin relationship"
   ]
  },
  {
   "cell_type": "code",
   "execution_count": 28,
   "metadata": {},
   "outputs": [
    {
     "data": {
      "image/png": "[encoded data removed]",
      "text/plain": [
       "<Figure size 432x288 with 1 Axes>"
      ]
     },
     "metadata": {
      "needs_background": "light"
     },
     "output_type": "display_data"
    }
   ],
   "source": [
    "plt.scatter(df['DEM'],df['Slope'])\n",
    "plt.show()"
   ]
  },
  {
   "cell_type": "markdown",
   "metadata": {},
   "source": [
    "This shows the relation between DEM and Slope relationship"
   ]
  },
  {
   "cell_type": "code",
   "execution_count": 29,
   "metadata": {},
   "outputs": [
    {
     "data": {
      "text/plain": [
       "<matplotlib.axes._subplots.AxesSubplot at 0x258472be4c0>"
      ]
     },
     "execution_count": 29,
     "metadata": {},
     "output_type": "execute_result"
    },
    {
     "data": {
      "image/png": "[encoded data removed]",
      "text/plain": [
       "<Figure size 432x288 with 1 Axes>"
      ]
     },
     "metadata": {
      "needs_background": "light"
     },
     "output_type": "display_data"
    }
   ],
   "source": [
    "df['Next_Tmin'].plot.hist()"
   ]
  },
  {
   "cell_type": "markdown",
   "metadata": {},
   "source": [
    "Frequency is high in 22.5"
   ]
  },
  {
   "cell_type": "markdown",
   "metadata": {},
   "source": [
    "## Checking Outliers using boxplot"
   ]
  },
  {
   "cell_type": "code",
   "execution_count": 30,
   "metadata": {},
   "outputs": [
    {
     "data": {
      "image/png": "[encoded data removed]",
      "text/plain": [
       "<Figure size 1440x576 with 1 Axes>"
      ]
     },
     "metadata": {
      "needs_background": "light"
     },
     "output_type": "display_data"
    }
   ],
   "source": [
    "df.iloc[:,0:15].boxplot(figsize=[20,8])\n",
    "plt.subplots_adjust(bottom=0.25)\n",
    "plt.show()"
   ]
  },
  {
   "cell_type": "code",
   "execution_count": 31,
   "metadata": {},
   "outputs": [
    {
     "data": {
      "image/png": "[encoded data removed]",
      "text/plain": [
       "<Figure size 1440x576 with 1 Axes>"
      ]
     },
     "metadata": {
      "needs_background": "light"
     },
     "output_type": "display_data"
    }
   ],
   "source": [
    "df.iloc[:,15:25].boxplot(figsize=[20,8])\n",
    "plt.subplots_adjust(bottom=0.25)\n",
    "plt.show()"
   ]
  },
  {
   "cell_type": "markdown",
   "metadata": {},
   "source": [
    "There are ouliers in many columns"
   ]
  },
  {
   "cell_type": "markdown",
   "metadata": {},
   "source": [
    "## Removing Outliers"
   ]
  },
  {
   "cell_type": "code",
   "execution_count": 32,
   "metadata": {},
   "outputs": [
    {
     "data": {
      "text/plain": [
       "array([[1.6643153 , 1.41439603, 0.36132577, ..., 1.51793488, 0.37628214,\n",
       "        0.6975993 ],\n",
       "       [1.52562236, 1.41439603, 0.72108401, ..., 1.22994952, 0.07209725,\n",
       "        0.17406357],\n",
       "       [1.38692941, 1.41439603, 0.61960809, ..., 1.21653443, 0.26425985,\n",
       "        0.38974413],\n",
       "       ...,\n",
       "       [1.6643153 , 1.41439603, 2.22171758, ..., 2.0743251 , 0.79263444,\n",
       "        2.2279345 ],\n",
       "       [0.        , 0.        , 3.30412736, ..., 2.35821196, 4.12345278,\n",
       "        4.68452522],\n",
       "       [0.        , 0.        , 2.64912642, ..., 1.51793488, 2.76237361,\n",
       "        2.76579089]])"
      ]
     },
     "execution_count": 32,
     "metadata": {},
     "output_type": "execute_result"
    }
   ],
   "source": [
    "from scipy.stats import zscore\n",
    "z=np.abs(zscore(df))\n",
    "z"
   ]
  },
  {
   "cell_type": "code",
   "execution_count": 33,
   "metadata": {},
   "outputs": [
    {
     "name": "stdout",
     "output_type": "stream",
     "text": [
      "(array([  25,   25,   26, ..., 7751, 7751, 7751], dtype=int64), array([ 8, 15, 15, ..., 15, 16, 17], dtype=int64))\n"
     ]
    }
   ],
   "source": [
    "threshold=3\n",
    "print(np.where(z>3))"
   ]
  },
  {
   "cell_type": "code",
   "execution_count": 34,
   "metadata": {},
   "outputs": [
    {
     "data": {
      "text/plain": [
       "3.9161348848797526"
      ]
     },
     "execution_count": 34,
     "metadata": {},
     "output_type": "execute_result"
    }
   ],
   "source": [
    "z[25][8]"
   ]
  },
  {
   "cell_type": "code",
   "execution_count": 35,
   "metadata": {},
   "outputs": [
    {
     "data": {
      "text/plain": [
       "13.651789982199812"
      ]
     },
     "execution_count": 35,
     "metadata": {},
     "output_type": "execute_result"
    }
   ],
   "source": [
    "z[7751][17]"
   ]
  },
  {
   "cell_type": "code",
   "execution_count": 36,
   "metadata": {},
   "outputs": [],
   "source": [
    "df_new=df[(z<3).all(axis=1)]"
   ]
  },
  {
   "cell_type": "code",
   "execution_count": 37,
   "metadata": {},
   "outputs": [
    {
     "data": {
      "text/plain": [
       "(7752, 25)"
      ]
     },
     "execution_count": 37,
     "metadata": {},
     "output_type": "execute_result"
    }
   ],
   "source": [
    " df.shape"
   ]
  },
  {
   "cell_type": "code",
   "execution_count": 38,
   "metadata": {},
   "outputs": [
    {
     "data": {
      "text/plain": [
       "(6894, 25)"
      ]
     },
     "execution_count": 38,
     "metadata": {},
     "output_type": "execute_result"
    }
   ],
   "source": [
    "df_new.shape"
   ]
  },
  {
   "cell_type": "code",
   "execution_count": 39,
   "metadata": {},
   "outputs": [
    {
     "name": "stdout",
     "output_type": "stream",
     "text": [
      "11.06811145510836\n"
     ]
    }
   ],
   "source": [
    "loss_percent=(7752-6894)/7752*100\n",
    "print(loss_percent)"
   ]
  },
  {
   "cell_type": "markdown",
   "metadata": {},
   "source": [
    "## Checking skewness"
   ]
  },
  {
   "cell_type": "code",
   "execution_count": 40,
   "metadata": {},
   "outputs": [],
   "source": [
    "x=df_new.iloc[:,0:23]"
   ]
  },
  {
   "cell_type": "code",
   "execution_count": 41,
   "metadata": {},
   "outputs": [
    {
     "data": {
      "text/html": [
       "<div>\n",
       "<style scoped>\n",
       "    .dataframe tbody tr th:only-of-type {\n",
       "        vertical-align: middle;\n",
       "    }\n",
       "\n",
       "    .dataframe tbody tr th {\n",
       "        vertical-align: top;\n",
       "    }\n",
       "\n",
       "    .dataframe thead th {\n",
       "        text-align: right;\n",
       "    }\n",
       "</style>\n",
       "<table border=\"1\" class=\"dataframe\">\n",
       "  <thead>\n",
       "    <tr style=\"text-align: right;\">\n",
       "      <th></th>\n",
       "      <th>station</th>\n",
       "      <th>Date</th>\n",
       "      <th>Present_Tmax</th>\n",
       "      <th>Present_Tmin</th>\n",
       "      <th>LDAPS_RHmin</th>\n",
       "      <th>LDAPS_RHmax</th>\n",
       "      <th>LDAPS_Tmax_lapse</th>\n",
       "      <th>LDAPS_Tmin_lapse</th>\n",
       "      <th>LDAPS_WS</th>\n",
       "      <th>LDAPS_LH</th>\n",
       "      <th>...</th>\n",
       "      <th>LDAPS_CC4</th>\n",
       "      <th>LDAPS_PPT1</th>\n",
       "      <th>LDAPS_PPT2</th>\n",
       "      <th>LDAPS_PPT3</th>\n",
       "      <th>LDAPS_PPT4</th>\n",
       "      <th>lat</th>\n",
       "      <th>lon</th>\n",
       "      <th>DEM</th>\n",
       "      <th>Slope</th>\n",
       "      <th>Solar radiation</th>\n",
       "    </tr>\n",
       "  </thead>\n",
       "  <tbody>\n",
       "    <tr>\n",
       "      <th>0</th>\n",
       "      <td>1.0</td>\n",
       "      <td>2013.0</td>\n",
       "      <td>28.7</td>\n",
       "      <td>21.4</td>\n",
       "      <td>58.255688</td>\n",
       "      <td>91.116364</td>\n",
       "      <td>28.074101</td>\n",
       "      <td>23.006936</td>\n",
       "      <td>6.818887</td>\n",
       "      <td>69.451805</td>\n",
       "      <td>...</td>\n",
       "      <td>0.130928</td>\n",
       "      <td>0.0</td>\n",
       "      <td>0.0</td>\n",
       "      <td>0.0</td>\n",
       "      <td>0.0</td>\n",
       "      <td>37.6046</td>\n",
       "      <td>126.991</td>\n",
       "      <td>212.3350</td>\n",
       "      <td>2.7850</td>\n",
       "      <td>5992.895996</td>\n",
       "    </tr>\n",
       "    <tr>\n",
       "      <th>1</th>\n",
       "      <td>2.0</td>\n",
       "      <td>2013.0</td>\n",
       "      <td>31.9</td>\n",
       "      <td>21.6</td>\n",
       "      <td>52.263397</td>\n",
       "      <td>90.604721</td>\n",
       "      <td>29.850689</td>\n",
       "      <td>24.035009</td>\n",
       "      <td>5.691890</td>\n",
       "      <td>51.937448</td>\n",
       "      <td>...</td>\n",
       "      <td>0.127727</td>\n",
       "      <td>0.0</td>\n",
       "      <td>0.0</td>\n",
       "      <td>0.0</td>\n",
       "      <td>0.0</td>\n",
       "      <td>37.6046</td>\n",
       "      <td>127.032</td>\n",
       "      <td>44.7624</td>\n",
       "      <td>0.5141</td>\n",
       "      <td>5869.312500</td>\n",
       "    </tr>\n",
       "    <tr>\n",
       "      <th>2</th>\n",
       "      <td>3.0</td>\n",
       "      <td>2013.0</td>\n",
       "      <td>31.6</td>\n",
       "      <td>23.3</td>\n",
       "      <td>48.690479</td>\n",
       "      <td>83.973587</td>\n",
       "      <td>30.091292</td>\n",
       "      <td>24.565633</td>\n",
       "      <td>6.138224</td>\n",
       "      <td>20.573050</td>\n",
       "      <td>...</td>\n",
       "      <td>0.142125</td>\n",
       "      <td>0.0</td>\n",
       "      <td>0.0</td>\n",
       "      <td>0.0</td>\n",
       "      <td>0.0</td>\n",
       "      <td>37.5776</td>\n",
       "      <td>127.058</td>\n",
       "      <td>33.3068</td>\n",
       "      <td>0.2661</td>\n",
       "      <td>5863.555664</td>\n",
       "    </tr>\n",
       "    <tr>\n",
       "      <th>3</th>\n",
       "      <td>4.0</td>\n",
       "      <td>2013.0</td>\n",
       "      <td>32.0</td>\n",
       "      <td>23.4</td>\n",
       "      <td>58.239788</td>\n",
       "      <td>96.483688</td>\n",
       "      <td>29.704629</td>\n",
       "      <td>23.326177</td>\n",
       "      <td>5.650050</td>\n",
       "      <td>65.727144</td>\n",
       "      <td>...</td>\n",
       "      <td>0.134249</td>\n",
       "      <td>0.0</td>\n",
       "      <td>0.0</td>\n",
       "      <td>0.0</td>\n",
       "      <td>0.0</td>\n",
       "      <td>37.6450</td>\n",
       "      <td>127.022</td>\n",
       "      <td>45.7160</td>\n",
       "      <td>2.5348</td>\n",
       "      <td>5856.964844</td>\n",
       "    </tr>\n",
       "    <tr>\n",
       "      <th>4</th>\n",
       "      <td>5.0</td>\n",
       "      <td>2013.0</td>\n",
       "      <td>31.4</td>\n",
       "      <td>21.9</td>\n",
       "      <td>56.174095</td>\n",
       "      <td>90.155128</td>\n",
       "      <td>29.113934</td>\n",
       "      <td>23.486480</td>\n",
       "      <td>5.735004</td>\n",
       "      <td>107.965535</td>\n",
       "      <td>...</td>\n",
       "      <td>0.170021</td>\n",
       "      <td>0.0</td>\n",
       "      <td>0.0</td>\n",
       "      <td>0.0</td>\n",
       "      <td>0.0</td>\n",
       "      <td>37.5507</td>\n",
       "      <td>127.135</td>\n",
       "      <td>35.0380</td>\n",
       "      <td>0.5055</td>\n",
       "      <td>5859.552246</td>\n",
       "    </tr>\n",
       "    <tr>\n",
       "      <th>...</th>\n",
       "      <td>...</td>\n",
       "      <td>...</td>\n",
       "      <td>...</td>\n",
       "      <td>...</td>\n",
       "      <td>...</td>\n",
       "      <td>...</td>\n",
       "      <td>...</td>\n",
       "      <td>...</td>\n",
       "      <td>...</td>\n",
       "      <td>...</td>\n",
       "      <td>...</td>\n",
       "      <td>...</td>\n",
       "      <td>...</td>\n",
       "      <td>...</td>\n",
       "      <td>...</td>\n",
       "      <td>...</td>\n",
       "      <td>...</td>\n",
       "      <td>...</td>\n",
       "      <td>...</td>\n",
       "      <td>...</td>\n",
       "      <td>...</td>\n",
       "    </tr>\n",
       "    <tr>\n",
       "      <th>7745</th>\n",
       "      <td>21.0</td>\n",
       "      <td>2017.0</td>\n",
       "      <td>23.1</td>\n",
       "      <td>17.8</td>\n",
       "      <td>24.688997</td>\n",
       "      <td>78.261383</td>\n",
       "      <td>27.812697</td>\n",
       "      <td>18.303014</td>\n",
       "      <td>6.603253</td>\n",
       "      <td>9.614074</td>\n",
       "      <td>...</td>\n",
       "      <td>0.004380</td>\n",
       "      <td>0.0</td>\n",
       "      <td>0.0</td>\n",
       "      <td>0.0</td>\n",
       "      <td>0.0</td>\n",
       "      <td>37.5507</td>\n",
       "      <td>127.040</td>\n",
       "      <td>26.2980</td>\n",
       "      <td>0.5721</td>\n",
       "      <td>4456.024414</td>\n",
       "    </tr>\n",
       "    <tr>\n",
       "      <th>7746</th>\n",
       "      <td>22.0</td>\n",
       "      <td>2017.0</td>\n",
       "      <td>22.5</td>\n",
       "      <td>17.4</td>\n",
       "      <td>30.094858</td>\n",
       "      <td>83.690018</td>\n",
       "      <td>26.704905</td>\n",
       "      <td>17.814038</td>\n",
       "      <td>5.768083</td>\n",
       "      <td>82.146707</td>\n",
       "      <td>...</td>\n",
       "      <td>0.017678</td>\n",
       "      <td>0.0</td>\n",
       "      <td>0.0</td>\n",
       "      <td>0.0</td>\n",
       "      <td>0.0</td>\n",
       "      <td>37.5102</td>\n",
       "      <td>127.086</td>\n",
       "      <td>21.9668</td>\n",
       "      <td>0.1332</td>\n",
       "      <td>4441.803711</td>\n",
       "    </tr>\n",
       "    <tr>\n",
       "      <th>7747</th>\n",
       "      <td>23.0</td>\n",
       "      <td>2017.0</td>\n",
       "      <td>23.3</td>\n",
       "      <td>17.1</td>\n",
       "      <td>26.741310</td>\n",
       "      <td>78.869858</td>\n",
       "      <td>26.352081</td>\n",
       "      <td>18.775678</td>\n",
       "      <td>6.148918</td>\n",
       "      <td>72.058294</td>\n",
       "      <td>...</td>\n",
       "      <td>0.000000</td>\n",
       "      <td>0.0</td>\n",
       "      <td>0.0</td>\n",
       "      <td>0.0</td>\n",
       "      <td>0.0</td>\n",
       "      <td>37.5372</td>\n",
       "      <td>126.891</td>\n",
       "      <td>15.5876</td>\n",
       "      <td>0.1554</td>\n",
       "      <td>4443.313965</td>\n",
       "    </tr>\n",
       "    <tr>\n",
       "      <th>7748</th>\n",
       "      <td>24.0</td>\n",
       "      <td>2017.0</td>\n",
       "      <td>23.3</td>\n",
       "      <td>17.7</td>\n",
       "      <td>24.040634</td>\n",
       "      <td>77.294975</td>\n",
       "      <td>27.010193</td>\n",
       "      <td>18.733519</td>\n",
       "      <td>6.542819</td>\n",
       "      <td>47.241457</td>\n",
       "      <td>...</td>\n",
       "      <td>0.000000</td>\n",
       "      <td>0.0</td>\n",
       "      <td>0.0</td>\n",
       "      <td>0.0</td>\n",
       "      <td>0.0</td>\n",
       "      <td>37.5237</td>\n",
       "      <td>126.909</td>\n",
       "      <td>17.2956</td>\n",
       "      <td>0.2223</td>\n",
       "      <td>4438.373535</td>\n",
       "    </tr>\n",
       "    <tr>\n",
       "      <th>7749</th>\n",
       "      <td>25.0</td>\n",
       "      <td>2017.0</td>\n",
       "      <td>23.2</td>\n",
       "      <td>17.4</td>\n",
       "      <td>22.933014</td>\n",
       "      <td>77.243744</td>\n",
       "      <td>27.939516</td>\n",
       "      <td>18.522965</td>\n",
       "      <td>7.289264</td>\n",
       "      <td>9.090034</td>\n",
       "      <td>...</td>\n",
       "      <td>0.000796</td>\n",
       "      <td>0.0</td>\n",
       "      <td>0.0</td>\n",
       "      <td>0.0</td>\n",
       "      <td>0.0</td>\n",
       "      <td>37.5237</td>\n",
       "      <td>126.970</td>\n",
       "      <td>19.5844</td>\n",
       "      <td>0.2713</td>\n",
       "      <td>4451.345215</td>\n",
       "    </tr>\n",
       "  </tbody>\n",
       "</table>\n",
       "<p>6894 rows × 23 columns</p>\n",
       "</div>"
      ],
      "text/plain": [
       "      station    Date  Present_Tmax  Present_Tmin  LDAPS_RHmin  LDAPS_RHmax  \\\n",
       "0         1.0  2013.0          28.7          21.4    58.255688    91.116364   \n",
       "1         2.0  2013.0          31.9          21.6    52.263397    90.604721   \n",
       "2         3.0  2013.0          31.6          23.3    48.690479    83.973587   \n",
       "3         4.0  2013.0          32.0          23.4    58.239788    96.483688   \n",
       "4         5.0  2013.0          31.4          21.9    56.174095    90.155128   \n",
       "...       ...     ...           ...           ...          ...          ...   \n",
       "7745     21.0  2017.0          23.1          17.8    24.688997    78.261383   \n",
       "7746     22.0  2017.0          22.5          17.4    30.094858    83.690018   \n",
       "7747     23.0  2017.0          23.3          17.1    26.741310    78.869858   \n",
       "7748     24.0  2017.0          23.3          17.7    24.040634    77.294975   \n",
       "7749     25.0  2017.0          23.2          17.4    22.933014    77.243744   \n",
       "\n",
       "      LDAPS_Tmax_lapse  LDAPS_Tmin_lapse  LDAPS_WS    LDAPS_LH  ...  \\\n",
       "0            28.074101         23.006936  6.818887   69.451805  ...   \n",
       "1            29.850689         24.035009  5.691890   51.937448  ...   \n",
       "2            30.091292         24.565633  6.138224   20.573050  ...   \n",
       "3            29.704629         23.326177  5.650050   65.727144  ...   \n",
       "4            29.113934         23.486480  5.735004  107.965535  ...   \n",
       "...                ...               ...       ...         ...  ...   \n",
       "7745         27.812697         18.303014  6.603253    9.614074  ...   \n",
       "7746         26.704905         17.814038  5.768083   82.146707  ...   \n",
       "7747         26.352081         18.775678  6.148918   72.058294  ...   \n",
       "7748         27.010193         18.733519  6.542819   47.241457  ...   \n",
       "7749         27.939516         18.522965  7.289264    9.090034  ...   \n",
       "\n",
       "      LDAPS_CC4  LDAPS_PPT1  LDAPS_PPT2  LDAPS_PPT3  LDAPS_PPT4      lat  \\\n",
       "0      0.130928         0.0         0.0         0.0         0.0  37.6046   \n",
       "1      0.127727         0.0         0.0         0.0         0.0  37.6046   \n",
       "2      0.142125         0.0         0.0         0.0         0.0  37.5776   \n",
       "3      0.134249         0.0         0.0         0.0         0.0  37.6450   \n",
       "4      0.170021         0.0         0.0         0.0         0.0  37.5507   \n",
       "...         ...         ...         ...         ...         ...      ...   \n",
       "7745   0.004380         0.0         0.0         0.0         0.0  37.5507   \n",
       "7746   0.017678         0.0         0.0         0.0         0.0  37.5102   \n",
       "7747   0.000000         0.0         0.0         0.0         0.0  37.5372   \n",
       "7748   0.000000         0.0         0.0         0.0         0.0  37.5237   \n",
       "7749   0.000796         0.0         0.0         0.0         0.0  37.5237   \n",
       "\n",
       "          lon       DEM   Slope  Solar radiation  \n",
       "0     126.991  212.3350  2.7850      5992.895996  \n",
       "1     127.032   44.7624  0.5141      5869.312500  \n",
       "2     127.058   33.3068  0.2661      5863.555664  \n",
       "3     127.022   45.7160  2.5348      5856.964844  \n",
       "4     127.135   35.0380  0.5055      5859.552246  \n",
       "...       ...       ...     ...              ...  \n",
       "7745  127.040   26.2980  0.5721      4456.024414  \n",
       "7746  127.086   21.9668  0.1332      4441.803711  \n",
       "7747  126.891   15.5876  0.1554      4443.313965  \n",
       "7748  126.909   17.2956  0.2223      4438.373535  \n",
       "7749  126.970   19.5844  0.2713      4451.345215  \n",
       "\n",
       "[6894 rows x 23 columns]"
      ]
     },
     "execution_count": 41,
     "metadata": {},
     "output_type": "execute_result"
    }
   ],
   "source": [
    "x"
   ]
  },
  {
   "cell_type": "code",
   "execution_count": 42,
   "metadata": {},
   "outputs": [
    {
     "data": {
      "text/plain": [
       "station             0.002792\n",
       "Date                0.010998\n",
       "Present_Tmax       -0.272653\n",
       "Present_Tmin       -0.225479\n",
       "LDAPS_RHmin         0.305740\n",
       "LDAPS_RHmax        -0.688257\n",
       "LDAPS_Tmax_lapse   -0.109372\n",
       "LDAPS_Tmin_lapse   -0.382667\n",
       "LDAPS_WS            1.087781\n",
       "LDAPS_LH            0.568781\n",
       "LDAPS_CC1           0.593990\n",
       "LDAPS_CC2           0.500911\n",
       "LDAPS_CC3           0.700217\n",
       "LDAPS_CC4           0.710930\n",
       "LDAPS_PPT1          3.731226\n",
       "LDAPS_PPT2          4.843672\n",
       "LDAPS_PPT3          5.482625\n",
       "LDAPS_PPT4          5.927822\n",
       "lat                 0.108251\n",
       "lon                -0.275508\n",
       "DEM                 1.764031\n",
       "Slope               1.593600\n",
       "Solar radiation    -0.505353\n",
       "dtype: float64"
      ]
     },
     "execution_count": 42,
     "metadata": {},
     "output_type": "execute_result"
    }
   ],
   "source": [
    "x.skew()"
   ]
  },
  {
   "cell_type": "markdown",
   "metadata": {},
   "source": [
    "There is skewness in Fnlwgt,Race,Capital_gain,Capital_loss,Native_country,Workclass,Relationship"
   ]
  },
  {
   "cell_type": "markdown",
   "metadata": {},
   "source": [
    "## Removing skewness"
   ]
  },
  {
   "cell_type": "code",
   "execution_count": 43,
   "metadata": {},
   "outputs": [],
   "source": [
    "from sklearn.preprocessing import power_transform\n",
    "df_income=power_transform(x)\n",
    "df_income=pd.DataFrame(df_income,columns=x.columns)"
   ]
  },
  {
   "cell_type": "code",
   "execution_count": 44,
   "metadata": {},
   "outputs": [
    {
     "data": {
      "text/plain": [
       "station            -0.201793\n",
       "Date                0.000000\n",
       "Present_Tmax       -0.031861\n",
       "Present_Tmin       -0.021731\n",
       "LDAPS_RHmin        -0.013773\n",
       "LDAPS_RHmax        -0.098610\n",
       "LDAPS_Tmax_lapse   -0.011202\n",
       "LDAPS_Tmin_lapse   -0.025139\n",
       "LDAPS_WS            0.006111\n",
       "LDAPS_LH           -0.029488\n",
       "LDAPS_CC1           0.062650\n",
       "LDAPS_CC2           0.047088\n",
       "LDAPS_CC3           0.090316\n",
       "LDAPS_CC4           0.137619\n",
       "LDAPS_PPT1          1.546602\n",
       "LDAPS_PPT2          1.736072\n",
       "LDAPS_PPT3          1.903031\n",
       "LDAPS_PPT4          2.157042\n",
       "lat                 0.091387\n",
       "lon                -0.189409\n",
       "DEM                 0.038729\n",
       "Slope               0.233805\n",
       "Solar radiation    -0.166145\n",
       "dtype: float64"
      ]
     },
     "execution_count": 44,
     "metadata": {},
     "output_type": "execute_result"
    }
   ],
   "source": [
    "df_income.skew()"
   ]
  },
  {
   "cell_type": "markdown",
   "metadata": {},
   "source": [
    "Skewness is removed from few columns"
   ]
  },
  {
   "cell_type": "code",
   "execution_count": 45,
   "metadata": {},
   "outputs": [],
   "source": [
    "x=df_income"
   ]
  },
  {
   "cell_type": "code",
   "execution_count": 46,
   "metadata": {},
   "outputs": [
    {
     "data": {
      "text/html": [
       "<div>\n",
       "<style scoped>\n",
       "    .dataframe tbody tr th:only-of-type {\n",
       "        vertical-align: middle;\n",
       "    }\n",
       "\n",
       "    .dataframe tbody tr th {\n",
       "        vertical-align: top;\n",
       "    }\n",
       "\n",
       "    .dataframe thead th {\n",
       "        text-align: right;\n",
       "    }\n",
       "</style>\n",
       "<table border=\"1\" class=\"dataframe\">\n",
       "  <thead>\n",
       "    <tr style=\"text-align: right;\">\n",
       "      <th></th>\n",
       "      <th>station</th>\n",
       "      <th>Date</th>\n",
       "      <th>Present_Tmax</th>\n",
       "      <th>Present_Tmin</th>\n",
       "      <th>LDAPS_RHmin</th>\n",
       "      <th>LDAPS_RHmax</th>\n",
       "      <th>LDAPS_Tmax_lapse</th>\n",
       "      <th>LDAPS_Tmin_lapse</th>\n",
       "      <th>LDAPS_WS</th>\n",
       "      <th>LDAPS_LH</th>\n",
       "      <th>...</th>\n",
       "      <th>LDAPS_CC4</th>\n",
       "      <th>LDAPS_PPT1</th>\n",
       "      <th>LDAPS_PPT2</th>\n",
       "      <th>LDAPS_PPT3</th>\n",
       "      <th>LDAPS_PPT4</th>\n",
       "      <th>lat</th>\n",
       "      <th>lon</th>\n",
       "      <th>DEM</th>\n",
       "      <th>Slope</th>\n",
       "      <th>Solar radiation</th>\n",
       "    </tr>\n",
       "  </thead>\n",
       "  <tbody>\n",
       "    <tr>\n",
       "      <th>6889</th>\n",
       "      <td>1.076181</td>\n",
       "      <td>0.0</td>\n",
       "      <td>-2.182360</td>\n",
       "      <td>-2.216543</td>\n",
       "      <td>-2.639452</td>\n",
       "      <td>-1.377642</td>\n",
       "      <td>-0.767070</td>\n",
       "      <td>-2.146391</td>\n",
       "      <td>0.041254</td>\n",
       "      <td>-2.024589</td>\n",
       "      <td>...</td>\n",
       "      <td>-1.461486</td>\n",
       "      <td>-0.538255</td>\n",
       "      <td>-0.498268</td>\n",
       "      <td>-0.475132</td>\n",
       "      <td>-0.428118</td>\n",
       "      <td>0.140865</td>\n",
       "      <td>0.606546</td>\n",
       "      <td>-0.713196</td>\n",
       "      <td>-0.267842</td>\n",
       "      <td>-1.769822</td>\n",
       "    </tr>\n",
       "    <tr>\n",
       "      <th>6890</th>\n",
       "      <td>1.194125</td>\n",
       "      <td>0.0</td>\n",
       "      <td>-2.341738</td>\n",
       "      <td>-2.356118</td>\n",
       "      <td>-2.071110</td>\n",
       "      <td>-0.762816</td>\n",
       "      <td>-1.158395</td>\n",
       "      <td>-2.300054</td>\n",
       "      <td>-0.526239</td>\n",
       "      <td>0.686508</td>\n",
       "      <td>...</td>\n",
       "      <td>-1.347274</td>\n",
       "      <td>-0.538255</td>\n",
       "      <td>-0.498268</td>\n",
       "      <td>-0.475132</td>\n",
       "      <td>-0.428118</td>\n",
       "      <td>-0.672366</td>\n",
       "      <td>1.211215</td>\n",
       "      <td>-0.999837</td>\n",
       "      <td>-1.353505</td>\n",
       "      <td>-1.787788</td>\n",
       "    </tr>\n",
       "    <tr>\n",
       "      <th>6891</th>\n",
       "      <td>1.310706</td>\n",
       "      <td>0.0</td>\n",
       "      <td>-2.128251</td>\n",
       "      <td>-2.459140</td>\n",
       "      <td>-2.416617</td>\n",
       "      <td>-1.315982</td>\n",
       "      <td>-1.281677</td>\n",
       "      <td>-1.992271</td>\n",
       "      <td>-0.253098</td>\n",
       "      <td>0.420009</td>\n",
       "      <td>...</td>\n",
       "      <td>-1.500036</td>\n",
       "      <td>-0.538255</td>\n",
       "      <td>-0.498268</td>\n",
       "      <td>-0.475132</td>\n",
       "      <td>-0.428118</td>\n",
       "      <td>-0.129620</td>\n",
       "      <td>-1.246972</td>\n",
       "      <td>-1.576839</td>\n",
       "      <td>-1.278278</td>\n",
       "      <td>-1.785890</td>\n",
       "    </tr>\n",
       "    <tr>\n",
       "      <th>6892</th>\n",
       "      <td>1.425997</td>\n",
       "      <td>0.0</td>\n",
       "      <td>-2.128251</td>\n",
       "      <td>-2.251674</td>\n",
       "      <td>-2.711863</td>\n",
       "      <td>-1.472070</td>\n",
       "      <td>-1.051193</td>\n",
       "      <td>-2.006242</td>\n",
       "      <td>0.003890</td>\n",
       "      <td>-0.325306</td>\n",
       "      <td>...</td>\n",
       "      <td>-1.500036</td>\n",
       "      <td>-0.538255</td>\n",
       "      <td>-0.498268</td>\n",
       "      <td>-0.475132</td>\n",
       "      <td>-0.428118</td>\n",
       "      <td>-0.400697</td>\n",
       "      <td>-1.031307</td>\n",
       "      <td>-1.397766</td>\n",
       "      <td>-1.068473</td>\n",
       "      <td>-1.792090</td>\n",
       "    </tr>\n",
       "    <tr>\n",
       "      <th>6893</th>\n",
       "      <td>1.540062</td>\n",
       "      <td>0.0</td>\n",
       "      <td>-2.155367</td>\n",
       "      <td>-2.356118</td>\n",
       "      <td>-2.837977</td>\n",
       "      <td>-1.476958</td>\n",
       "      <td>-0.721865</td>\n",
       "      <td>-2.075358</td>\n",
       "      <td>0.431765</td>\n",
       "      <td>-2.061755</td>\n",
       "      <td>...</td>\n",
       "      <td>-1.492993</td>\n",
       "      <td>-0.538255</td>\n",
       "      <td>-0.498268</td>\n",
       "      <td>-0.475132</td>\n",
       "      <td>-0.428118</td>\n",
       "      <td>-0.400697</td>\n",
       "      <td>-0.283804</td>\n",
       "      <td>-1.188485</td>\n",
       "      <td>-0.929127</td>\n",
       "      <td>-1.775757</td>\n",
       "    </tr>\n",
       "  </tbody>\n",
       "</table>\n",
       "<p>5 rows × 23 columns</p>\n",
       "</div>"
      ],
      "text/plain": [
       "       station  Date  Present_Tmax  Present_Tmin  LDAPS_RHmin  LDAPS_RHmax  \\\n",
       "6889  1.076181   0.0     -2.182360     -2.216543    -2.639452    -1.377642   \n",
       "6890  1.194125   0.0     -2.341738     -2.356118    -2.071110    -0.762816   \n",
       "6891  1.310706   0.0     -2.128251     -2.459140    -2.416617    -1.315982   \n",
       "6892  1.425997   0.0     -2.128251     -2.251674    -2.711863    -1.472070   \n",
       "6893  1.540062   0.0     -2.155367     -2.356118    -2.837977    -1.476958   \n",
       "\n",
       "      LDAPS_Tmax_lapse  LDAPS_Tmin_lapse  LDAPS_WS  LDAPS_LH  ...  LDAPS_CC4  \\\n",
       "6889         -0.767070         -2.146391  0.041254 -2.024589  ...  -1.461486   \n",
       "6890         -1.158395         -2.300054 -0.526239  0.686508  ...  -1.347274   \n",
       "6891         -1.281677         -1.992271 -0.253098  0.420009  ...  -1.500036   \n",
       "6892         -1.051193         -2.006242  0.003890 -0.325306  ...  -1.500036   \n",
       "6893         -0.721865         -2.075358  0.431765 -2.061755  ...  -1.492993   \n",
       "\n",
       "      LDAPS_PPT1  LDAPS_PPT2  LDAPS_PPT3  LDAPS_PPT4       lat       lon  \\\n",
       "6889   -0.538255   -0.498268   -0.475132   -0.428118  0.140865  0.606546   \n",
       "6890   -0.538255   -0.498268   -0.475132   -0.428118 -0.672366  1.211215   \n",
       "6891   -0.538255   -0.498268   -0.475132   -0.428118 -0.129620 -1.246972   \n",
       "6892   -0.538255   -0.498268   -0.475132   -0.428118 -0.400697 -1.031307   \n",
       "6893   -0.538255   -0.498268   -0.475132   -0.428118 -0.400697 -0.283804   \n",
       "\n",
       "           DEM     Slope  Solar radiation  \n",
       "6889 -0.713196 -0.267842        -1.769822  \n",
       "6890 -0.999837 -1.353505        -1.787788  \n",
       "6891 -1.576839 -1.278278        -1.785890  \n",
       "6892 -1.397766 -1.068473        -1.792090  \n",
       "6893 -1.188485 -0.929127        -1.775757  \n",
       "\n",
       "[5 rows x 23 columns]"
      ]
     },
     "execution_count": 46,
     "metadata": {},
     "output_type": "execute_result"
    }
   ],
   "source": [
    "x.tail()"
   ]
  },
  {
   "cell_type": "code",
   "execution_count": 47,
   "metadata": {},
   "outputs": [],
   "source": [
    "y=df_new.iloc[:,23:25]"
   ]
  },
  {
   "cell_type": "code",
   "execution_count": 48,
   "metadata": {},
   "outputs": [
    {
     "data": {
      "text/html": [
       "<div>\n",
       "<style scoped>\n",
       "    .dataframe tbody tr th:only-of-type {\n",
       "        vertical-align: middle;\n",
       "    }\n",
       "\n",
       "    .dataframe tbody tr th {\n",
       "        vertical-align: top;\n",
       "    }\n",
       "\n",
       "    .dataframe thead th {\n",
       "        text-align: right;\n",
       "    }\n",
       "</style>\n",
       "<table border=\"1\" class=\"dataframe\">\n",
       "  <thead>\n",
       "    <tr style=\"text-align: right;\">\n",
       "      <th></th>\n",
       "      <th>Next_Tmax</th>\n",
       "      <th>Next_Tmin</th>\n",
       "    </tr>\n",
       "  </thead>\n",
       "  <tbody>\n",
       "    <tr>\n",
       "      <th>7745</th>\n",
       "      <td>27.6</td>\n",
       "      <td>17.7</td>\n",
       "    </tr>\n",
       "    <tr>\n",
       "      <th>7746</th>\n",
       "      <td>28.0</td>\n",
       "      <td>17.1</td>\n",
       "    </tr>\n",
       "    <tr>\n",
       "      <th>7747</th>\n",
       "      <td>28.3</td>\n",
       "      <td>18.1</td>\n",
       "    </tr>\n",
       "    <tr>\n",
       "      <th>7748</th>\n",
       "      <td>28.6</td>\n",
       "      <td>18.8</td>\n",
       "    </tr>\n",
       "    <tr>\n",
       "      <th>7749</th>\n",
       "      <td>27.8</td>\n",
       "      <td>17.4</td>\n",
       "    </tr>\n",
       "  </tbody>\n",
       "</table>\n",
       "</div>"
      ],
      "text/plain": [
       "      Next_Tmax  Next_Tmin\n",
       "7745       27.6       17.7\n",
       "7746       28.0       17.1\n",
       "7747       28.3       18.1\n",
       "7748       28.6       18.8\n",
       "7749       27.8       17.4"
      ]
     },
     "execution_count": 48,
     "metadata": {},
     "output_type": "execute_result"
    }
   ],
   "source": [
    "y.tail()"
   ]
  },
  {
   "cell_type": "markdown",
   "metadata": {},
   "source": [
    "## Finding the best Random_State"
   ]
  },
  {
   "cell_type": "code",
   "execution_count": 49,
   "metadata": {},
   "outputs": [
    {
     "name": "stdout",
     "output_type": "stream",
     "text": [
      "Best Score is 0.7849994824273832  on Random_state 127\n"
     ]
    }
   ],
   "source": [
    "from sklearn.linear_model import LinearRegression\n",
    "maxAccu=0 \n",
    "maxRS=0\n",
    "for i in range(1,200):\n",
    "    x_train,x_test,y_train,y_test=train_test_split(x,y,test_size=.30,random_state=i)\n",
    "    lm=LinearRegression()\n",
    "    lm.fit(x_train,y_train)\n",
    "    predrf=lm.predict(x_test)\n",
    "    acc=lm.score(x_train,y_train)\n",
    "    if acc>maxAccu:\n",
    "        maxAccu=acc\n",
    "        maxRS=i\n",
    "print(\"Best Score is\",maxAccu,\" on Random_state\",maxRS)"
   ]
  },
  {
   "cell_type": "markdown",
   "metadata": {},
   "source": [
    "## Creating train-test split"
   ]
  },
  {
   "cell_type": "code",
   "execution_count": 50,
   "metadata": {},
   "outputs": [],
   "source": [
    "x_train,x_test,y_train,y_test=train_test_split(x,y,test_size=.30,random_state=127)"
   ]
  },
  {
   "cell_type": "code",
   "execution_count": 51,
   "metadata": {},
   "outputs": [],
   "source": [
    "model=[LinearRegression(),DecisionTreeRegressor(),RandomForestRegressor()]"
   ]
  },
  {
   "cell_type": "code",
   "execution_count": 52,
   "metadata": {},
   "outputs": [
    {
     "name": "stdout",
     "output_type": "stream",
     "text": [
      "Mean squared error 1.7429171396658167\n",
      "Square root of Mean squared error 1.3201958717045803\n",
      "Mean absolute error 0.9941416635401397\n",
      "Print R2 score 0.7527679156301671\n",
      "\n",
      "\n",
      "Mean squared error 2.1661162046850193\n",
      "Square root of Mean squared error 1.471773149872296\n",
      "Mean absolute error 1.051562104169892\n",
      "Print R2 score 0.6904922711347943\n",
      "\n",
      "\n",
      "Mean squared error 0.91417335935523\n",
      "Square root of Mean squared error 0.9561241338629781\n",
      "Mean absolute error 0.712071569024012\n",
      "Print R2 score 0.8684062250820371\n",
      "\n",
      "\n"
     ]
    }
   ],
   "source": [
    "for m in model:\n",
    "    m.fit(x_train,y_train)\n",
    "    m.score(x_train,y_train)\n",
    "    predm=m.predict(x_test)\n",
    "    print('Mean squared error',mean_squared_error(y_test,predm))\n",
    "    print('Square root of Mean squared error',np.sqrt(mean_squared_error(y_test,predm)))\n",
    "    print('Mean absolute error',mean_absolute_error(y_test,predm))\n",
    "    print('Print R2 score',r2_score(y_test,predm)) \n",
    "    print('\\n')"
   ]
  },
  {
   "cell_type": "markdown",
   "metadata": {},
   "source": [
    "R2_score is highest in RandomForestRegressor"
   ]
  },
  {
   "cell_type": "markdown",
   "metadata": {},
   "source": [
    "## Cross validation"
   ]
  },
  {
   "cell_type": "code",
   "execution_count": 53,
   "metadata": {},
   "outputs": [],
   "source": [
    "lr=LinearRegression()\n",
    "dt=DecisionTreeRegressor()\n",
    "rf=RandomForestRegressor()"
   ]
  },
  {
   "cell_type": "code",
   "execution_count": 54,
   "metadata": {},
   "outputs": [],
   "source": [
    "from sklearn.model_selection import cross_val_score"
   ]
  },
  {
   "cell_type": "code",
   "execution_count": 55,
   "metadata": {},
   "outputs": [
    {
     "name": "stdout",
     "output_type": "stream",
     "text": [
      "0.7090508275267138\n"
     ]
    }
   ],
   "source": [
    "lrscores = cross_val_score(lr,x,y,cv=5)\n",
    "print(lrscores.mean())"
   ]
  },
  {
   "cell_type": "code",
   "execution_count": 56,
   "metadata": {},
   "outputs": [
    {
     "name": "stdout",
     "output_type": "stream",
     "text": [
      "0.40540663236845387\n"
     ]
    }
   ],
   "source": [
    "dtscores = cross_val_score(dt,x,y,cv=5)\n",
    "print(dtscores.mean())"
   ]
  },
  {
   "cell_type": "code",
   "execution_count": 57,
   "metadata": {},
   "outputs": [
    {
     "name": "stdout",
     "output_type": "stream",
     "text": [
      "0.6936944709265\n"
     ]
    }
   ],
   "source": [
    "rfscores = cross_val_score(rf,x,y,cv=5)\n",
    "print(rfscores.mean())"
   ]
  },
  {
   "cell_type": "markdown",
   "metadata": {},
   "source": [
    "Cross validation scores can be observed\n",
    "\n",
    "Minimum difference between r2_score and cross validation for Linear regression is the less that is 5"
   ]
  },
  {
   "cell_type": "markdown",
   "metadata": {},
   "source": [
    "## Hyper parameter Tunning"
   ]
  },
  {
   "cell_type": "code",
   "execution_count": 58,
   "metadata": {},
   "outputs": [],
   "source": [
    "from sklearn.model_selection import GridSearchCV"
   ]
  },
  {
   "cell_type": "code",
   "execution_count": 59,
   "metadata": {},
   "outputs": [
    {
     "data": {
      "text/plain": [
       "dict_keys(['copy_X', 'fit_intercept', 'n_jobs', 'normalize'])"
      ]
     },
     "execution_count": 59,
     "metadata": {},
     "output_type": "execute_result"
    }
   ],
   "source": [
    "LinearRegression().get_params().keys()"
   ]
  },
  {
   "cell_type": "code",
   "execution_count": 60,
   "metadata": {},
   "outputs": [],
   "source": [
    "parameters= {'n_jobs':np.arange(2,15),\n",
    "            'copy_X':['intercept_','coef_']}"
   ]
  },
  {
   "cell_type": "code",
   "execution_count": 61,
   "metadata": {},
   "outputs": [],
   "source": [
    "GCV=GridSearchCV(LinearRegression(),parameters,cv=5)"
   ]
  },
  {
   "cell_type": "code",
   "execution_count": 62,
   "metadata": {},
   "outputs": [
    {
     "data": {
      "text/plain": [
       "GridSearchCV(cv=5, estimator=LinearRegression(),\n",
       "             param_grid={'copy_X': ['intercept_', 'coef_'],\n",
       "                         'n_jobs': array([ 2,  3,  4,  5,  6,  7,  8,  9, 10, 11, 12, 13, 14])})"
      ]
     },
     "execution_count": 62,
     "metadata": {},
     "output_type": "execute_result"
    }
   ],
   "source": [
    "GCV.fit(x_train,y_train)"
   ]
  },
  {
   "cell_type": "code",
   "execution_count": 63,
   "metadata": {},
   "outputs": [
    {
     "data": {
      "text/plain": [
       "{'copy_X': 'intercept_', 'n_jobs': 2}"
      ]
     },
     "execution_count": 63,
     "metadata": {},
     "output_type": "execute_result"
    }
   ],
   "source": [
    "GCV.best_params_"
   ]
  },
  {
   "cell_type": "code",
   "execution_count": 64,
   "metadata": {},
   "outputs": [],
   "source": [
    "GCV_pred=GCV.best_estimator_.predict(x_test)\n"
   ]
  },
  {
   "cell_type": "code",
   "execution_count": 65,
   "metadata": {},
   "outputs": [
    {
     "data": {
      "text/plain": [
       "0.7527679156301671"
      ]
     },
     "execution_count": 65,
     "metadata": {},
     "output_type": "execute_result"
    }
   ],
   "source": [
    "r2_score(y_test,GCV_pred)"
   ]
  },
  {
   "cell_type": "markdown",
   "metadata": {},
   "source": [
    "## Saving the best Model"
   ]
  },
  {
   "cell_type": "code",
   "execution_count": 66,
   "metadata": {},
   "outputs": [
    {
     "data": {
      "text/plain": [
       "['Temperature Prediction.pkl']"
      ]
     },
     "execution_count": 66,
     "metadata": {},
     "output_type": "execute_result"
    }
   ],
   "source": [
    "import joblib\n",
    "joblib.dump(GCV.best_estimator_,\"Temperature Prediction.pkl\")"
   ]
  },
  {
   "cell_type": "code",
   "execution_count": 68,
   "metadata": {},
   "outputs": [],
   "source": [
    "mod=joblib.load('Temperature Prediction.pkl')"
   ]
  }
 ],
 "metadata": {
  "kernelspec": {
   "display_name": "Python 3",
   "language": "python",
   "name": "python3"
  },
  "language_info": {
   "codemirror_mode": {
    "name": "ipython",
    "version": 3
   },
   "file_extension": ".py",
   "mimetype": "text/x-python",
   "name": "python",
   "nbconvert_exporter": "python",
   "pygments_lexer": "ipython3",
   "version": "3.8.3"
  }
 },
 "nbformat": 4,
 "nbformat_minor": 4
}
